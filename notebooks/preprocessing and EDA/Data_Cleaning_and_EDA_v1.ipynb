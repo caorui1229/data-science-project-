{
 "cells": [
  {
   "cell_type": "markdown",
   "metadata": {},
   "source": [
    "# CrazyTaxi - Exploratory Data Analysis"
   ]
  },
  {
   "cell_type": "code",
   "execution_count": 1,
   "metadata": {},
   "outputs": [],
   "source": [
    "import pandas as pd\n",
    "import numpy as np\n",
    "import matplotlib.pyplot as plt\n",
    "import seaborn as sns"
   ]
  },
  {
   "cell_type": "code",
   "execution_count": 2,
   "metadata": {},
   "outputs": [
    {
     "name": "stdout",
     "output_type": "stream",
     "text": [
      "CPU times: user 8min 56s, sys: 4.99 s, total: 9min 1s\n",
      "Wall time: 9min 9s\n"
     ]
    }
   ],
   "source": [
    "%%time\n",
    "df = pd.read_csv(r'/Users/Shruti/Documents/Data Science/Final Project/Crazy Taxi/data/raw/2017_Green_Taxi_Trip_Data.csv', parse_dates=['lpep_pickup_datetime','lpep_dropoff_datetime'], infer_datetime_format=True)"
   ]
  },
  {
   "cell_type": "markdown",
   "metadata": {},
   "source": [
    "# Data Cleaning and Preparation"
   ]
  },
  {
   "cell_type": "code",
   "execution_count": 3,
   "metadata": {},
   "outputs": [
    {
     "data": {
      "text/plain": [
       "(2293365, 19)"
      ]
     },
     "execution_count": 3,
     "metadata": {},
     "output_type": "execute_result"
    }
   ],
   "source": [
    "df.shape"
   ]
  },
  {
   "cell_type": "code",
   "execution_count": 4,
   "metadata": {},
   "outputs": [
    {
     "data": {
      "text/plain": [
       "(2293365, 19)"
      ]
     },
     "execution_count": 4,
     "metadata": {},
     "output_type": "execute_result"
    }
   ],
   "source": [
    "# This means there are no duplicate records\n",
    "df.drop_duplicates()\n",
    "df.shape"
   ]
  },
  {
   "cell_type": "code",
   "execution_count": 5,
   "metadata": {},
   "outputs": [
    {
     "data": {
      "text/plain": [
       "VendorID                          int64\n",
       "lpep_pickup_datetime     datetime64[ns]\n",
       "lpep_dropoff_datetime    datetime64[ns]\n",
       "store_and_fwd_flag               object\n",
       "RatecodeID                        int64\n",
       "PULocationID                      int64\n",
       "DOLocationID                      int64\n",
       "passenger_count                   int64\n",
       "trip_distance                   float64\n",
       "fare_amount                     float64\n",
       "extra                           float64\n",
       "mta_tax                         float64\n",
       "tip_amount                      float64\n",
       "tolls_amount                    float64\n",
       "ehail_fee                       float64\n",
       "improvement_surcharge           float64\n",
       "total_amount                    float64\n",
       "payment_type                      int64\n",
       "trip_type                       float64\n",
       "dtype: object"
      ]
     },
     "execution_count": 5,
     "metadata": {},
     "output_type": "execute_result"
    }
   ],
   "source": [
    "df.dtypes"
   ]
  },
  {
   "cell_type": "code",
   "execution_count": 6,
   "metadata": {},
   "outputs": [
    {
     "data": {
      "text/plain": [
       "VendorID                       0\n",
       "lpep_pickup_datetime           0\n",
       "lpep_dropoff_datetime          0\n",
       "store_and_fwd_flag             0\n",
       "RatecodeID                     0\n",
       "PULocationID                   0\n",
       "DOLocationID                   0\n",
       "passenger_count                0\n",
       "trip_distance                  0\n",
       "fare_amount                    0\n",
       "extra                          0\n",
       "mta_tax                        0\n",
       "tip_amount                     0\n",
       "tolls_amount                   0\n",
       "ehail_fee                2293365\n",
       "improvement_surcharge          0\n",
       "total_amount                   0\n",
       "payment_type                   0\n",
       "trip_type                     27\n",
       "dtype: int64"
      ]
     },
     "execution_count": 6,
     "metadata": {},
     "output_type": "execute_result"
    }
   ],
   "source": [
    "# Checking for NULL values\n",
    "\n",
    "df.isnull().sum(axis=0)"
   ]
  },
  {
   "cell_type": "code",
   "execution_count": 7,
   "metadata": {},
   "outputs": [],
   "source": [
    "# Dropping unnecessary columns\n",
    "df = df.drop(['ehail_fee','store_and_fwd_flag','VendorID'], axis=1)"
   ]
  },
  {
   "cell_type": "code",
   "execution_count": 8,
   "metadata": {},
   "outputs": [
    {
     "data": {
      "text/html": [
       "<div>\n",
       "<style scoped>\n",
       "    .dataframe tbody tr th:only-of-type {\n",
       "        vertical-align: middle;\n",
       "    }\n",
       "\n",
       "    .dataframe tbody tr th {\n",
       "        vertical-align: top;\n",
       "    }\n",
       "\n",
       "    .dataframe thead th {\n",
       "        text-align: right;\n",
       "    }\n",
       "</style>\n",
       "<table border=\"1\" class=\"dataframe\">\n",
       "  <thead>\n",
       "    <tr style=\"text-align: right;\">\n",
       "      <th></th>\n",
       "      <th>lpep_pickup_datetime</th>\n",
       "      <th>lpep_dropoff_datetime</th>\n",
       "      <th>RatecodeID</th>\n",
       "      <th>PULocationID</th>\n",
       "      <th>DOLocationID</th>\n",
       "      <th>passenger_count</th>\n",
       "      <th>trip_distance</th>\n",
       "      <th>fare_amount</th>\n",
       "      <th>extra</th>\n",
       "      <th>mta_tax</th>\n",
       "      <th>tip_amount</th>\n",
       "      <th>tolls_amount</th>\n",
       "      <th>improvement_surcharge</th>\n",
       "      <th>total_amount</th>\n",
       "      <th>payment_type</th>\n",
       "      <th>trip_type</th>\n",
       "    </tr>\n",
       "  </thead>\n",
       "  <tbody>\n",
       "    <tr>\n",
       "      <th>0</th>\n",
       "      <td>2017-12-31 23:55:09</td>\n",
       "      <td>2017-12-31 23:59:14</td>\n",
       "      <td>1</td>\n",
       "      <td>17</td>\n",
       "      <td>61</td>\n",
       "      <td>1</td>\n",
       "      <td>1.1</td>\n",
       "      <td>5.5</td>\n",
       "      <td>0.5</td>\n",
       "      <td>0.5</td>\n",
       "      <td>0.00</td>\n",
       "      <td>0.0</td>\n",
       "      <td>0.3</td>\n",
       "      <td>6.80</td>\n",
       "      <td>2</td>\n",
       "      <td>1.0</td>\n",
       "    </tr>\n",
       "    <tr>\n",
       "      <th>1</th>\n",
       "      <td>2017-12-31 23:30:36</td>\n",
       "      <td>2017-12-31 23:37:20</td>\n",
       "      <td>1</td>\n",
       "      <td>61</td>\n",
       "      <td>49</td>\n",
       "      <td>1</td>\n",
       "      <td>1.1</td>\n",
       "      <td>6.5</td>\n",
       "      <td>0.5</td>\n",
       "      <td>0.5</td>\n",
       "      <td>0.00</td>\n",
       "      <td>0.0</td>\n",
       "      <td>0.3</td>\n",
       "      <td>7.80</td>\n",
       "      <td>2</td>\n",
       "      <td>1.0</td>\n",
       "    </tr>\n",
       "    <tr>\n",
       "      <th>2</th>\n",
       "      <td>2017-12-31 23:02:26</td>\n",
       "      <td>2017-12-31 23:19:37</td>\n",
       "      <td>1</td>\n",
       "      <td>228</td>\n",
       "      <td>188</td>\n",
       "      <td>1</td>\n",
       "      <td>4.1</td>\n",
       "      <td>15.5</td>\n",
       "      <td>0.5</td>\n",
       "      <td>0.5</td>\n",
       "      <td>3.35</td>\n",
       "      <td>0.0</td>\n",
       "      <td>0.3</td>\n",
       "      <td>20.15</td>\n",
       "      <td>1</td>\n",
       "      <td>1.0</td>\n",
       "    </tr>\n",
       "    <tr>\n",
       "      <th>3</th>\n",
       "      <td>2017-12-31 23:12:24</td>\n",
       "      <td>2017-12-31 23:16:55</td>\n",
       "      <td>1</td>\n",
       "      <td>228</td>\n",
       "      <td>26</td>\n",
       "      <td>1</td>\n",
       "      <td>0.8</td>\n",
       "      <td>5.0</td>\n",
       "      <td>0.5</td>\n",
       "      <td>0.5</td>\n",
       "      <td>0.00</td>\n",
       "      <td>0.0</td>\n",
       "      <td>0.3</td>\n",
       "      <td>6.30</td>\n",
       "      <td>2</td>\n",
       "      <td>1.0</td>\n",
       "    </tr>\n",
       "    <tr>\n",
       "      <th>4</th>\n",
       "      <td>2017-12-31 23:53:11</td>\n",
       "      <td>2017-12-31 23:55:40</td>\n",
       "      <td>1</td>\n",
       "      <td>225</td>\n",
       "      <td>225</td>\n",
       "      <td>1</td>\n",
       "      <td>0.5</td>\n",
       "      <td>4.0</td>\n",
       "      <td>0.5</td>\n",
       "      <td>0.5</td>\n",
       "      <td>0.00</td>\n",
       "      <td>0.0</td>\n",
       "      <td>0.3</td>\n",
       "      <td>5.30</td>\n",
       "      <td>2</td>\n",
       "      <td>1.0</td>\n",
       "    </tr>\n",
       "  </tbody>\n",
       "</table>\n",
       "</div>"
      ],
      "text/plain": [
       "  lpep_pickup_datetime lpep_dropoff_datetime  RatecodeID  PULocationID  \\\n",
       "0  2017-12-31 23:55:09   2017-12-31 23:59:14           1            17   \n",
       "1  2017-12-31 23:30:36   2017-12-31 23:37:20           1            61   \n",
       "2  2017-12-31 23:02:26   2017-12-31 23:19:37           1           228   \n",
       "3  2017-12-31 23:12:24   2017-12-31 23:16:55           1           228   \n",
       "4  2017-12-31 23:53:11   2017-12-31 23:55:40           1           225   \n",
       "\n",
       "   DOLocationID  passenger_count  trip_distance  fare_amount  extra  mta_tax  \\\n",
       "0            61                1            1.1          5.5    0.5      0.5   \n",
       "1            49                1            1.1          6.5    0.5      0.5   \n",
       "2           188                1            4.1         15.5    0.5      0.5   \n",
       "3            26                1            0.8          5.0    0.5      0.5   \n",
       "4           225                1            0.5          4.0    0.5      0.5   \n",
       "\n",
       "   tip_amount  tolls_amount  improvement_surcharge  total_amount  \\\n",
       "0        0.00           0.0                    0.3          6.80   \n",
       "1        0.00           0.0                    0.3          7.80   \n",
       "2        3.35           0.0                    0.3         20.15   \n",
       "3        0.00           0.0                    0.3          6.30   \n",
       "4        0.00           0.0                    0.3          5.30   \n",
       "\n",
       "   payment_type  trip_type  \n",
       "0             2        1.0  \n",
       "1             2        1.0  \n",
       "2             1        1.0  \n",
       "3             2        1.0  \n",
       "4             2        1.0  "
      ]
     },
     "execution_count": 8,
     "metadata": {},
     "output_type": "execute_result"
    }
   ],
   "source": [
    "df.head()"
   ]
  },
  {
   "cell_type": "code",
   "execution_count": 9,
   "metadata": {},
   "outputs": [
    {
     "name": "stdout",
     "output_type": "stream",
     "text": [
      "Records with fare_amount 0 :(20704, 16)\n",
      "minimum pickup date 2017-01-01 00:00:27\n",
      "maximum pickup date 2017-12-31 23:59:50\n",
      "minimum dropoff date 2017-01-01 00:03:16\n",
      "maximum dropoff date 2018-01-01 00:33:59\n",
      "Minimun time taken for the trip -2 days +08:03:55\n",
      "Maximum time taken for the trip 1 days 15:19:20\n"
     ]
    }
   ],
   "source": [
    "print(\"Records with fare_amount 0 :\" + str(df.loc[df['fare_amount'] == 0].shape))\n",
    "print(\"minimum pickup date \" + str(min(df['lpep_pickup_datetime'])))\n",
    "print(\"maximum pickup date \" + str(max(df['lpep_pickup_datetime'])))\n",
    "print(\"minimum dropoff date \" + str(min(df['lpep_dropoff_datetime'])))\n",
    "print(\"maximum dropoff date \" + str(max(df['lpep_dropoff_datetime'])))\n",
    "print(\"Minimun time taken for the trip \" + str(min(df['lpep_dropoff_datetime']-df['lpep_pickup_datetime'])))\n",
    "print(\"Maximum time taken for the trip \" + str(max(df['lpep_dropoff_datetime']-df['lpep_pickup_datetime'])))"
   ]
  },
  {
   "cell_type": "code",
   "execution_count": 10,
   "metadata": {},
   "outputs": [
    {
     "name": "stdout",
     "output_type": "stream",
     "text": [
      "dropoff time < 1s :(4340, 16)\n"
     ]
    },
    {
     "data": {
      "text/html": [
       "<div>\n",
       "<style scoped>\n",
       "    .dataframe tbody tr th:only-of-type {\n",
       "        vertical-align: middle;\n",
       "    }\n",
       "\n",
       "    .dataframe tbody tr th {\n",
       "        vertical-align: top;\n",
       "    }\n",
       "\n",
       "    .dataframe thead th {\n",
       "        text-align: right;\n",
       "    }\n",
       "</style>\n",
       "<table border=\"1\" class=\"dataframe\">\n",
       "  <thead>\n",
       "    <tr style=\"text-align: right;\">\n",
       "      <th></th>\n",
       "      <th>lpep_pickup_datetime</th>\n",
       "      <th>lpep_dropoff_datetime</th>\n",
       "      <th>RatecodeID</th>\n",
       "      <th>PULocationID</th>\n",
       "      <th>DOLocationID</th>\n",
       "      <th>passenger_count</th>\n",
       "      <th>trip_distance</th>\n",
       "      <th>fare_amount</th>\n",
       "      <th>extra</th>\n",
       "      <th>mta_tax</th>\n",
       "      <th>tip_amount</th>\n",
       "      <th>tolls_amount</th>\n",
       "      <th>improvement_surcharge</th>\n",
       "      <th>total_amount</th>\n",
       "      <th>payment_type</th>\n",
       "      <th>trip_type</th>\n",
       "    </tr>\n",
       "  </thead>\n",
       "  <tbody>\n",
       "    <tr>\n",
       "      <th>830</th>\n",
       "      <td>2017-12-31 20:44:28</td>\n",
       "      <td>2017-12-31 20:44:28</td>\n",
       "      <td>1</td>\n",
       "      <td>42</td>\n",
       "      <td>264</td>\n",
       "      <td>5</td>\n",
       "      <td>0.0</td>\n",
       "      <td>9.0</td>\n",
       "      <td>0.5</td>\n",
       "      <td>0.5</td>\n",
       "      <td>0.0</td>\n",
       "      <td>0.0</td>\n",
       "      <td>0.3</td>\n",
       "      <td>10.3</td>\n",
       "      <td>2</td>\n",
       "      <td>1.0</td>\n",
       "    </tr>\n",
       "    <tr>\n",
       "      <th>2163</th>\n",
       "      <td>2017-12-31 16:35:31</td>\n",
       "      <td>2017-12-31 16:35:31</td>\n",
       "      <td>1</td>\n",
       "      <td>167</td>\n",
       "      <td>264</td>\n",
       "      <td>2</td>\n",
       "      <td>0.0</td>\n",
       "      <td>2.5</td>\n",
       "      <td>0.0</td>\n",
       "      <td>0.5</td>\n",
       "      <td>0.0</td>\n",
       "      <td>0.0</td>\n",
       "      <td>0.3</td>\n",
       "      <td>3.3</td>\n",
       "      <td>2</td>\n",
       "      <td>1.0</td>\n",
       "    </tr>\n",
       "    <tr>\n",
       "      <th>3090</th>\n",
       "      <td>2017-12-31 13:59:41</td>\n",
       "      <td>2017-12-31 13:59:41</td>\n",
       "      <td>1</td>\n",
       "      <td>116</td>\n",
       "      <td>264</td>\n",
       "      <td>1</td>\n",
       "      <td>0.0</td>\n",
       "      <td>18.5</td>\n",
       "      <td>0.0</td>\n",
       "      <td>0.5</td>\n",
       "      <td>0.0</td>\n",
       "      <td>0.0</td>\n",
       "      <td>0.3</td>\n",
       "      <td>19.3</td>\n",
       "      <td>2</td>\n",
       "      <td>1.0</td>\n",
       "    </tr>\n",
       "    <tr>\n",
       "      <th>3123</th>\n",
       "      <td>2017-12-31 13:27:38</td>\n",
       "      <td>2017-12-31 13:27:38</td>\n",
       "      <td>1</td>\n",
       "      <td>242</td>\n",
       "      <td>264</td>\n",
       "      <td>1</td>\n",
       "      <td>0.0</td>\n",
       "      <td>10.5</td>\n",
       "      <td>0.0</td>\n",
       "      <td>0.5</td>\n",
       "      <td>0.0</td>\n",
       "      <td>0.0</td>\n",
       "      <td>0.3</td>\n",
       "      <td>11.3</td>\n",
       "      <td>2</td>\n",
       "      <td>1.0</td>\n",
       "    </tr>\n",
       "    <tr>\n",
       "      <th>4450</th>\n",
       "      <td>2017-12-31 10:00:42</td>\n",
       "      <td>2017-12-31 10:00:42</td>\n",
       "      <td>1</td>\n",
       "      <td>41</td>\n",
       "      <td>264</td>\n",
       "      <td>1</td>\n",
       "      <td>0.0</td>\n",
       "      <td>13.5</td>\n",
       "      <td>0.0</td>\n",
       "      <td>0.5</td>\n",
       "      <td>0.0</td>\n",
       "      <td>0.0</td>\n",
       "      <td>0.3</td>\n",
       "      <td>14.3</td>\n",
       "      <td>2</td>\n",
       "      <td>1.0</td>\n",
       "    </tr>\n",
       "  </tbody>\n",
       "</table>\n",
       "</div>"
      ],
      "text/plain": [
       "     lpep_pickup_datetime lpep_dropoff_datetime  RatecodeID  PULocationID  \\\n",
       "830   2017-12-31 20:44:28   2017-12-31 20:44:28           1            42   \n",
       "2163  2017-12-31 16:35:31   2017-12-31 16:35:31           1           167   \n",
       "3090  2017-12-31 13:59:41   2017-12-31 13:59:41           1           116   \n",
       "3123  2017-12-31 13:27:38   2017-12-31 13:27:38           1           242   \n",
       "4450  2017-12-31 10:00:42   2017-12-31 10:00:42           1            41   \n",
       "\n",
       "      DOLocationID  passenger_count  trip_distance  fare_amount  extra  \\\n",
       "830            264                5            0.0          9.0    0.5   \n",
       "2163           264                2            0.0          2.5    0.0   \n",
       "3090           264                1            0.0         18.5    0.0   \n",
       "3123           264                1            0.0         10.5    0.0   \n",
       "4450           264                1            0.0         13.5    0.0   \n",
       "\n",
       "      mta_tax  tip_amount  tolls_amount  improvement_surcharge  total_amount  \\\n",
       "830       0.5         0.0           0.0                    0.3          10.3   \n",
       "2163      0.5         0.0           0.0                    0.3           3.3   \n",
       "3090      0.5         0.0           0.0                    0.3          19.3   \n",
       "3123      0.5         0.0           0.0                    0.3          11.3   \n",
       "4450      0.5         0.0           0.0                    0.3          14.3   \n",
       "\n",
       "      payment_type  trip_type  \n",
       "830              2        1.0  \n",
       "2163             2        1.0  \n",
       "3090             2        1.0  \n",
       "3123             2        1.0  \n",
       "4450             2        1.0  "
      ]
     },
     "execution_count": 10,
     "metadata": {},
     "output_type": "execute_result"
    }
   ],
   "source": [
    "from datetime import timedelta\n",
    "print(\"dropoff time < 1s :\" + str(df[df['lpep_dropoff_datetime']-df['lpep_pickup_datetime'] < timedelta(seconds=1)].shape))\n",
    "df[df['lpep_dropoff_datetime']-df['lpep_pickup_datetime'] < timedelta(seconds=1)].head()"
   ]
  },
  {
   "cell_type": "code",
   "execution_count": 11,
   "metadata": {},
   "outputs": [
    {
     "name": "stdout",
     "output_type": "stream",
     "text": [
      "Min Passanger :0\n",
      "Max Passanger :9\n"
     ]
    }
   ],
   "source": [
    "print(\"Min Passanger :\" + str(min(df['passenger_count'])))\n",
    "print(\"Max Passanger :\" + str(max(df['passenger_count'])))"
   ]
  },
  {
   "cell_type": "code",
   "execution_count": 12,
   "metadata": {},
   "outputs": [
    {
     "name": "stdout",
     "output_type": "stream",
     "text": [
      "Min Trip Distance :0.0\n",
      "Max Trip Distance :640.0\n"
     ]
    }
   ],
   "source": [
    "print(\"Min Trip Distance :\" + str(min(df['trip_distance'])))\n",
    "print(\"Max Trip Distance :\" + str(max(df['trip_distance'])))"
   ]
  },
  {
   "cell_type": "code",
   "execution_count": 13,
   "metadata": {},
   "outputs": [
    {
     "name": "stdout",
     "output_type": "stream",
     "text": [
      "Min fare_amount :0.0\n",
      "Max fare_amount :6003.5\n"
     ]
    }
   ],
   "source": [
    "print(\"Min fare_amount :\" + str(min(df['fare_amount'])))\n",
    "print(\"Max fare_amount :\" + str(max(df['fare_amount'])))"
   ]
  },
  {
   "cell_type": "code",
   "execution_count": 14,
   "metadata": {},
   "outputs": [
    {
     "name": "stdout",
     "output_type": "stream",
     "text": [
      "Min extra :-0.67\n",
      "Max extra :30.0\n",
      "Extra < 0(2, 16)\n"
     ]
    }
   ],
   "source": [
    "print(\"Min extra :\" + str(min(df['extra'])))\n",
    "print(\"Max extra :\" + str(max(df['extra'])))\n",
    "print(\"Extra < 0\" + str(df[df['extra'] < 0].shape))"
   ]
  },
  {
   "cell_type": "code",
   "execution_count": 15,
   "metadata": {},
   "outputs": [
    {
     "name": "stdout",
     "output_type": "stream",
     "text": [
      "Min mta_tax :0.0\n",
      "Max mta_tax :0.83\n",
      "mta_tax < 0(0, 16)\n"
     ]
    }
   ],
   "source": [
    "print(\"Min mta_tax :\" + str(min(df['mta_tax'])))\n",
    "print(\"Max mta_tax :\" + str(max(df['mta_tax'])))\n",
    "print(\"mta_tax < 0\" + str(df[df['mta_tax'] < 0].shape))"
   ]
  },
  {
   "cell_type": "code",
   "execution_count": 16,
   "metadata": {},
   "outputs": [
    {
     "name": "stdout",
     "output_type": "stream",
     "text": [
      "Min tip_amount :0.0\n",
      "Max tip_amount :449.56\n",
      "tip_amount < 0(0, 16)\n"
     ]
    }
   ],
   "source": [
    "print(\"Min tip_amount :\" + str(min(df['tip_amount'])))\n",
    "print(\"Max tip_amount :\" + str(max(df['tip_amount'])))\n",
    "print(\"tip_amount < 0\" + str(df[df['tip_amount'] < 0].shape))"
   ]
  },
  {
   "cell_type": "code",
   "execution_count": 17,
   "metadata": {},
   "outputs": [
    {
     "name": "stdout",
     "output_type": "stream",
     "text": [
      "Min tolls_amount :0.0\n",
      "Max tolls_amount :7999.92\n"
     ]
    },
    {
     "data": {
      "text/html": [
       "<div>\n",
       "<style scoped>\n",
       "    .dataframe tbody tr th:only-of-type {\n",
       "        vertical-align: middle;\n",
       "    }\n",
       "\n",
       "    .dataframe tbody tr th {\n",
       "        vertical-align: top;\n",
       "    }\n",
       "\n",
       "    .dataframe thead th {\n",
       "        text-align: right;\n",
       "    }\n",
       "</style>\n",
       "<table border=\"1\" class=\"dataframe\">\n",
       "  <thead>\n",
       "    <tr style=\"text-align: right;\">\n",
       "      <th></th>\n",
       "      <th>lpep_pickup_datetime</th>\n",
       "      <th>lpep_dropoff_datetime</th>\n",
       "      <th>RatecodeID</th>\n",
       "      <th>PULocationID</th>\n",
       "      <th>DOLocationID</th>\n",
       "      <th>passenger_count</th>\n",
       "      <th>trip_distance</th>\n",
       "      <th>fare_amount</th>\n",
       "      <th>extra</th>\n",
       "      <th>mta_tax</th>\n",
       "      <th>tip_amount</th>\n",
       "      <th>tolls_amount</th>\n",
       "      <th>improvement_surcharge</th>\n",
       "      <th>total_amount</th>\n",
       "      <th>payment_type</th>\n",
       "      <th>trip_type</th>\n",
       "    </tr>\n",
       "  </thead>\n",
       "  <tbody>\n",
       "    <tr>\n",
       "      <th>870084</th>\n",
       "      <td>2017-07-23 00:58:04</td>\n",
       "      <td>2017-07-23 00:58:04</td>\n",
       "      <td>1</td>\n",
       "      <td>41</td>\n",
       "      <td>264</td>\n",
       "      <td>1</td>\n",
       "      <td>0.0</td>\n",
       "      <td>6.50</td>\n",
       "      <td>0.5</td>\n",
       "      <td>0.5</td>\n",
       "      <td>0.0</td>\n",
       "      <td>850.00</td>\n",
       "      <td>0.3</td>\n",
       "      <td>857.80</td>\n",
       "      <td>2</td>\n",
       "      <td>1.0</td>\n",
       "    </tr>\n",
       "    <tr>\n",
       "      <th>1659616</th>\n",
       "      <td>2017-03-28 15:32:05</td>\n",
       "      <td>2017-03-28 15:34:40</td>\n",
       "      <td>5</td>\n",
       "      <td>199</td>\n",
       "      <td>199</td>\n",
       "      <td>1</td>\n",
       "      <td>0.0</td>\n",
       "      <td>999.99</td>\n",
       "      <td>0.0</td>\n",
       "      <td>0.0</td>\n",
       "      <td>0.0</td>\n",
       "      <td>7999.92</td>\n",
       "      <td>0.0</td>\n",
       "      <td>8999.91</td>\n",
       "      <td>2</td>\n",
       "      <td>2.0</td>\n",
       "    </tr>\n",
       "    <tr>\n",
       "      <th>1883979</th>\n",
       "      <td>2017-02-26 21:57:49</td>\n",
       "      <td>2017-02-26 21:58:40</td>\n",
       "      <td>1</td>\n",
       "      <td>75</td>\n",
       "      <td>75</td>\n",
       "      <td>1</td>\n",
       "      <td>3.1</td>\n",
       "      <td>2.50</td>\n",
       "      <td>0.5</td>\n",
       "      <td>0.5</td>\n",
       "      <td>0.0</td>\n",
       "      <td>795.54</td>\n",
       "      <td>0.3</td>\n",
       "      <td>799.34</td>\n",
       "      <td>4</td>\n",
       "      <td>1.0</td>\n",
       "    </tr>\n",
       "    <tr>\n",
       "      <th>1901263</th>\n",
       "      <td>2017-02-24 21:23:51</td>\n",
       "      <td>2017-02-24 21:26:16</td>\n",
       "      <td>1</td>\n",
       "      <td>74</td>\n",
       "      <td>42</td>\n",
       "      <td>1</td>\n",
       "      <td>0.3</td>\n",
       "      <td>3.50</td>\n",
       "      <td>0.5</td>\n",
       "      <td>0.5</td>\n",
       "      <td>0.0</td>\n",
       "      <td>795.54</td>\n",
       "      <td>0.3</td>\n",
       "      <td>800.34</td>\n",
       "      <td>4</td>\n",
       "      <td>1.0</td>\n",
       "    </tr>\n",
       "    <tr>\n",
       "      <th>1919026</th>\n",
       "      <td>2017-02-22 16:25:27</td>\n",
       "      <td>2017-02-22 16:32:43</td>\n",
       "      <td>1</td>\n",
       "      <td>159</td>\n",
       "      <td>168</td>\n",
       "      <td>1</td>\n",
       "      <td>1.3</td>\n",
       "      <td>7.00</td>\n",
       "      <td>1.0</td>\n",
       "      <td>0.5</td>\n",
       "      <td>0.0</td>\n",
       "      <td>795.54</td>\n",
       "      <td>0.3</td>\n",
       "      <td>804.34</td>\n",
       "      <td>4</td>\n",
       "      <td>1.0</td>\n",
       "    </tr>\n",
       "    <tr>\n",
       "      <th>1923362</th>\n",
       "      <td>2017-02-21 20:42:55</td>\n",
       "      <td>2017-02-21 20:47:49</td>\n",
       "      <td>1</td>\n",
       "      <td>159</td>\n",
       "      <td>74</td>\n",
       "      <td>1</td>\n",
       "      <td>1.1</td>\n",
       "      <td>6.00</td>\n",
       "      <td>0.5</td>\n",
       "      <td>0.5</td>\n",
       "      <td>0.0</td>\n",
       "      <td>795.54</td>\n",
       "      <td>0.3</td>\n",
       "      <td>802.84</td>\n",
       "      <td>2</td>\n",
       "      <td>1.0</td>\n",
       "    </tr>\n",
       "    <tr>\n",
       "      <th>1926374</th>\n",
       "      <td>2017-02-21 11:28:16</td>\n",
       "      <td>2017-02-21 12:06:06</td>\n",
       "      <td>1</td>\n",
       "      <td>255</td>\n",
       "      <td>186</td>\n",
       "      <td>2</td>\n",
       "      <td>4.8</td>\n",
       "      <td>25.00</td>\n",
       "      <td>0.0</td>\n",
       "      <td>0.5</td>\n",
       "      <td>0.0</td>\n",
       "      <td>605.55</td>\n",
       "      <td>0.3</td>\n",
       "      <td>631.35</td>\n",
       "      <td>4</td>\n",
       "      <td>1.0</td>\n",
       "    </tr>\n",
       "    <tr>\n",
       "      <th>1929013</th>\n",
       "      <td>2017-02-20 21:21:14</td>\n",
       "      <td>2017-02-20 21:28:35</td>\n",
       "      <td>1</td>\n",
       "      <td>74</td>\n",
       "      <td>42</td>\n",
       "      <td>1</td>\n",
       "      <td>1.4</td>\n",
       "      <td>7.50</td>\n",
       "      <td>0.5</td>\n",
       "      <td>0.5</td>\n",
       "      <td>0.0</td>\n",
       "      <td>795.54</td>\n",
       "      <td>0.3</td>\n",
       "      <td>804.34</td>\n",
       "      <td>4</td>\n",
       "      <td>1.0</td>\n",
       "    </tr>\n",
       "    <tr>\n",
       "      <th>1940746</th>\n",
       "      <td>2017-02-19 02:52:02</td>\n",
       "      <td>2017-02-19 03:17:07</td>\n",
       "      <td>1</td>\n",
       "      <td>41</td>\n",
       "      <td>244</td>\n",
       "      <td>1</td>\n",
       "      <td>4.1</td>\n",
       "      <td>20.50</td>\n",
       "      <td>0.5</td>\n",
       "      <td>0.5</td>\n",
       "      <td>0.0</td>\n",
       "      <td>1591.08</td>\n",
       "      <td>0.3</td>\n",
       "      <td>1612.88</td>\n",
       "      <td>2</td>\n",
       "      <td>1.0</td>\n",
       "    </tr>\n",
       "    <tr>\n",
       "      <th>2014041</th>\n",
       "      <td>2017-02-09 22:55:55</td>\n",
       "      <td>2017-02-09 23:17:16</td>\n",
       "      <td>1</td>\n",
       "      <td>255</td>\n",
       "      <td>261</td>\n",
       "      <td>1</td>\n",
       "      <td>8.2</td>\n",
       "      <td>26.00</td>\n",
       "      <td>0.5</td>\n",
       "      <td>0.5</td>\n",
       "      <td>0.0</td>\n",
       "      <td>554.09</td>\n",
       "      <td>0.3</td>\n",
       "      <td>581.39</td>\n",
       "      <td>2</td>\n",
       "      <td>1.0</td>\n",
       "    </tr>\n",
       "  </tbody>\n",
       "</table>\n",
       "</div>"
      ],
      "text/plain": [
       "        lpep_pickup_datetime lpep_dropoff_datetime  RatecodeID  PULocationID  \\\n",
       "870084   2017-07-23 00:58:04   2017-07-23 00:58:04           1            41   \n",
       "1659616  2017-03-28 15:32:05   2017-03-28 15:34:40           5           199   \n",
       "1883979  2017-02-26 21:57:49   2017-02-26 21:58:40           1            75   \n",
       "1901263  2017-02-24 21:23:51   2017-02-24 21:26:16           1            74   \n",
       "1919026  2017-02-22 16:25:27   2017-02-22 16:32:43           1           159   \n",
       "1923362  2017-02-21 20:42:55   2017-02-21 20:47:49           1           159   \n",
       "1926374  2017-02-21 11:28:16   2017-02-21 12:06:06           1           255   \n",
       "1929013  2017-02-20 21:21:14   2017-02-20 21:28:35           1            74   \n",
       "1940746  2017-02-19 02:52:02   2017-02-19 03:17:07           1            41   \n",
       "2014041  2017-02-09 22:55:55   2017-02-09 23:17:16           1           255   \n",
       "\n",
       "         DOLocationID  passenger_count  trip_distance  fare_amount  extra  \\\n",
       "870084            264                1            0.0         6.50    0.5   \n",
       "1659616           199                1            0.0       999.99    0.0   \n",
       "1883979            75                1            3.1         2.50    0.5   \n",
       "1901263            42                1            0.3         3.50    0.5   \n",
       "1919026           168                1            1.3         7.00    1.0   \n",
       "1923362            74                1            1.1         6.00    0.5   \n",
       "1926374           186                2            4.8        25.00    0.0   \n",
       "1929013            42                1            1.4         7.50    0.5   \n",
       "1940746           244                1            4.1        20.50    0.5   \n",
       "2014041           261                1            8.2        26.00    0.5   \n",
       "\n",
       "         mta_tax  tip_amount  tolls_amount  improvement_surcharge  \\\n",
       "870084       0.5         0.0        850.00                    0.3   \n",
       "1659616      0.0         0.0       7999.92                    0.0   \n",
       "1883979      0.5         0.0        795.54                    0.3   \n",
       "1901263      0.5         0.0        795.54                    0.3   \n",
       "1919026      0.5         0.0        795.54                    0.3   \n",
       "1923362      0.5         0.0        795.54                    0.3   \n",
       "1926374      0.5         0.0        605.55                    0.3   \n",
       "1929013      0.5         0.0        795.54                    0.3   \n",
       "1940746      0.5         0.0       1591.08                    0.3   \n",
       "2014041      0.5         0.0        554.09                    0.3   \n",
       "\n",
       "         total_amount  payment_type  trip_type  \n",
       "870084         857.80             2        1.0  \n",
       "1659616       8999.91             2        2.0  \n",
       "1883979        799.34             4        1.0  \n",
       "1901263        800.34             4        1.0  \n",
       "1919026        804.34             4        1.0  \n",
       "1923362        802.84             2        1.0  \n",
       "1926374        631.35             4        1.0  \n",
       "1929013        804.34             4        1.0  \n",
       "1940746       1612.88             2        1.0  \n",
       "2014041        581.39             2        1.0  "
      ]
     },
     "execution_count": 17,
     "metadata": {},
     "output_type": "execute_result"
    }
   ],
   "source": [
    "print(\"Min tolls_amount :\" + str(min(df['tolls_amount'])))\n",
    "print(\"Max tolls_amount :\" + str(max(df['tolls_amount'])))\n",
    "df[df['tolls_amount'] > 500].head(10)"
   ]
  },
  {
   "cell_type": "code",
   "execution_count": 18,
   "metadata": {},
   "outputs": [
    {
     "name": "stdout",
     "output_type": "stream",
     "text": [
      "Min improvement_surcharge :0.0\n",
      "Max improvement_surcharge :0.3\n",
      "improvement_surcharge < 0(0, 16)\n"
     ]
    }
   ],
   "source": [
    "print(\"Min improvement_surcharge :\" + str(min(df['improvement_surcharge'])))\n",
    "print(\"Max improvement_surcharge :\" + str(max(df['improvement_surcharge'])))\n",
    "print(\"improvement_surcharge < 0\" + str(df[df['improvement_surcharge'] < 0].shape))"
   ]
  },
  {
   "cell_type": "code",
   "execution_count": 19,
   "metadata": {},
   "outputs": [
    {
     "name": "stdout",
     "output_type": "stream",
     "text": [
      "Min total_amount :0.0\n",
      "Max total_amount :8999.91\n",
      "total_amount > 500(19, 16)\n"
     ]
    }
   ],
   "source": [
    "print(\"Min total_amount :\" + str(min(df['total_amount'])))\n",
    "print(\"Max total_amount :\" + str(max(df['total_amount'])))\n",
    "print(\"total_amount > 500\" + str(df[df['total_amount'] > 500].shape))\n",
    "#df[df['total_amount'] > 500]"
   ]
  },
  {
   "cell_type": "code",
   "execution_count": 20,
   "metadata": {},
   "outputs": [
    {
     "data": {
      "text/html": [
       "<div>\n",
       "<style scoped>\n",
       "    .dataframe tbody tr th:only-of-type {\n",
       "        vertical-align: middle;\n",
       "    }\n",
       "\n",
       "    .dataframe tbody tr th {\n",
       "        vertical-align: top;\n",
       "    }\n",
       "\n",
       "    .dataframe thead th {\n",
       "        text-align: right;\n",
       "    }\n",
       "</style>\n",
       "<table border=\"1\" class=\"dataframe\">\n",
       "  <thead>\n",
       "    <tr style=\"text-align: right;\">\n",
       "      <th></th>\n",
       "      <th>lpep_pickup_datetime</th>\n",
       "      <th>lpep_dropoff_datetime</th>\n",
       "      <th>RatecodeID</th>\n",
       "      <th>PULocationID</th>\n",
       "      <th>DOLocationID</th>\n",
       "      <th>passenger_count</th>\n",
       "      <th>trip_distance</th>\n",
       "      <th>fare_amount</th>\n",
       "      <th>extra</th>\n",
       "      <th>mta_tax</th>\n",
       "      <th>tip_amount</th>\n",
       "      <th>tolls_amount</th>\n",
       "      <th>improvement_surcharge</th>\n",
       "      <th>total_amount</th>\n",
       "      <th>payment_type</th>\n",
       "      <th>trip_type</th>\n",
       "    </tr>\n",
       "  </thead>\n",
       "  <tbody>\n",
       "    <tr>\n",
       "      <th>2</th>\n",
       "      <td>2017-12-31 23:02:26</td>\n",
       "      <td>2017-12-31 23:19:37</td>\n",
       "      <td>1</td>\n",
       "      <td>228</td>\n",
       "      <td>188</td>\n",
       "      <td>1</td>\n",
       "      <td>4.1</td>\n",
       "      <td>15.5</td>\n",
       "      <td>0.5</td>\n",
       "      <td>0.5</td>\n",
       "      <td>3.35</td>\n",
       "      <td>0.0</td>\n",
       "      <td>0.3</td>\n",
       "      <td>20.15</td>\n",
       "      <td>1</td>\n",
       "      <td>1.0</td>\n",
       "    </tr>\n",
       "    <tr>\n",
       "      <th>38</th>\n",
       "      <td>2017-12-31 23:58:16</td>\n",
       "      <td>2018-01-01 00:15:22</td>\n",
       "      <td>1</td>\n",
       "      <td>80</td>\n",
       "      <td>125</td>\n",
       "      <td>1</td>\n",
       "      <td>6.1</td>\n",
       "      <td>20.0</td>\n",
       "      <td>0.5</td>\n",
       "      <td>0.5</td>\n",
       "      <td>6.35</td>\n",
       "      <td>0.0</td>\n",
       "      <td>0.3</td>\n",
       "      <td>27.65</td>\n",
       "      <td>1</td>\n",
       "      <td>1.0</td>\n",
       "    </tr>\n",
       "    <tr>\n",
       "      <th>49</th>\n",
       "      <td>2017-12-31 23:35:15</td>\n",
       "      <td>2017-12-31 23:46:33</td>\n",
       "      <td>1</td>\n",
       "      <td>225</td>\n",
       "      <td>61</td>\n",
       "      <td>1</td>\n",
       "      <td>1.8</td>\n",
       "      <td>9.5</td>\n",
       "      <td>0.5</td>\n",
       "      <td>0.5</td>\n",
       "      <td>2.15</td>\n",
       "      <td>0.0</td>\n",
       "      <td>0.3</td>\n",
       "      <td>12.95</td>\n",
       "      <td>1</td>\n",
       "      <td>1.0</td>\n",
       "    </tr>\n",
       "    <tr>\n",
       "      <th>60</th>\n",
       "      <td>2017-12-31 23:03:06</td>\n",
       "      <td>2017-12-31 23:08:11</td>\n",
       "      <td>1</td>\n",
       "      <td>75</td>\n",
       "      <td>237</td>\n",
       "      <td>2</td>\n",
       "      <td>1.5</td>\n",
       "      <td>6.5</td>\n",
       "      <td>0.5</td>\n",
       "      <td>0.5</td>\n",
       "      <td>1.55</td>\n",
       "      <td>0.0</td>\n",
       "      <td>0.3</td>\n",
       "      <td>9.35</td>\n",
       "      <td>1</td>\n",
       "      <td>1.0</td>\n",
       "    </tr>\n",
       "    <tr>\n",
       "      <th>94</th>\n",
       "      <td>2017-12-31 23:56:40</td>\n",
       "      <td>2018-01-01 00:03:19</td>\n",
       "      <td>1</td>\n",
       "      <td>74</td>\n",
       "      <td>74</td>\n",
       "      <td>1</td>\n",
       "      <td>0.9</td>\n",
       "      <td>6.0</td>\n",
       "      <td>0.5</td>\n",
       "      <td>0.5</td>\n",
       "      <td>1.80</td>\n",
       "      <td>0.0</td>\n",
       "      <td>0.3</td>\n",
       "      <td>9.10</td>\n",
       "      <td>1</td>\n",
       "      <td>1.0</td>\n",
       "    </tr>\n",
       "  </tbody>\n",
       "</table>\n",
       "</div>"
      ],
      "text/plain": [
       "   lpep_pickup_datetime lpep_dropoff_datetime  RatecodeID  PULocationID  \\\n",
       "2   2017-12-31 23:02:26   2017-12-31 23:19:37           1           228   \n",
       "38  2017-12-31 23:58:16   2018-01-01 00:15:22           1            80   \n",
       "49  2017-12-31 23:35:15   2017-12-31 23:46:33           1           225   \n",
       "60  2017-12-31 23:03:06   2017-12-31 23:08:11           1            75   \n",
       "94  2017-12-31 23:56:40   2018-01-01 00:03:19           1            74   \n",
       "\n",
       "    DOLocationID  passenger_count  trip_distance  fare_amount  extra  mta_tax  \\\n",
       "2            188                1            4.1         15.5    0.5      0.5   \n",
       "38           125                1            6.1         20.0    0.5      0.5   \n",
       "49            61                1            1.8          9.5    0.5      0.5   \n",
       "60           237                2            1.5          6.5    0.5      0.5   \n",
       "94            74                1            0.9          6.0    0.5      0.5   \n",
       "\n",
       "    tip_amount  tolls_amount  improvement_surcharge  total_amount  \\\n",
       "2         3.35           0.0                    0.3         20.15   \n",
       "38        6.35           0.0                    0.3         27.65   \n",
       "49        2.15           0.0                    0.3         12.95   \n",
       "60        1.55           0.0                    0.3          9.35   \n",
       "94        1.80           0.0                    0.3          9.10   \n",
       "\n",
       "    payment_type  trip_type  \n",
       "2              1        1.0  \n",
       "38             1        1.0  \n",
       "49             1        1.0  \n",
       "60             1        1.0  \n",
       "94             1        1.0  "
      ]
     },
     "execution_count": 20,
     "metadata": {},
     "output_type": "execute_result"
    }
   ],
   "source": [
    "# Records where totals does not sum up\n",
    "# Create a totals column manually ?\n",
    "df[df['total_amount'] != df['fare_amount'] + df['extra'] + df['mta_tax'] + df['tip_amount'] + df['tolls_amount'] + df['improvement_surcharge']].head()"
   ]
  },
  {
   "cell_type": "code",
   "execution_count": 21,
   "metadata": {},
   "outputs": [
    {
     "name": "stdout",
     "output_type": "stream",
     "text": [
      "0 trip distance but different locations(7213, 16)\n"
     ]
    },
    {
     "data": {
      "text/html": [
       "<div>\n",
       "<style scoped>\n",
       "    .dataframe tbody tr th:only-of-type {\n",
       "        vertical-align: middle;\n",
       "    }\n",
       "\n",
       "    .dataframe tbody tr th {\n",
       "        vertical-align: top;\n",
       "    }\n",
       "\n",
       "    .dataframe thead th {\n",
       "        text-align: right;\n",
       "    }\n",
       "</style>\n",
       "<table border=\"1\" class=\"dataframe\">\n",
       "  <thead>\n",
       "    <tr style=\"text-align: right;\">\n",
       "      <th></th>\n",
       "      <th>lpep_pickup_datetime</th>\n",
       "      <th>lpep_dropoff_datetime</th>\n",
       "      <th>RatecodeID</th>\n",
       "      <th>PULocationID</th>\n",
       "      <th>DOLocationID</th>\n",
       "      <th>passenger_count</th>\n",
       "      <th>trip_distance</th>\n",
       "      <th>fare_amount</th>\n",
       "      <th>extra</th>\n",
       "      <th>mta_tax</th>\n",
       "      <th>tip_amount</th>\n",
       "      <th>tolls_amount</th>\n",
       "      <th>improvement_surcharge</th>\n",
       "      <th>total_amount</th>\n",
       "      <th>payment_type</th>\n",
       "      <th>trip_type</th>\n",
       "    </tr>\n",
       "  </thead>\n",
       "  <tbody>\n",
       "    <tr>\n",
       "      <th>830</th>\n",
       "      <td>2017-12-31 20:44:28</td>\n",
       "      <td>2017-12-31 20:44:28</td>\n",
       "      <td>1</td>\n",
       "      <td>42</td>\n",
       "      <td>264</td>\n",
       "      <td>5</td>\n",
       "      <td>0.0</td>\n",
       "      <td>9.0</td>\n",
       "      <td>0.5</td>\n",
       "      <td>0.5</td>\n",
       "      <td>0.00</td>\n",
       "      <td>0.0</td>\n",
       "      <td>0.3</td>\n",
       "      <td>10.30</td>\n",
       "      <td>2</td>\n",
       "      <td>1.0</td>\n",
       "    </tr>\n",
       "    <tr>\n",
       "      <th>1168</th>\n",
       "      <td>2017-12-31 21:04:44</td>\n",
       "      <td>2017-12-31 21:18:57</td>\n",
       "      <td>1</td>\n",
       "      <td>61</td>\n",
       "      <td>25</td>\n",
       "      <td>1</td>\n",
       "      <td>0.0</td>\n",
       "      <td>9.5</td>\n",
       "      <td>0.5</td>\n",
       "      <td>0.5</td>\n",
       "      <td>1.00</td>\n",
       "      <td>0.0</td>\n",
       "      <td>0.3</td>\n",
       "      <td>11.80</td>\n",
       "      <td>1</td>\n",
       "      <td>1.0</td>\n",
       "    </tr>\n",
       "    <tr>\n",
       "      <th>1989</th>\n",
       "      <td>2017-12-31 17:44:58</td>\n",
       "      <td>2017-12-31 17:58:53</td>\n",
       "      <td>1</td>\n",
       "      <td>97</td>\n",
       "      <td>181</td>\n",
       "      <td>1</td>\n",
       "      <td>0.0</td>\n",
       "      <td>9.0</td>\n",
       "      <td>0.0</td>\n",
       "      <td>0.5</td>\n",
       "      <td>1.95</td>\n",
       "      <td>0.0</td>\n",
       "      <td>0.3</td>\n",
       "      <td>11.75</td>\n",
       "      <td>1</td>\n",
       "      <td>1.0</td>\n",
       "    </tr>\n",
       "    <tr>\n",
       "      <th>1990</th>\n",
       "      <td>2017-12-31 17:10:18</td>\n",
       "      <td>2017-12-31 17:17:24</td>\n",
       "      <td>1</td>\n",
       "      <td>33</td>\n",
       "      <td>40</td>\n",
       "      <td>1</td>\n",
       "      <td>0.0</td>\n",
       "      <td>6.0</td>\n",
       "      <td>0.0</td>\n",
       "      <td>0.5</td>\n",
       "      <td>1.35</td>\n",
       "      <td>0.0</td>\n",
       "      <td>0.3</td>\n",
       "      <td>8.15</td>\n",
       "      <td>1</td>\n",
       "      <td>1.0</td>\n",
       "    </tr>\n",
       "    <tr>\n",
       "      <th>2163</th>\n",
       "      <td>2017-12-31 16:35:31</td>\n",
       "      <td>2017-12-31 16:35:31</td>\n",
       "      <td>1</td>\n",
       "      <td>167</td>\n",
       "      <td>264</td>\n",
       "      <td>2</td>\n",
       "      <td>0.0</td>\n",
       "      <td>2.5</td>\n",
       "      <td>0.0</td>\n",
       "      <td>0.5</td>\n",
       "      <td>0.00</td>\n",
       "      <td>0.0</td>\n",
       "      <td>0.3</td>\n",
       "      <td>3.30</td>\n",
       "      <td>2</td>\n",
       "      <td>1.0</td>\n",
       "    </tr>\n",
       "  </tbody>\n",
       "</table>\n",
       "</div>"
      ],
      "text/plain": [
       "     lpep_pickup_datetime lpep_dropoff_datetime  RatecodeID  PULocationID  \\\n",
       "830   2017-12-31 20:44:28   2017-12-31 20:44:28           1            42   \n",
       "1168  2017-12-31 21:04:44   2017-12-31 21:18:57           1            61   \n",
       "1989  2017-12-31 17:44:58   2017-12-31 17:58:53           1            97   \n",
       "1990  2017-12-31 17:10:18   2017-12-31 17:17:24           1            33   \n",
       "2163  2017-12-31 16:35:31   2017-12-31 16:35:31           1           167   \n",
       "\n",
       "      DOLocationID  passenger_count  trip_distance  fare_amount  extra  \\\n",
       "830            264                5            0.0          9.0    0.5   \n",
       "1168            25                1            0.0          9.5    0.5   \n",
       "1989           181                1            0.0          9.0    0.0   \n",
       "1990            40                1            0.0          6.0    0.0   \n",
       "2163           264                2            0.0          2.5    0.0   \n",
       "\n",
       "      mta_tax  tip_amount  tolls_amount  improvement_surcharge  total_amount  \\\n",
       "830       0.5        0.00           0.0                    0.3         10.30   \n",
       "1168      0.5        1.00           0.0                    0.3         11.80   \n",
       "1989      0.5        1.95           0.0                    0.3         11.75   \n",
       "1990      0.5        1.35           0.0                    0.3          8.15   \n",
       "2163      0.5        0.00           0.0                    0.3          3.30   \n",
       "\n",
       "      payment_type  trip_type  \n",
       "830              2        1.0  \n",
       "1168             1        1.0  \n",
       "1989             1        1.0  \n",
       "1990             1        1.0  \n",
       "2163             2        1.0  "
      ]
     },
     "execution_count": 21,
     "metadata": {},
     "output_type": "execute_result"
    }
   ],
   "source": [
    "print(\"0 trip distance but different locations\"+str(df[(df['trip_distance'] == 0) & (df['PULocationID'] != df['DOLocationID'])].shape))\n",
    "df[(df['trip_distance'] == 0) & (df['PULocationID'] != df['DOLocationID'])].head()"
   ]
  },
  {
   "cell_type": "markdown",
   "metadata": {},
   "source": [
    "## Dropping rows summary\n",
    "\n",
    "negative drop off time\n",
    "passenger_count <= 0\n",
    "trip_distance < 0\n",
    "negative extra\n",
    "tolls_amount > 500\n",
    "total_custom <= 0\n",
    "fare_amount <= 0\n",
    "\n",
    "## Dropping Columns summary\n",
    "\n",
    "ehail_fee  \n",
    "store_and_fwd_flag  \n",
    "VendorID  \n",
    "\n",
    "## New Columns Summary  \n",
    "\n",
    "month  \n",
    "trip_duration  \n",
    "day_of_travel\n",
    "total_custom"
   ]
  },
  {
   "cell_type": "code",
   "execution_count": 36,
   "metadata": {},
   "outputs": [
    {
     "data": {
      "text/plain": [
       "(2293365, 16)"
      ]
     },
     "execution_count": 36,
     "metadata": {},
     "output_type": "execute_result"
    }
   ],
   "source": [
    "df_new = df\n",
    "df_new.shape"
   ]
  },
  {
   "cell_type": "code",
   "execution_count": 37,
   "metadata": {},
   "outputs": [],
   "source": [
    "# Dropping outliers\n",
    "df_new = df[df['lpep_dropoff_datetime']-df['lpep_pickup_datetime'] >= timedelta(seconds=1)]\n",
    "df_new = df_new[df_new['passenger_count'] > 0]\n",
    "df_new = df_new[df_new['trip_distance'] > 0]\n",
    "df_new = df_new[df_new['extra'] >= 0]\n",
    "df_new = df_new[df_new['tolls_amount'] < 500]"
   ]
  },
  {
   "cell_type": "code",
   "execution_count": 38,
   "metadata": {},
   "outputs": [],
   "source": [
    "# Creating a new columns\n",
    "df_new['trip_duration'] = df_new['lpep_dropoff_datetime']-df_new['lpep_pickup_datetime']\n",
    "df_new['trip_duration'] = df_new['trip_duration'].dt.total_seconds() / 60\n",
    "df_new['month'] = df_new['lpep_pickup_datetime'].dt.month\n",
    "df_new['Day'] = df_new['lpep_pickup_datetime'].dt.dayofweek\n",
    "df_new['total_custom'] = df_new['fare_amount'] + df_new['extra'] + df_new['mta_tax'] + df_new['tip_amount'] + df_new['tolls_amount'] + df_new['improvement_surcharge']"
   ]
  },
  {
   "cell_type": "code",
   "execution_count": 39,
   "metadata": {},
   "outputs": [
    {
     "data": {
      "text/plain": [
       "(2249712, 20)"
      ]
     },
     "execution_count": 39,
     "metadata": {},
     "output_type": "execute_result"
    }
   ],
   "source": [
    "df_new = df_new[df_new['total_custom'] > 0]\n",
    "df_new = df_new[df_new['fare_amount'] > 0]\n",
    "# df_new = df_new[(df_new['payment_type'] < 3) & df_new['payment_type'] > 0 ]\n",
    "df_new.shape"
   ]
  },
  {
   "cell_type": "markdown",
   "metadata": {},
   "source": [
    "# Exploratory Data Analysis"
   ]
  },
  {
   "cell_type": "code",
   "execution_count": 40,
   "metadata": {},
   "outputs": [
    {
     "data": {
      "text/plain": [
       "count    2.249712e+06\n",
       "mean     1.151746e+01\n",
       "std      9.493112e+00\n",
       "min      1.000000e-02\n",
       "25%      6.000000e+00\n",
       "50%      9.000000e+00\n",
       "75%      1.400000e+01\n",
       "max      6.003500e+03\n",
       "Name: fare_amount, dtype: float64"
      ]
     },
     "execution_count": 40,
     "metadata": {},
     "output_type": "execute_result"
    }
   ],
   "source": [
    "#descriptive statistics summary\n",
    "df_new['fare_amount'].describe()"
   ]
  },
  {
   "cell_type": "code",
   "execution_count": 41,
   "metadata": {},
   "outputs": [
    {
     "data": {
      "text/plain": [
       "<matplotlib.axes._subplots.AxesSubplot at 0x1a31ea5cf8>"
      ]
     },
     "execution_count": 41,
     "metadata": {},
     "output_type": "execute_result"
    },
    {
     "data": {
      "image/png": "[encoded data removed]",
      "text/plain": [
       "<Figure size 432x288 with 1 Axes>"
      ]
     },
     "metadata": {},
     "output_type": "display_data"
    }
   ],
   "source": [
    "df1 = df_new[(df_new['fare_amount'] < 500) & (df_new['trip_distance'] < 100)]\n",
    "data = pd.concat([df1['fare_amount'], df1['trip_distance']], axis=1)\n",
    "data.plot.scatter(x='fare_amount', y='trip_distance')"
   ]
  },
  {
   "cell_type": "code",
   "execution_count": 42,
   "metadata": {},
   "outputs": [
    {
     "data": {
      "image/png": "[encoded data removed]",
      "text/plain": [
       "<Figure size 432x288 with 1 Axes>"
      ]
     },
     "metadata": {},
     "output_type": "display_data"
    }
   ],
   "source": [
    "df1 = df_new[(df_new['trip_duration'] > 0) & (df_new['trip_duration'] < 500)]\n",
    "data = pd.concat([df1['fare_amount'], df1['trip_duration']], axis=1)\n",
    "data.plot.scatter(x='fare_amount', y='trip_duration');\n",
    "\n",
    "# Clearly a linear relationship between trip_distance and fare_amount\n",
    "# remove the outliers with mins > 500"
   ]
  },
  {
   "cell_type": "markdown",
   "metadata": {},
   "source": [
    "### fare_amount vs month"
   ]
  },
  {
   "cell_type": "code",
   "execution_count": 43,
   "metadata": {},
   "outputs": [
    {
     "data": {
      "image/png": "[encoded data removed]",
      "text/plain": [
       "<Figure size 432x288 with 1 Axes>"
      ]
     },
     "metadata": {},
     "output_type": "display_data"
    }
   ],
   "source": [
    "ax = df_new.groupby('month')['fare_amount'].sum().plot.bar(grid=True)"
   ]
  },
  {
   "cell_type": "markdown",
   "metadata": {},
   "source": [
    "### Top 20 Pickup Locations"
   ]
  },
  {
   "cell_type": "code",
   "execution_count": 44,
   "metadata": {},
   "outputs": [
    {
     "data": {
      "text/plain": [
       "<matplotlib.axes._subplots.AxesSubplot at 0x1a1fb0bc50>"
      ]
     },
     "execution_count": 44,
     "metadata": {},
     "output_type": "execute_result"
    },
    {
     "data": {
      "image/png": "[encoded data removed]",
      "text/plain": [
       "<Figure size 432x288 with 1 Axes>"
      ]
     },
     "metadata": {},
     "output_type": "display_data"
    }
   ],
   "source": [
    "(pd.value_counts(df_new['PULocationID'])).nlargest(20).plot.bar(grid=True)"
   ]
  },
  {
   "cell_type": "markdown",
   "metadata": {},
   "source": [
    "### Top 20 Dropoff Locations"
   ]
  },
  {
   "cell_type": "code",
   "execution_count": 45,
   "metadata": {},
   "outputs": [
    {
     "data": {
      "text/plain": [
       "<matplotlib.axes._subplots.AxesSubplot at 0x1a15f433c8>"
      ]
     },
     "execution_count": 45,
     "metadata": {},
     "output_type": "execute_result"
    },
    {
     "data": {
      "image/png": "[encoded data removed]",
      "text/plain": [
       "<Figure size 432x288 with 1 Axes>"
      ]
     },
     "metadata": {},
     "output_type": "display_data"
    }
   ],
   "source": [
    "(pd.value_counts(df_new['DOLocationID'])).nlargest(20).plot.bar(grid=True)"
   ]
  },
  {
   "cell_type": "markdown",
   "metadata": {},
   "source": [
    "### Correlation Matrix"
   ]
  },
  {
   "cell_type": "code",
   "execution_count": 46,
   "metadata": {},
   "outputs": [
    {
     "data": {
      "image/png": "[encoded data removed]",
      "text/plain": [
       "<Figure size 864x648 with 2 Axes>"
      ]
     },
     "metadata": {},
     "output_type": "display_data"
    }
   ],
   "source": [
    "corrmat = df_new.corr()\n",
    "f, ax = plt.subplots(figsize=(12, 9))\n",
    "sns.heatmap(corrmat, vmax=.8, square=True);"
   ]
  },
  {
   "cell_type": "code",
   "execution_count": 47,
   "metadata": {},
   "outputs": [
    {
     "data": {
      "text/html": [
       "<div>\n",
       "<style scoped>\n",
       "    .dataframe tbody tr th:only-of-type {\n",
       "        vertical-align: middle;\n",
       "    }\n",
       "\n",
       "    .dataframe tbody tr th {\n",
       "        vertical-align: top;\n",
       "    }\n",
       "\n",
       "    .dataframe thead th {\n",
       "        text-align: right;\n",
       "    }\n",
       "</style>\n",
       "<table border=\"1\" class=\"dataframe\">\n",
       "  <thead>\n",
       "    <tr style=\"text-align: right;\">\n",
       "      <th></th>\n",
       "      <th>lpep_pickup_datetime</th>\n",
       "      <th>lpep_dropoff_datetime</th>\n",
       "      <th>RatecodeID</th>\n",
       "      <th>PULocationID</th>\n",
       "      <th>DOLocationID</th>\n",
       "      <th>passenger_count</th>\n",
       "      <th>trip_distance</th>\n",
       "      <th>fare_amount</th>\n",
       "      <th>extra</th>\n",
       "      <th>mta_tax</th>\n",
       "      <th>tip_amount</th>\n",
       "      <th>tolls_amount</th>\n",
       "      <th>improvement_surcharge</th>\n",
       "      <th>total_amount</th>\n",
       "      <th>payment_type</th>\n",
       "      <th>trip_type</th>\n",
       "      <th>trip_duration</th>\n",
       "      <th>month</th>\n",
       "      <th>Day</th>\n",
       "      <th>total_custom</th>\n",
       "    </tr>\n",
       "  </thead>\n",
       "  <tbody>\n",
       "    <tr>\n",
       "      <th>0</th>\n",
       "      <td>2017-12-31 23:55:09</td>\n",
       "      <td>2017-12-31 23:59:14</td>\n",
       "      <td>1</td>\n",
       "      <td>17</td>\n",
       "      <td>61</td>\n",
       "      <td>1</td>\n",
       "      <td>1.1</td>\n",
       "      <td>5.5</td>\n",
       "      <td>0.5</td>\n",
       "      <td>0.5</td>\n",
       "      <td>0.00</td>\n",
       "      <td>0.0</td>\n",
       "      <td>0.3</td>\n",
       "      <td>6.80</td>\n",
       "      <td>2</td>\n",
       "      <td>1.0</td>\n",
       "      <td>4.083333</td>\n",
       "      <td>12</td>\n",
       "      <td>6</td>\n",
       "      <td>6.80</td>\n",
       "    </tr>\n",
       "    <tr>\n",
       "      <th>1</th>\n",
       "      <td>2017-12-31 23:30:36</td>\n",
       "      <td>2017-12-31 23:37:20</td>\n",
       "      <td>1</td>\n",
       "      <td>61</td>\n",
       "      <td>49</td>\n",
       "      <td>1</td>\n",
       "      <td>1.1</td>\n",
       "      <td>6.5</td>\n",
       "      <td>0.5</td>\n",
       "      <td>0.5</td>\n",
       "      <td>0.00</td>\n",
       "      <td>0.0</td>\n",
       "      <td>0.3</td>\n",
       "      <td>7.80</td>\n",
       "      <td>2</td>\n",
       "      <td>1.0</td>\n",
       "      <td>6.733333</td>\n",
       "      <td>12</td>\n",
       "      <td>6</td>\n",
       "      <td>7.80</td>\n",
       "    </tr>\n",
       "    <tr>\n",
       "      <th>2</th>\n",
       "      <td>2017-12-31 23:02:26</td>\n",
       "      <td>2017-12-31 23:19:37</td>\n",
       "      <td>1</td>\n",
       "      <td>228</td>\n",
       "      <td>188</td>\n",
       "      <td>1</td>\n",
       "      <td>4.1</td>\n",
       "      <td>15.5</td>\n",
       "      <td>0.5</td>\n",
       "      <td>0.5</td>\n",
       "      <td>3.35</td>\n",
       "      <td>0.0</td>\n",
       "      <td>0.3</td>\n",
       "      <td>20.15</td>\n",
       "      <td>1</td>\n",
       "      <td>1.0</td>\n",
       "      <td>17.183333</td>\n",
       "      <td>12</td>\n",
       "      <td>6</td>\n",
       "      <td>20.15</td>\n",
       "    </tr>\n",
       "    <tr>\n",
       "      <th>3</th>\n",
       "      <td>2017-12-31 23:12:24</td>\n",
       "      <td>2017-12-31 23:16:55</td>\n",
       "      <td>1</td>\n",
       "      <td>228</td>\n",
       "      <td>26</td>\n",
       "      <td>1</td>\n",
       "      <td>0.8</td>\n",
       "      <td>5.0</td>\n",
       "      <td>0.5</td>\n",
       "      <td>0.5</td>\n",
       "      <td>0.00</td>\n",
       "      <td>0.0</td>\n",
       "      <td>0.3</td>\n",
       "      <td>6.30</td>\n",
       "      <td>2</td>\n",
       "      <td>1.0</td>\n",
       "      <td>4.516667</td>\n",
       "      <td>12</td>\n",
       "      <td>6</td>\n",
       "      <td>6.30</td>\n",
       "    </tr>\n",
       "    <tr>\n",
       "      <th>4</th>\n",
       "      <td>2017-12-31 23:53:11</td>\n",
       "      <td>2017-12-31 23:55:40</td>\n",
       "      <td>1</td>\n",
       "      <td>225</td>\n",
       "      <td>225</td>\n",
       "      <td>1</td>\n",
       "      <td>0.5</td>\n",
       "      <td>4.0</td>\n",
       "      <td>0.5</td>\n",
       "      <td>0.5</td>\n",
       "      <td>0.00</td>\n",
       "      <td>0.0</td>\n",
       "      <td>0.3</td>\n",
       "      <td>5.30</td>\n",
       "      <td>2</td>\n",
       "      <td>1.0</td>\n",
       "      <td>2.483333</td>\n",
       "      <td>12</td>\n",
       "      <td>6</td>\n",
       "      <td>5.30</td>\n",
       "    </tr>\n",
       "  </tbody>\n",
       "</table>\n",
       "</div>"
      ],
      "text/plain": [
       "  lpep_pickup_datetime lpep_dropoff_datetime  RatecodeID  PULocationID  \\\n",
       "0  2017-12-31 23:55:09   2017-12-31 23:59:14           1            17   \n",
       "1  2017-12-31 23:30:36   2017-12-31 23:37:20           1            61   \n",
       "2  2017-12-31 23:02:26   2017-12-31 23:19:37           1           228   \n",
       "3  2017-12-31 23:12:24   2017-12-31 23:16:55           1           228   \n",
       "4  2017-12-31 23:53:11   2017-12-31 23:55:40           1           225   \n",
       "\n",
       "   DOLocationID  passenger_count  trip_distance  fare_amount  extra  mta_tax  \\\n",
       "0            61                1            1.1          5.5    0.5      0.5   \n",
       "1            49                1            1.1          6.5    0.5      0.5   \n",
       "2           188                1            4.1         15.5    0.5      0.5   \n",
       "3            26                1            0.8          5.0    0.5      0.5   \n",
       "4           225                1            0.5          4.0    0.5      0.5   \n",
       "\n",
       "   tip_amount  tolls_amount  improvement_surcharge  total_amount  \\\n",
       "0        0.00           0.0                    0.3          6.80   \n",
       "1        0.00           0.0                    0.3          7.80   \n",
       "2        3.35           0.0                    0.3         20.15   \n",
       "3        0.00           0.0                    0.3          6.30   \n",
       "4        0.00           0.0                    0.3          5.30   \n",
       "\n",
       "   payment_type  trip_type  trip_duration  month  Day  total_custom  \n",
       "0             2        1.0       4.083333     12    6          6.80  \n",
       "1             2        1.0       6.733333     12    6          7.80  \n",
       "2             1        1.0      17.183333     12    6         20.15  \n",
       "3             2        1.0       4.516667     12    6          6.30  \n",
       "4             2        1.0       2.483333     12    6          5.30  "
      ]
     },
     "execution_count": 47,
     "metadata": {},
     "output_type": "execute_result"
    }
   ],
   "source": [
    "df_new.head()"
   ]
  },
  {
   "cell_type": "code",
   "execution_count": 48,
   "metadata": {},
   "outputs": [],
   "source": [
    "# Adding new columns - Weekday \n",
    "df_new['Weekend_Trip'] = (df_new['Day'] > 5).astype(int)"
   ]
  },
  {
   "cell_type": "code",
   "execution_count": 56,
   "metadata": {},
   "outputs": [],
   "source": [
    "# Adding new column for hour \n",
    "df_new['Hour'] = df_new.lpep_pickup_datetime.apply(lambda t: t.hour)"
   ]
  },
  {
   "cell_type": "code",
   "execution_count": 57,
   "metadata": {},
   "outputs": [],
   "source": [
    "# Adding column for Airport\n",
    "df_new['Airport'] = (df_new['PULocationID'].isin([1,132,138]) | df_new['DOLocationID'].isin([1,132,138])).astype(int)"
   ]
  },
  {
   "cell_type": "code",
   "execution_count": 59,
   "metadata": {},
   "outputs": [
    {
     "data": {
      "text/html": [
       "<div>\n",
       "<style scoped>\n",
       "    .dataframe tbody tr th:only-of-type {\n",
       "        vertical-align: middle;\n",
       "    }\n",
       "\n",
       "    .dataframe tbody tr th {\n",
       "        vertical-align: top;\n",
       "    }\n",
       "\n",
       "    .dataframe thead th {\n",
       "        text-align: right;\n",
       "    }\n",
       "</style>\n",
       "<table border=\"1\" class=\"dataframe\">\n",
       "  <thead>\n",
       "    <tr style=\"text-align: right;\">\n",
       "      <th></th>\n",
       "      <th>lpep_pickup_datetime</th>\n",
       "      <th>lpep_dropoff_datetime</th>\n",
       "      <th>RatecodeID</th>\n",
       "      <th>PULocationID</th>\n",
       "      <th>DOLocationID</th>\n",
       "      <th>passenger_count</th>\n",
       "      <th>trip_distance</th>\n",
       "      <th>fare_amount</th>\n",
       "      <th>extra</th>\n",
       "      <th>mta_tax</th>\n",
       "      <th>...</th>\n",
       "      <th>total_amount</th>\n",
       "      <th>payment_type</th>\n",
       "      <th>trip_type</th>\n",
       "      <th>trip_duration</th>\n",
       "      <th>month</th>\n",
       "      <th>Day</th>\n",
       "      <th>total_custom</th>\n",
       "      <th>Weekend_Trip</th>\n",
       "      <th>Hour</th>\n",
       "      <th>Airport</th>\n",
       "    </tr>\n",
       "  </thead>\n",
       "  <tbody>\n",
       "    <tr>\n",
       "      <th>0</th>\n",
       "      <td>2017-12-31 23:55:09</td>\n",
       "      <td>2017-12-31 23:59:14</td>\n",
       "      <td>1</td>\n",
       "      <td>17</td>\n",
       "      <td>61</td>\n",
       "      <td>1</td>\n",
       "      <td>1.1</td>\n",
       "      <td>5.5</td>\n",
       "      <td>0.5</td>\n",
       "      <td>0.5</td>\n",
       "      <td>...</td>\n",
       "      <td>6.80</td>\n",
       "      <td>2</td>\n",
       "      <td>1.0</td>\n",
       "      <td>4.083333</td>\n",
       "      <td>12</td>\n",
       "      <td>6</td>\n",
       "      <td>6.80</td>\n",
       "      <td>1</td>\n",
       "      <td>23</td>\n",
       "      <td>0</td>\n",
       "    </tr>\n",
       "    <tr>\n",
       "      <th>1</th>\n",
       "      <td>2017-12-31 23:30:36</td>\n",
       "      <td>2017-12-31 23:37:20</td>\n",
       "      <td>1</td>\n",
       "      <td>61</td>\n",
       "      <td>49</td>\n",
       "      <td>1</td>\n",
       "      <td>1.1</td>\n",
       "      <td>6.5</td>\n",
       "      <td>0.5</td>\n",
       "      <td>0.5</td>\n",
       "      <td>...</td>\n",
       "      <td>7.80</td>\n",
       "      <td>2</td>\n",
       "      <td>1.0</td>\n",
       "      <td>6.733333</td>\n",
       "      <td>12</td>\n",
       "      <td>6</td>\n",
       "      <td>7.80</td>\n",
       "      <td>1</td>\n",
       "      <td>23</td>\n",
       "      <td>0</td>\n",
       "    </tr>\n",
       "    <tr>\n",
       "      <th>2</th>\n",
       "      <td>2017-12-31 23:02:26</td>\n",
       "      <td>2017-12-31 23:19:37</td>\n",
       "      <td>1</td>\n",
       "      <td>228</td>\n",
       "      <td>188</td>\n",
       "      <td>1</td>\n",
       "      <td>4.1</td>\n",
       "      <td>15.5</td>\n",
       "      <td>0.5</td>\n",
       "      <td>0.5</td>\n",
       "      <td>...</td>\n",
       "      <td>20.15</td>\n",
       "      <td>1</td>\n",
       "      <td>1.0</td>\n",
       "      <td>17.183333</td>\n",
       "      <td>12</td>\n",
       "      <td>6</td>\n",
       "      <td>20.15</td>\n",
       "      <td>1</td>\n",
       "      <td>23</td>\n",
       "      <td>0</td>\n",
       "    </tr>\n",
       "    <tr>\n",
       "      <th>3</th>\n",
       "      <td>2017-12-31 23:12:24</td>\n",
       "      <td>2017-12-31 23:16:55</td>\n",
       "      <td>1</td>\n",
       "      <td>228</td>\n",
       "      <td>26</td>\n",
       "      <td>1</td>\n",
       "      <td>0.8</td>\n",
       "      <td>5.0</td>\n",
       "      <td>0.5</td>\n",
       "      <td>0.5</td>\n",
       "      <td>...</td>\n",
       "      <td>6.30</td>\n",
       "      <td>2</td>\n",
       "      <td>1.0</td>\n",
       "      <td>4.516667</td>\n",
       "      <td>12</td>\n",
       "      <td>6</td>\n",
       "      <td>6.30</td>\n",
       "      <td>1</td>\n",
       "      <td>23</td>\n",
       "      <td>0</td>\n",
       "    </tr>\n",
       "    <tr>\n",
       "      <th>4</th>\n",
       "      <td>2017-12-31 23:53:11</td>\n",
       "      <td>2017-12-31 23:55:40</td>\n",
       "      <td>1</td>\n",
       "      <td>225</td>\n",
       "      <td>225</td>\n",
       "      <td>1</td>\n",
       "      <td>0.5</td>\n",
       "      <td>4.0</td>\n",
       "      <td>0.5</td>\n",
       "      <td>0.5</td>\n",
       "      <td>...</td>\n",
       "      <td>5.30</td>\n",
       "      <td>2</td>\n",
       "      <td>1.0</td>\n",
       "      <td>2.483333</td>\n",
       "      <td>12</td>\n",
       "      <td>6</td>\n",
       "      <td>5.30</td>\n",
       "      <td>1</td>\n",
       "      <td>23</td>\n",
       "      <td>0</td>\n",
       "    </tr>\n",
       "  </tbody>\n",
       "</table>\n",
       "<p>5 rows × 23 columns</p>\n",
       "</div>"
      ],
      "text/plain": [
       "  lpep_pickup_datetime lpep_dropoff_datetime  RatecodeID  PULocationID  \\\n",
       "0  2017-12-31 23:55:09   2017-12-31 23:59:14           1            17   \n",
       "1  2017-12-31 23:30:36   2017-12-31 23:37:20           1            61   \n",
       "2  2017-12-31 23:02:26   2017-12-31 23:19:37           1           228   \n",
       "3  2017-12-31 23:12:24   2017-12-31 23:16:55           1           228   \n",
       "4  2017-12-31 23:53:11   2017-12-31 23:55:40           1           225   \n",
       "\n",
       "   DOLocationID  passenger_count  trip_distance  fare_amount  extra  mta_tax  \\\n",
       "0            61                1            1.1          5.5    0.5      0.5   \n",
       "1            49                1            1.1          6.5    0.5      0.5   \n",
       "2           188                1            4.1         15.5    0.5      0.5   \n",
       "3            26                1            0.8          5.0    0.5      0.5   \n",
       "4           225                1            0.5          4.0    0.5      0.5   \n",
       "\n",
       "    ...     total_amount  payment_type  trip_type  trip_duration  month  Day  \\\n",
       "0   ...             6.80             2        1.0       4.083333     12    6   \n",
       "1   ...             7.80             2        1.0       6.733333     12    6   \n",
       "2   ...            20.15             1        1.0      17.183333     12    6   \n",
       "3   ...             6.30             2        1.0       4.516667     12    6   \n",
       "4   ...             5.30             2        1.0       2.483333     12    6   \n",
       "\n",
       "   total_custom  Weekend_Trip  Hour  Airport  \n",
       "0          6.80             1    23        0  \n",
       "1          7.80             1    23        0  \n",
       "2         20.15             1    23        0  \n",
       "3          6.30             1    23        0  \n",
       "4          5.30             1    23        0  \n",
       "\n",
       "[5 rows x 23 columns]"
      ]
     },
     "execution_count": 59,
     "metadata": {},
     "output_type": "execute_result"
    }
   ],
   "source": [
    "df_new.head()"
   ]
  },
  {
   "cell_type": "code",
   "execution_count": 88,
   "metadata": {},
   "outputs": [
    {
     "data": {
      "image/png": "[encoded data removed]",
      "text/plain": [
       "<Figure size 576x576 with 1 Axes>"
      ]
     },
     "metadata": {},
     "output_type": "display_data"
    }
   ],
   "source": [
    "df_new[df_new.trip_distance<15].trip_distance.hist(bins=150, figsize=(8,8))\n",
    "plt.xlabel('Total Distance')\n",
    "plt.ylabel('Count')\n",
    "plt.title(\"Histogram of total trip distribution\");"
   ]
  },
  {
   "cell_type": "code",
   "execution_count": 89,
   "metadata": {},
   "outputs": [
    {
     "data": {
      "image/png": "[encoded data removed]",
      "text/plain": [
       "<Figure size 576x576 with 1 Axes>"
      ]
     },
     "metadata": {},
     "output_type": "display_data"
    }
   ],
   "source": [
    "plt.style.use('fivethirtyeight')\n",
    "df_new[df_new.total_amount<50].total_amount.hist(bins=50, figsize=(8,8))\n",
    "plt.xlabel('Total fare $USD')\n",
    "plt.title(\"Histogram of total fare's distribution\");"
   ]
  },
  {
   "cell_type": "code",
   "execution_count": 96,
   "metadata": {},
   "outputs": [
    {
     "data": {
      "text/plain": [
       "<matplotlib.axes._subplots.AxesSubplot at 0x1a3702b9b0>"
      ]
     },
     "execution_count": 96,
     "metadata": {},
     "output_type": "execute_result"
    },
    {
     "data": {
      "image/png": "[encoded data removed]",
      "text/plain": [
       "<Figure size 432x288 with 1 Axes>"
      ]
     },
     "metadata": {},
     "output_type": "display_data"
    }
   ],
   "source": [
    "(pd.value_counts(df_new['Hour'])).plot.bar(grid=True)"
   ]
  },
  {
   "cell_type": "code",
   "execution_count": null,
   "metadata": {},
   "outputs": [],
   "source": []
  }
 ],
 "metadata": {
  "kernelspec": {
   "display_name": "Python 3",
   "language": "python",
   "name": "python3"
  },
  "language_info": {
   "codemirror_mode": {
    "name": "ipython",
    "version": 3
   },
   "file_extension": ".py",
   "mimetype": "text/x-python",
   "name": "python",
   "nbconvert_exporter": "python",
   "pygments_lexer": "ipython3",
   "version": "3.6.5"
  }
 },
 "nbformat": 4,
 "nbformat_minor": 2
}
