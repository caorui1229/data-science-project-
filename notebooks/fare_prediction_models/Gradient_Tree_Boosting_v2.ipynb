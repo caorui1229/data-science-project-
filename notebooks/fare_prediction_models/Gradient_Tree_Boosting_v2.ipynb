{
 "cells": [
  {
   "cell_type": "markdown",
   "metadata": {},
   "source": [
    "# Regression Using Gradient Tree Boosting"
   ]
  },
  {
   "cell_type": "code",
   "execution_count": 1,
   "metadata": {},
   "outputs": [],
   "source": [
    "import pandas as pd\n",
    "import numpy as np\n",
    "import matplotlib.pyplot as plt\n",
    "import seaborn as sns\n",
    "import warnings\n",
    "import pickle\n",
    "warnings.filterwarnings('ignore')"
   ]
  },
  {
   "cell_type": "markdown",
   "metadata": {},
   "source": [
    "## Importing Pre-processed Data"
   ]
  },
  {
   "cell_type": "code",
   "execution_count": 2,
   "metadata": {},
   "outputs": [],
   "source": [
    "df_new = pd.read_pickle(r'C:\\Users\\nishi\\Desktop\\EECS 731 - Data Science\\Project\\df_new.pkl')"
   ]
  },
  {
   "cell_type": "code",
   "execution_count": 3,
   "metadata": {},
   "outputs": [
    {
     "data": {
      "text/html": [
       "<div>\n",
       "<style scoped>\n",
       "    .dataframe tbody tr th:only-of-type {\n",
       "        vertical-align: middle;\n",
       "    }\n",
       "\n",
       "    .dataframe tbody tr th {\n",
       "        vertical-align: top;\n",
       "    }\n",
       "\n",
       "    .dataframe thead th {\n",
       "        text-align: right;\n",
       "    }\n",
       "</style>\n",
       "<table border=\"1\" class=\"dataframe\">\n",
       "  <thead>\n",
       "    <tr style=\"text-align: right;\">\n",
       "      <th></th>\n",
       "      <th>lpep_pickup_datetime</th>\n",
       "      <th>lpep_dropoff_datetime</th>\n",
       "      <th>RatecodeID</th>\n",
       "      <th>PULocationID</th>\n",
       "      <th>DOLocationID</th>\n",
       "      <th>passenger_count</th>\n",
       "      <th>trip_distance</th>\n",
       "      <th>fare_amount</th>\n",
       "      <th>extra</th>\n",
       "      <th>mta_tax</th>\n",
       "      <th>...</th>\n",
       "      <th>total_amount</th>\n",
       "      <th>payment_type</th>\n",
       "      <th>trip_type</th>\n",
       "      <th>trip_duration</th>\n",
       "      <th>month</th>\n",
       "      <th>day</th>\n",
       "      <th>total_custom</th>\n",
       "      <th>weekend_Trip</th>\n",
       "      <th>hour</th>\n",
       "      <th>airport</th>\n",
       "    </tr>\n",
       "  </thead>\n",
       "  <tbody>\n",
       "    <tr>\n",
       "      <th>0</th>\n",
       "      <td>2017-12-31 23:55:09</td>\n",
       "      <td>2017-12-31 23:59:14</td>\n",
       "      <td>1</td>\n",
       "      <td>17</td>\n",
       "      <td>61</td>\n",
       "      <td>1</td>\n",
       "      <td>1.1</td>\n",
       "      <td>5.5</td>\n",
       "      <td>0.5</td>\n",
       "      <td>0.5</td>\n",
       "      <td>...</td>\n",
       "      <td>6.80</td>\n",
       "      <td>2</td>\n",
       "      <td>1.0</td>\n",
       "      <td>4.083333</td>\n",
       "      <td>12</td>\n",
       "      <td>6</td>\n",
       "      <td>6.80</td>\n",
       "      <td>1</td>\n",
       "      <td>23</td>\n",
       "      <td>0</td>\n",
       "    </tr>\n",
       "    <tr>\n",
       "      <th>1</th>\n",
       "      <td>2017-12-31 23:30:36</td>\n",
       "      <td>2017-12-31 23:37:20</td>\n",
       "      <td>1</td>\n",
       "      <td>61</td>\n",
       "      <td>49</td>\n",
       "      <td>1</td>\n",
       "      <td>1.1</td>\n",
       "      <td>6.5</td>\n",
       "      <td>0.5</td>\n",
       "      <td>0.5</td>\n",
       "      <td>...</td>\n",
       "      <td>7.80</td>\n",
       "      <td>2</td>\n",
       "      <td>1.0</td>\n",
       "      <td>6.733333</td>\n",
       "      <td>12</td>\n",
       "      <td>6</td>\n",
       "      <td>7.80</td>\n",
       "      <td>1</td>\n",
       "      <td>23</td>\n",
       "      <td>0</td>\n",
       "    </tr>\n",
       "    <tr>\n",
       "      <th>2</th>\n",
       "      <td>2017-12-31 23:02:26</td>\n",
       "      <td>2017-12-31 23:19:37</td>\n",
       "      <td>1</td>\n",
       "      <td>228</td>\n",
       "      <td>188</td>\n",
       "      <td>1</td>\n",
       "      <td>4.1</td>\n",
       "      <td>15.5</td>\n",
       "      <td>0.5</td>\n",
       "      <td>0.5</td>\n",
       "      <td>...</td>\n",
       "      <td>20.15</td>\n",
       "      <td>1</td>\n",
       "      <td>1.0</td>\n",
       "      <td>17.183333</td>\n",
       "      <td>12</td>\n",
       "      <td>6</td>\n",
       "      <td>20.15</td>\n",
       "      <td>1</td>\n",
       "      <td>23</td>\n",
       "      <td>0</td>\n",
       "    </tr>\n",
       "    <tr>\n",
       "      <th>3</th>\n",
       "      <td>2017-12-31 23:12:24</td>\n",
       "      <td>2017-12-31 23:16:55</td>\n",
       "      <td>1</td>\n",
       "      <td>228</td>\n",
       "      <td>26</td>\n",
       "      <td>1</td>\n",
       "      <td>0.8</td>\n",
       "      <td>5.0</td>\n",
       "      <td>0.5</td>\n",
       "      <td>0.5</td>\n",
       "      <td>...</td>\n",
       "      <td>6.30</td>\n",
       "      <td>2</td>\n",
       "      <td>1.0</td>\n",
       "      <td>4.516667</td>\n",
       "      <td>12</td>\n",
       "      <td>6</td>\n",
       "      <td>6.30</td>\n",
       "      <td>1</td>\n",
       "      <td>23</td>\n",
       "      <td>0</td>\n",
       "    </tr>\n",
       "    <tr>\n",
       "      <th>4</th>\n",
       "      <td>2017-12-31 23:53:11</td>\n",
       "      <td>2017-12-31 23:55:40</td>\n",
       "      <td>1</td>\n",
       "      <td>225</td>\n",
       "      <td>225</td>\n",
       "      <td>1</td>\n",
       "      <td>0.5</td>\n",
       "      <td>4.0</td>\n",
       "      <td>0.5</td>\n",
       "      <td>0.5</td>\n",
       "      <td>...</td>\n",
       "      <td>5.30</td>\n",
       "      <td>2</td>\n",
       "      <td>1.0</td>\n",
       "      <td>2.483333</td>\n",
       "      <td>12</td>\n",
       "      <td>6</td>\n",
       "      <td>5.30</td>\n",
       "      <td>1</td>\n",
       "      <td>23</td>\n",
       "      <td>0</td>\n",
       "    </tr>\n",
       "  </tbody>\n",
       "</table>\n",
       "<p>5 rows × 23 columns</p>\n",
       "</div>"
      ],
      "text/plain": [
       "  lpep_pickup_datetime lpep_dropoff_datetime  RatecodeID  PULocationID  \\\n",
       "0  2017-12-31 23:55:09   2017-12-31 23:59:14           1            17   \n",
       "1  2017-12-31 23:30:36   2017-12-31 23:37:20           1            61   \n",
       "2  2017-12-31 23:02:26   2017-12-31 23:19:37           1           228   \n",
       "3  2017-12-31 23:12:24   2017-12-31 23:16:55           1           228   \n",
       "4  2017-12-31 23:53:11   2017-12-31 23:55:40           1           225   \n",
       "\n",
       "   DOLocationID  passenger_count  trip_distance  fare_amount  extra  mta_tax  \\\n",
       "0            61                1            1.1          5.5    0.5      0.5   \n",
       "1            49                1            1.1          6.5    0.5      0.5   \n",
       "2           188                1            4.1         15.5    0.5      0.5   \n",
       "3            26                1            0.8          5.0    0.5      0.5   \n",
       "4           225                1            0.5          4.0    0.5      0.5   \n",
       "\n",
       "    ...     total_amount  payment_type  trip_type  trip_duration  month  day  \\\n",
       "0   ...             6.80             2        1.0       4.083333     12    6   \n",
       "1   ...             7.80             2        1.0       6.733333     12    6   \n",
       "2   ...            20.15             1        1.0      17.183333     12    6   \n",
       "3   ...             6.30             2        1.0       4.516667     12    6   \n",
       "4   ...             5.30             2        1.0       2.483333     12    6   \n",
       "\n",
       "   total_custom  weekend_Trip  hour  airport  \n",
       "0          6.80             1    23        0  \n",
       "1          7.80             1    23        0  \n",
       "2         20.15             1    23        0  \n",
       "3          6.30             1    23        0  \n",
       "4          5.30             1    23        0  \n",
       "\n",
       "[5 rows x 23 columns]"
      ]
     },
     "execution_count": 3,
     "metadata": {},
     "output_type": "execute_result"
    }
   ],
   "source": [
    "df_new.head()"
   ]
  },
  {
   "cell_type": "markdown",
   "metadata": {},
   "source": [
    "## Shuffling data"
   ]
  },
  {
   "cell_type": "code",
   "execution_count": 4,
   "metadata": {},
   "outputs": [],
   "source": [
    "df_new = df_new.sample(frac=1).reset_index(drop=True)"
   ]
  },
  {
   "cell_type": "markdown",
   "metadata": {},
   "source": [
    "## Different Models with different features for accuracy comparasion"
   ]
  },
  {
   "cell_type": "code",
   "execution_count": 5,
   "metadata": {
    "scrolled": true
   },
   "outputs": [],
   "source": [
    "# Creating a dataframes for model testing. Models cannot parse datetime columns, so have to drop them\n",
    "\n",
    "# Models with trip_distance & trip_duration\n",
    "df_1 = df_new[['trip_distance','trip_duration','fare_amount']]\n",
    "df_2 = df_new[['trip_distance','trip_duration','airport','fare_amount']]\n",
    "df_3 = df_new[['trip_distance','trip_duration','airport','RatecodeID','fare_amount']]\n",
    "df_4 = df_new[['trip_distance','trip_duration','airport','RatecodeID','payment_type','fare_amount']]\n",
    "df_5 = df_new[['trip_distance','trip_duration','airport','RatecodeID','payment_type','DOLocationID','fare_amount']]\n",
    "df_6 = df_new[['trip_distance','trip_duration','airport','RatecodeID','payment_type','DOLocationID','trip_type','fare_amount']]\n",
    "df_7 = df_new[['trip_distance','trip_duration','airport','RatecodeID','payment_type','DOLocationID','trip_type','passenger_count','fare_amount']]\n",
    "df_8 = df_new[['trip_distance','trip_duration','airport','RatecodeID','payment_type','DOLocationID','trip_type','passenger_count','PULocationID','fare_amount']]\n",
    "\n",
    "# Models without trip_distance & trip_duration\n",
    "\n",
    "df_9 = df_new[['airport','RatecodeID','payment_type','DOLocationID','trip_type','passenger_count','PULocationID','fare_amount']]\n",
    "df_10 = df_new[['airport','RatecodeID','payment_type','DOLocationID','trip_type','passenger_count','PULocationID','hour','fare_amount']]\n",
    "df_11 = df_new[['airport','RatecodeID','payment_type','DOLocationID','trip_type','passenger_count','PULocationID','hour','day','fare_amount']]\n",
    "df_12 = df_new[['airport','RatecodeID','payment_type','DOLocationID','trip_type','passenger_count','PULocationID','hour','day','weekend_Trip','fare_amount']]\n",
    "df_13 = df_new[['airport','RatecodeID','payment_type','DOLocationID','trip_type','passenger_count','PULocationID','hour','day','weekend_Trip','month','fare_amount']]\n",
    "\n",
    "# Models with only trip_distance\n",
    "\n",
    "df_14 = df_new[['trip_distance','airport','RatecodeID','payment_type','DOLocationID','trip_type','passenger_count','PULocationID','fare_amount']]\n",
    "df_15 = df_new[['trip_distance','airport','RatecodeID','payment_type','DOLocationID','trip_type','passenger_count','PULocationID','hour','fare_amount']]\n",
    "df_16 = df_new[['trip_distance','airport','RatecodeID','payment_type','DOLocationID','trip_type','passenger_count','PULocationID','hour','day','fare_amount']]\n",
    "df_17 = df_new[['trip_distance','airport','RatecodeID','payment_type','DOLocationID','trip_type','passenger_count','PULocationID','hour','day','weekend_Trip','fare_amount']]\n",
    "df_18 = df_new[['trip_distance','airport','RatecodeID','payment_type','DOLocationID','trip_type','passenger_count','PULocationID','hour','day','weekend_Trip','month','fare_amount']]\n"
   ]
  },
  {
   "cell_type": "markdown",
   "metadata": {},
   "source": [
    "## Splitting the data into Training and Testing"
   ]
  },
  {
   "cell_type": "code",
   "execution_count": 6,
   "metadata": {},
   "outputs": [],
   "source": [
    "# Using Skicit-learn to split data into training and testing sets\n",
    "from sklearn.model_selection import train_test_split\n",
    "\n",
    "\n",
    "#for i in arange(0,18):\n",
    "#    eval('features_' + str(i)) = eval('df_' + str(i)).drop(['fare_amount'], axis = 1)\n",
    "#    eval('labels_' + str(i)) = eval('df_' + str(i))[['fare_amount']]\n",
    "    \n",
    "features_1 = df_1.drop(['fare_amount'], axis = 1)\n",
    "labels_1 = df_1[['fare_amount']]\n",
    "\n",
    "features_2 = df_2.drop(['fare_amount'], axis = 1)\n",
    "labels_2 = df_2[['fare_amount']]\n",
    "\n",
    "features_3 = df_3.drop(['fare_amount'], axis = 1)\n",
    "labels_3 = df_3[['fare_amount']]\n",
    "\n",
    "features_4 = df_4.drop(['fare_amount'], axis = 1)\n",
    "labels_4 = df_4[['fare_amount']]\n",
    "\n",
    "features_5 = df_5.drop(['fare_amount'], axis = 1)\n",
    "labels_5 = df_5[['fare_amount']]\n",
    "\n",
    "features_6 = df_6.drop(['fare_amount'], axis = 1)\n",
    "labels_6 = df_6[['fare_amount']]\n",
    "\n",
    "features_7 = df_7.drop(['fare_amount'], axis = 1)\n",
    "labels_7 = df_7[['fare_amount']]\n",
    "\n",
    "features_8 = df_8.drop(['fare_amount'], axis = 1)\n",
    "labels_8 = df_8[['fare_amount']]\n",
    "\n",
    "features_9 = df_9.drop(['fare_amount'], axis = 1)\n",
    "labels_9 = df_9[['fare_amount']]\n",
    "\n",
    "features_10 = df_10.drop(['fare_amount'], axis = 1)\n",
    "labels_10 = df_10[['fare_amount']]\n",
    "\n",
    "features_11 = df_11.drop(['fare_amount'], axis = 1)\n",
    "labels_11 = df_11[['fare_amount']]\n",
    "\n",
    "features_12 = df_12.drop(['fare_amount'], axis = 1)\n",
    "labels_12 = df_12[['fare_amount']]\n",
    "\n",
    "features_13 = df_13.drop(['fare_amount'], axis = 1)\n",
    "labels_13 = df_13[['fare_amount']]\n",
    "\n",
    "features_14 = df_14.drop(['fare_amount'], axis = 1)\n",
    "labels_14 = df_14[['fare_amount']]\n",
    "\n",
    "features_15 = df_15.drop(['fare_amount'], axis = 1)\n",
    "labels_15 = df_15[['fare_amount']]\n",
    "\n",
    "features_16 = df_16.drop(['fare_amount'], axis = 1)\n",
    "labels_16 = df_16[['fare_amount']]\n",
    "\n",
    "features_17 = df_17.drop(['fare_amount'], axis = 1)\n",
    "labels_17 = df_17[['fare_amount']]\n",
    "\n",
    "features_18 = df_18.drop(['fare_amount'], axis = 1)\n",
    "labels_18 = df_18[['fare_amount']]"
   ]
  },
  {
   "cell_type": "code",
   "execution_count": 7,
   "metadata": {},
   "outputs": [],
   "source": [
    "# Split the data into training and testing sets\n",
    "\n",
    "train_features_1, test_features_1, train_labels_1, test_labels_1 = train_test_split(features_1, labels_1, test_size = 0.10, random_state = 42)\n",
    "train_features_2, test_features_2, train_labels_2, test_labels_2 = train_test_split(features_2, labels_2, test_size = 0.10, random_state = 42)\n",
    "train_features_3, test_features_3, train_labels_3, test_labels_3 = train_test_split(features_3, labels_3, test_size = 0.10, random_state = 42)\n",
    "train_features_4, test_features_4, train_labels_4, test_labels_4 = train_test_split(features_4, labels_4, test_size = 0.10, random_state = 42)\n",
    "train_features_5, test_features_5, train_labels_5, test_labels_5 = train_test_split(features_5, labels_5, test_size = 0.10, random_state = 42)\n",
    "train_features_6, test_features_6, train_labels_6, test_labels_6 = train_test_split(features_6, labels_6, test_size = 0.10, random_state = 42)\n",
    "train_features_7, test_features_7, train_labels_7, test_labels_7 = train_test_split(features_7, labels_7, test_size = 0.10, random_state = 42)\n",
    "train_features_8, test_features_8, train_labels_8, test_labels_8 = train_test_split(features_8, labels_8, test_size = 0.10, random_state = 42)\n",
    "train_features_9, test_features_9, train_labels_9, test_labels_9 = train_test_split(features_9, labels_9, test_size = 0.10, random_state = 42)\n",
    "train_features_10, test_features_10, train_labels_10, test_labels_10 = train_test_split(features_10, labels_10, test_size = 0.10, random_state = 42)\n",
    "train_features_11, test_features_11, train_labels_11, test_labels_11 = train_test_split(features_11, labels_11, test_size = 0.10, random_state = 42)\n",
    "train_features_12, test_features_12, train_labels_12, test_labels_12 = train_test_split(features_12, labels_12, test_size = 0.10, random_state = 42)\n",
    "train_features_13, test_features_13, train_labels_13, test_labels_13 = train_test_split(features_13, labels_13, test_size = 0.10, random_state = 42)\n",
    "train_features_14, test_features_14, train_labels_14, test_labels_14 = train_test_split(features_14, labels_14, test_size = 0.10, random_state = 42)\n",
    "train_features_15, test_features_15, train_labels_15, test_labels_15 = train_test_split(features_15, labels_15, test_size = 0.10, random_state = 42)\n",
    "train_features_16, test_features_16, train_labels_16, test_labels_16 = train_test_split(features_16, labels_16, test_size = 0.10, random_state = 42)\n",
    "train_features_17, test_features_17, train_labels_17, test_labels_17 = train_test_split(features_17, labels_17, test_size = 0.10, random_state = 42)\n",
    "train_features_18, test_features_18, train_labels_18, test_labels_18 = train_test_split(features_18, labels_18, test_size = 0.10, random_state = 42)"
   ]
  },
  {
   "cell_type": "code",
   "execution_count": 8,
   "metadata": {},
   "outputs": [
    {
     "name": "stdout",
     "output_type": "stream",
     "text": [
      "Training Features Shape: (2024739, 2)\n",
      "Training Labels Shape: (2024739, 1)\n",
      "Testing Features Shape: (224972, 2)\n",
      "Testing Labels Shape: (224972, 1)\n"
     ]
    }
   ],
   "source": [
    "print('Training Features Shape:', train_features_1.shape)\n",
    "print('Training Labels Shape:', train_labels_1.shape)\n",
    "print('Testing Features Shape:', test_features_1.shape)\n",
    "print('Testing Labels Shape:', test_labels_1.shape)"
   ]
  },
  {
   "cell_type": "markdown",
   "metadata": {},
   "source": [
    "# Using Gradient Tree Boosting for prediction"
   ]
  },
  {
   "cell_type": "code",
   "execution_count": 9,
   "metadata": {},
   "outputs": [
    {
     "name": "stdout",
     "output_type": "stream",
     "text": [
      "Wall time: 52min 47s\n"
     ]
    }
   ],
   "source": [
    "%%time\n",
    "from sklearn.ensemble import GradientBoostingRegressor\n",
    "rf1 = GradientBoostingRegressor()\n",
    "rf2 = GradientBoostingRegressor()\n",
    "rf3 = GradientBoostingRegressor()\n",
    "rf4 = GradientBoostingRegressor()\n",
    "rf5 = GradientBoostingRegressor()\n",
    "rf6 = GradientBoostingRegressor()\n",
    "rf7 = GradientBoostingRegressor()\n",
    "rf8 = GradientBoostingRegressor()\n",
    "rf9 = GradientBoostingRegressor()\n",
    "rf10 = GradientBoostingRegressor()\n",
    "rf11 = GradientBoostingRegressor()\n",
    "rf12 = GradientBoostingRegressor()\n",
    "rf13 = GradientBoostingRegressor()\n",
    "rf14 = GradientBoostingRegressor()\n",
    "rf15 = GradientBoostingRegressor()\n",
    "rf16 = GradientBoostingRegressor()\n",
    "rf17 = GradientBoostingRegressor()\n",
    "rf18 = GradientBoostingRegressor()\n",
    "\n",
    "rf1.fit(train_features_1, train_labels_1.values.ravel())\n",
    "rf2.fit(train_features_2, train_labels_2.values.ravel())\n",
    "rf3.fit(train_features_3, train_labels_3.values.ravel())\n",
    "rf4.fit(train_features_4, train_labels_4.values.ravel())\n",
    "rf5.fit(train_features_5, train_labels_5.values.ravel())\n",
    "rf6.fit(train_features_6, train_labels_6.values.ravel())\n",
    "rf7.fit(train_features_7, train_labels_7.values.ravel())\n",
    "rf8.fit(train_features_8, train_labels_8.values.ravel())\n",
    "rf9.fit(train_features_9, train_labels_9.values.ravel())\n",
    "rf10.fit(train_features_10, train_labels_10.values.ravel())\n",
    "rf11.fit(train_features_11, train_labels_11.values.ravel())\n",
    "rf12.fit(train_features_12, train_labels_12.values.ravel())\n",
    "rf13.fit(train_features_13, train_labels_13.values.ravel())\n",
    "rf14.fit(train_features_14, train_labels_14.values.ravel())\n",
    "rf15.fit(train_features_15, train_labels_15.values.ravel())\n",
    "rf16.fit(train_features_16, train_labels_16.values.ravel())\n",
    "rf17.fit(train_features_17, train_labels_17.values.ravel())\n",
    "rf18.fit(train_features_18, train_labels_18.values.ravel())"
   ]
  },
  {
   "cell_type": "markdown",
   "metadata": {},
   "source": [
    "# Predicting from Input"
   ]
  },
  {
   "cell_type": "code",
   "execution_count": 10,
   "metadata": {},
   "outputs": [],
   "source": [
    "prediction_1 = rf1.predict(test_features_1)\n",
    "prediction_2 = rf2.predict(test_features_2)\n",
    "prediction_3 = rf3.predict(test_features_3)\n",
    "prediction_4 = rf4.predict(test_features_4)\n",
    "prediction_5 = rf5.predict(test_features_5)\n",
    "prediction_6 = rf6.predict(test_features_6)\n",
    "prediction_7 = rf7.predict(test_features_7)\n",
    "prediction_8 = rf8.predict(test_features_8)\n",
    "prediction_9 = rf9.predict(test_features_9)\n",
    "prediction_10 = rf10.predict(test_features_10)\n",
    "prediction_11 = rf11.predict(test_features_11)\n",
    "prediction_12 = rf12.predict(test_features_12)\n",
    "prediction_13 = rf13.predict(test_features_13)\n",
    "prediction_14 = rf14.predict(test_features_14)\n",
    "prediction_15 = rf15.predict(test_features_15)\n",
    "prediction_16 = rf16.predict(test_features_16)\n",
    "prediction_17 = rf17.predict(test_features_17)\n",
    "prediction_18 = rf18.predict(test_features_18)"
   ]
  },
  {
   "cell_type": "code",
   "execution_count": 11,
   "metadata": {},
   "outputs": [],
   "source": [
    "result_1 = test_features_1\n",
    "result_2 = test_features_2\n",
    "result_3 = test_features_3\n",
    "result_4 = test_features_4\n",
    "result_5 = test_features_5\n",
    "result_6 = test_features_6\n",
    "result_7 = test_features_7\n",
    "result_8 = test_features_8\n",
    "result_9 = test_features_9\n",
    "result_10 = test_features_10\n",
    "result_11 = test_features_11\n",
    "result_12 = test_features_12\n",
    "result_13 = test_features_13\n",
    "result_14 = test_features_14\n",
    "result_15 = test_features_15\n",
    "result_16 = test_features_16\n",
    "result_17 = test_features_17\n",
    "result_18 = test_features_18"
   ]
  },
  {
   "cell_type": "markdown",
   "metadata": {},
   "source": [
    "## Creating Results"
   ]
  },
  {
   "cell_type": "code",
   "execution_count": 12,
   "metadata": {},
   "outputs": [],
   "source": [
    "result_1['actual_fare'] = test_labels_1[['fare_amount']]\n",
    "result_2['actual_fare'] = test_labels_2[['fare_amount']]\n",
    "result_3['actual_fare'] = test_labels_3[['fare_amount']]\n",
    "result_4['actual_fare'] = test_labels_4[['fare_amount']]\n",
    "result_5['actual_fare'] = test_labels_5[['fare_amount']]\n",
    "result_6['actual_fare'] = test_labels_6[['fare_amount']]\n",
    "result_7['actual_fare'] = test_labels_7[['fare_amount']]\n",
    "result_8['actual_fare'] = test_labels_8[['fare_amount']]\n",
    "result_9['actual_fare'] = test_labels_9[['fare_amount']]\n",
    "result_10['actual_fare'] = test_labels_10[['fare_amount']]\n",
    "result_11['actual_fare'] = test_labels_11[['fare_amount']]\n",
    "result_12['actual_fare'] = test_labels_12[['fare_amount']]\n",
    "result_13['actual_fare'] = test_labels_13[['fare_amount']]\n",
    "result_14['actual_fare'] = test_labels_14[['fare_amount']]\n",
    "result_15['actual_fare'] = test_labels_15[['fare_amount']]\n",
    "result_16['actual_fare'] = test_labels_16[['fare_amount']]\n",
    "result_17['actual_fare'] = test_labels_17[['fare_amount']]\n",
    "result_18['actual_fare'] = test_labels_18[['fare_amount']]\n",
    "\n",
    "\n",
    "result_1['predicted_fare'] = prediction_1\n",
    "result_2['predicted_fare'] = prediction_2\n",
    "result_3['predicted_fare'] = prediction_3\n",
    "result_4['predicted_fare'] = prediction_4\n",
    "result_5['predicted_fare'] = prediction_5\n",
    "result_6['predicted_fare'] = prediction_6\n",
    "result_7['predicted_fare'] = prediction_7\n",
    "result_8['predicted_fare'] = prediction_8\n",
    "result_9['predicted_fare'] = prediction_9\n",
    "result_10['predicted_fare'] = prediction_10\n",
    "result_11['predicted_fare'] = prediction_11\n",
    "result_12['predicted_fare'] = prediction_12\n",
    "result_13['predicted_fare'] = prediction_13\n",
    "result_14['predicted_fare'] = prediction_14\n",
    "result_15['predicted_fare'] = prediction_15\n",
    "result_16['predicted_fare'] = prediction_16\n",
    "result_17['predicted_fare'] = prediction_17\n",
    "result_18['predicted_fare'] = prediction_18\n",
    "\n",
    "result_1['difference'] = abs(result_1['predicted_fare']-result_1['actual_fare'])\n",
    "result_2['difference'] = abs(result_2['predicted_fare']-result_2['actual_fare'])\n",
    "result_3['difference'] = abs(result_3['predicted_fare']-result_3['actual_fare'])\n",
    "result_4['difference'] = abs(result_4['predicted_fare']-result_4['actual_fare'])\n",
    "result_5['difference'] = abs(result_5['predicted_fare']-result_5['actual_fare'])\n",
    "result_6['difference'] = abs(result_6['predicted_fare']-result_6['actual_fare'])\n",
    "result_7['difference'] = abs(result_7['predicted_fare']-result_7['actual_fare'])\n",
    "result_8['difference'] = abs(result_8['predicted_fare']-result_8['actual_fare'])\n",
    "result_9['difference'] = abs(result_9['predicted_fare']-result_9['actual_fare'])\n",
    "result_10['difference'] = abs(result_10['predicted_fare']-result_10['actual_fare'])\n",
    "result_11['difference'] = abs(result_11['predicted_fare']-result_11['actual_fare'])\n",
    "result_12['difference'] = abs(result_12['predicted_fare']-result_12['actual_fare'])\n",
    "result_13['difference'] = abs(result_13['predicted_fare']-result_13['actual_fare'])\n",
    "result_14['difference'] = abs(result_14['predicted_fare']-result_14['actual_fare'])\n",
    "result_15['difference'] = abs(result_15['predicted_fare']-result_15['actual_fare'])\n",
    "result_16['difference'] = abs(result_16['predicted_fare']-result_16['actual_fare'])\n",
    "result_17['difference'] = abs(result_17['predicted_fare']-result_17['actual_fare'])\n",
    "result_18['difference'] = abs(result_18['predicted_fare']-result_18['actual_fare'])"
   ]
  },
  {
   "cell_type": "markdown",
   "metadata": {},
   "source": [
    "## Models Accuracy"
   ]
  },
  {
   "cell_type": "markdown",
   "metadata": {},
   "source": [
    "### Models with both trip_distance & trip_duration\n",
    "Model_1 = {'trip_distance','trip_duration','fare_amount'}  \n",
    "Model_2 = {'trip_distance','trip_duration','airport','fare_amount'}  \n",
    "Model_3 = {'trip_distance','trip_duration','airport','RatecodeID','fare_amount'}  \n",
    "Model_4 = {'trip_distance','trip_duration','airport','RatecodeID','payment_type','fare_amount'}  \n",
    "Model_5 = {'trip_distance','trip_duration','airport','RatecodeID','payment_type','DOLocationID','fare_amount'}  \n",
    "Model_6 = {'trip_distance','trip_duration','airport','RatecodeID','payment_type','DOLocationID','trip_type','fare_amount'}  \n",
    "Model_7 = {'trip_distance','trip_duration','airport','RatecodeID','payment_type','DOLocationID','trip_type','passenger_count','fare_amount'}  \n",
    "Model_8 = {'trip_distance','trip_duration','airport','RatecodeID','payment_type','DOLocationID','trip_type','passenger_count','PULocationID','fare_amount'}  "
   ]
  },
  {
   "cell_type": "code",
   "execution_count": 13,
   "metadata": {},
   "outputs": [
    {
     "name": "stdout",
     "output_type": "stream",
     "text": [
      "Model_1 Accuracy % : 93.10\n",
      "Model_2 Accuracy % : 93.10\n",
      "Model_3 Accuracy % : 93.56\n",
      "Model_4 Accuracy % : 93.53\n",
      "Model_5 Accuracy % : 93.53\n",
      "Model_6 Accuracy % : 93.52\n",
      "Model_7 Accuracy % : 93.52\n",
      "Model_8 Accuracy % : 93.49\n"
     ]
    }
   ],
   "source": [
    "print(\"Model_1 Accuracy % : \" +str((result_1[result_1['difference'] < 1].shape[0]/result_1.shape[0]) * 100)[:5])\n",
    "print(\"Model_2 Accuracy % : \" +str((result_2[result_2['difference'] < 1].shape[0]/result_2.shape[0]) * 100)[:5])\n",
    "print(\"Model_3 Accuracy % : \" +str((result_3[result_3['difference'] < 1].shape[0]/result_3.shape[0]) * 100)[:5])\n",
    "print(\"Model_4 Accuracy % : \" +str((result_4[result_4['difference'] < 1].shape[0]/result_4.shape[0]) * 100)[:5])\n",
    "print(\"Model_5 Accuracy % : \" +str((result_5[result_5['difference'] < 1].shape[0]/result_5.shape[0]) * 100)[:5])\n",
    "print(\"Model_6 Accuracy % : \" +str((result_6[result_6['difference'] < 1].shape[0]/result_6.shape[0]) * 100)[:5])\n",
    "print(\"Model_7 Accuracy % : \" +str((result_7[result_7['difference'] < 1].shape[0]/result_7.shape[0]) * 100)[:5])\n",
    "print(\"Model_8 Accuracy % : \" +str((result_8[result_8['difference'] < 1].shape[0]/result_8.shape[0]) * 100)[:5])"
   ]
  },
  {
   "cell_type": "markdown",
   "metadata": {},
   "source": [
    "### Models with only trip_distance\n",
    "\n",
    "Model_14 = {'airport','RatecodeID','payment_type','DOLocationID','trip_type','passenger_count','PULocationID','fare_amount'}  \n",
    "Model_15 = {'airport','RatecodeID','payment_type','DOLocationID','trip_type','passenger_count','PULocationID','hour','fare_amount'}  \n",
    "Model_16 = {'airport','RatecodeID','payment_type','DOLocationID','trip_type','passenger_count','PULocationID','hour','day','fare_amount'}  \n",
    "Model_17 = {'airport','RatecodeID','payment_type','DOLocationID','trip_type','passenger_count','PULocationID','hour','day','weekend_Trip','fare_amount'}  \n",
    "Model_18 = {'airport','RatecodeID','payment_type','DOLocationID','trip_type','passenger_count','PULocationID','hour','day','weekend_Trip','month','fare_amount'}  "
   ]
  },
  {
   "cell_type": "code",
   "execution_count": 16,
   "metadata": {},
   "outputs": [
    {
     "name": "stdout",
     "output_type": "stream",
     "text": [
      "Model_14 Accuracy % : 58.86\n",
      "Model_15 Accuracy % : 61.75\n",
      "Model_16 Accuracy % : 62.06\n",
      "Model_17 Accuracy % : 62.06\n",
      "Model_18 Accuracy % : 62.06\n"
     ]
    }
   ],
   "source": [
    "print(\"Model_14 Accuracy % : \" +str((result_14[result_14['difference'] < 1].shape[0]/result_14.shape[0]) * 100)[:5])\n",
    "print(\"Model_15 Accuracy % : \" +str((result_15[result_15['difference'] < 1].shape[0]/result_15.shape[0]) * 100)[:5])\n",
    "print(\"Model_16 Accuracy % : \" +str((result_16[result_16['difference'] < 1].shape[0]/result_16.shape[0]) * 100)[:5])\n",
    "print(\"Model_17 Accuracy % : \" +str((result_17[result_17['difference'] < 1].shape[0]/result_17.shape[0]) * 100)[:5])\n",
    "print(\"Model_18 Accuracy % : \" +str((result_18[result_18['difference'] < 1].shape[0]/result_18.shape[0]) * 100)[:5])"
   ]
  },
  {
   "cell_type": "markdown",
   "metadata": {},
   "source": [
    "### Models without trip_distance & trip_duration\n",
    "\n",
    "Model_9 = {'airport','RatecodeID','payment_type','DOLocationID','trip_type','passenger_count','PULocationID','fare_amount'}  \n",
    "Model_10 = {'airport','RatecodeID','payment_type','DOLocationID','trip_type','passenger_count','PULocationID','hour','fare_amount'}  \n",
    "Model_11 = {'airport','RatecodeID','payment_type','DOLocationID','trip_type','passenger_count','PULocationID','hour','day','fare_amount'}  \n",
    "Model_12 = {'airport','RatecodeID','payment_type','DOLocationID','trip_type','passenger_count','PULocationID','hour','day','weekend_Trip','fare_amount'}  \n",
    "Model_13 = {'airport','RatecodeID','payment_type','DOLocationID','trip_type','passenger_count','PULocationID','hour','day','weekend_Trip','month','fare_amount'}  "
   ]
  },
  {
   "cell_type": "code",
   "execution_count": 17,
   "metadata": {},
   "outputs": [
    {
     "name": "stdout",
     "output_type": "stream",
     "text": [
      "Model_9 Accuracy % : 13.53\n",
      "Model_10 Accuracy % : 13.49\n",
      "Model_11 Accuracy % : 13.58\n",
      "Model_12 Accuracy % : 13.58\n",
      "Model_13 Accuracy % : 13.77\n"
     ]
    }
   ],
   "source": [
    "print(\"Model_9 Accuracy % : \" +str((result_9[result_9['difference'] < 1].shape[0]/result_9.shape[0]) * 100)[:5])\n",
    "print(\"Model_10 Accuracy % : \" +str((result_10[result_10['difference'] < 1].shape[0]/result_10.shape[0]) * 100)[:5])\n",
    "print(\"Model_11 Accuracy % : \" +str((result_11[result_11['difference'] < 1].shape[0]/result_11.shape[0]) * 100)[:5])\n",
    "print(\"Model_12 Accuracy % : \" +str((result_12[result_12['difference'] < 1].shape[0]/result_12.shape[0]) * 100)[:5])\n",
    "print(\"Model_13 Accuracy % : \" +str((result_13[result_13['difference'] < 1].shape[0]/result_13.shape[0]) * 100)[:5])"
   ]
  },
  {
   "cell_type": "code",
   "execution_count": 18,
   "metadata": {},
   "outputs": [],
   "source": [
    "d = pd.DataFrame(columns=['Models','Accuracy'])\n",
    "d['Models'] = ['Model_1', 'Model_2', 'Model_3', 'Model_4', 'Model_5', 'Model_6', 'Model_7', 'Model_8', 'Model_9', 'Model_10', 'Model_11', 'Model_12', 'Model_13', 'Model_14', 'Model_15', 'Model_16', 'Model_17', 'Model_18']\n",
    "d['Accuracy'].loc[[0]] = ((result_1[result_1['difference'] < 1].shape[0]/result_1.shape[0]) * 100)\n",
    "d['Accuracy'].loc[[1]] = ((result_2[result_2['difference'] < 1].shape[0]/result_2.shape[0]) * 100)\n",
    "d['Accuracy'].loc[[2]] = ((result_3[result_3['difference'] < 1].shape[0]/result_3.shape[0]) * 100)\n",
    "d['Accuracy'].loc[[3]] = ((result_4[result_4['difference'] < 1].shape[0]/result_4.shape[0]) * 100)\n",
    "d['Accuracy'].loc[[4]] = ((result_5[result_5['difference'] < 1].shape[0]/result_5.shape[0]) * 100)\n",
    "d['Accuracy'].loc[[5]] = ((result_6[result_6['difference'] < 1].shape[0]/result_6.shape[0]) * 100)\n",
    "d['Accuracy'].loc[[6]] = ((result_7[result_7['difference'] < 1].shape[0]/result_7.shape[0]) * 100)\n",
    "d['Accuracy'].loc[[7]] = ((result_8[result_8['difference'] < 1].shape[0]/result_8.shape[0]) * 100)\n",
    "d['Accuracy'].loc[[8]] = ((result_9[result_9['difference'] < 1].shape[0]/result_9.shape[0]) * 100)\n",
    "d['Accuracy'].loc[[9]] = ((result_10[result_10['difference'] < 1].shape[0]/result_10.shape[0]) * 100)\n",
    "d['Accuracy'].loc[[10]] = ((result_11[result_11['difference'] < 1].shape[0]/result_11.shape[0]) * 100)\n",
    "d['Accuracy'].loc[[11]] = ((result_12[result_12['difference'] < 1].shape[0]/result_12.shape[0]) * 100)\n",
    "d['Accuracy'].loc[[12]] = ((result_13[result_13['difference'] < 1].shape[0]/result_13.shape[0]) * 100)\n",
    "d['Accuracy'].loc[[13]] = ((result_14[result_14['difference'] < 1].shape[0]/result_14.shape[0]) * 100)\n",
    "d['Accuracy'].loc[[14]] = ((result_15[result_15['difference'] < 1].shape[0]/result_15.shape[0]) * 100)\n",
    "d['Accuracy'].loc[[15]] = ((result_16[result_16['difference'] < 1].shape[0]/result_16.shape[0]) * 100)\n",
    "d['Accuracy'].loc[[16]] = ((result_17[result_17['difference'] < 1].shape[0]/result_17.shape[0]) * 100)\n",
    "d['Accuracy'].loc[[17]] = ((result_18[result_18['difference'] < 1].shape[0]/result_18.shape[0]) * 100)"
   ]
  },
  {
   "cell_type": "markdown",
   "metadata": {},
   "source": [
    "# Results"
   ]
  },
  {
   "cell_type": "code",
   "execution_count": 19,
   "metadata": {},
   "outputs": [
    {
     "data": {
      "text/plain": [
       "<matplotlib.axes._subplots.AxesSubplot at 0x2bec01bcc18>"
      ]
     },
     "execution_count": 19,
     "metadata": {},
     "output_type": "execute_result"
    },
    {
     "data": {
      "image/png": "[encoded data removed]",
      "text/plain": [
       "<Figure size 1080x504 with 1 Axes>"
      ]
     },
     "metadata": {},
     "output_type": "display_data"
    }
   ],
   "source": [
    "d.sort_values(by=['Accuracy'], ascending=False).plot.bar(x='Models', y='Accuracy',figsize=(15,7), fontsize=12)"
   ]
  }
 ],
 "metadata": {
  "kernelspec": {
   "display_name": "Python 3",
   "language": "python",
   "name": "python3"
  },
  "language_info": {
   "codemirror_mode": {
    "name": "ipython",
    "version": 3
   },
   "file_extension": ".py",
   "mimetype": "text/x-python",
   "name": "python",
   "nbconvert_exporter": "python",
   "pygments_lexer": "ipython3",
   "version": "3.6.5"
  }
 },
 "nbformat": 4,
 "nbformat_minor": 2
}
