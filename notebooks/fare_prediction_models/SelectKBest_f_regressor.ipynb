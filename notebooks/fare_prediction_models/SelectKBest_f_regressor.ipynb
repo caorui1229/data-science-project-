{
 "cells": [
  {
   "cell_type": "code",
   "execution_count": 1,
   "metadata": {},
   "outputs": [],
   "source": [
    "import pandas as pd\n",
    "import numpy as np\n",
    "from sklearn.feature_selection import SelectKBest\n",
    "from sklearn.feature_selection import f_regression\n",
    "import warnings\n",
    "warnings.filterwarnings('ignore')"
   ]
  },
  {
   "cell_type": "code",
   "execution_count": 2,
   "metadata": {},
   "outputs": [],
   "source": [
    "df_new = pd.read_pickle(r'C:\\Users\\nishi\\Desktop\\EECS 731 - Data Science\\Project\\df_new.pkl')"
   ]
  },
  {
   "cell_type": "code",
   "execution_count": 3,
   "metadata": {},
   "outputs": [],
   "source": [
    "df_new = df_new[['RatecodeID','PULocationID','DOLocationID','passenger_count','trip_distance','fare_amount','payment_type','trip_type','trip_duration','month','day','weekend_Trip','hour','airport']]\n",
    "X = df_new[['RatecodeID','PULocationID','DOLocationID','passenger_count','trip_distance','payment_type','trip_type','trip_duration','month','day','weekend_Trip','hour','airport']]\n",
    "y = df_new[['fare_amount']]"
   ]
  },
  {
   "cell_type": "code",
   "execution_count": 4,
   "metadata": {},
   "outputs": [],
   "source": [
    "# Create and fit selector\n",
    "selector1 = SelectKBest(f_regression, k=1)\n",
    "selector2 = SelectKBest(f_regression, k=2)\n",
    "selector3 = SelectKBest(f_regression, k=3)\n",
    "selector4 = SelectKBest(f_regression, k=4)\n",
    "selector5 = SelectKBest(f_regression, k=5)\n",
    "selector6 = SelectKBest(f_regression, k=6)\n",
    "selector7 = SelectKBest(f_regression, k=7)\n",
    "selector8 = SelectKBest(f_regression, k=8)\n",
    "selector9 = SelectKBest(f_regression, k=9)\n",
    "selector1.fit(X, y)\n",
    "selector2.fit(X, y)\n",
    "selector3.fit(X, y)\n",
    "selector4.fit(X, y)\n",
    "selector5.fit(X, y)\n",
    "selector6.fit(X, y)\n",
    "selector7.fit(X, y)\n",
    "selector8.fit(X, y)\n",
    "selector9.fit(X, y)\n",
    "# Get idxs of columns to keep\n",
    "idxs_selected1 = selector1.get_support()\n",
    "idxs_selected2 = selector2.get_support()\n",
    "idxs_selected3 = selector3.get_support()\n",
    "idxs_selected4 = selector4.get_support()\n",
    "idxs_selected5 = selector5.get_support()\n",
    "idxs_selected6 = selector6.get_support()\n",
    "idxs_selected7 = selector7.get_support()\n",
    "idxs_selected8 = selector8.get_support()\n",
    "idxs_selected9 = selector9.get_support()\n",
    "# Create new dataframe with only desired columns, or overwrite existing\n",
    "features_dataframe_new1 = X.columns[idxs_selected1]\n",
    "features_dataframe_new2 = X.columns[idxs_selected2]\n",
    "features_dataframe_new3 = X.columns[idxs_selected3]\n",
    "features_dataframe_new4 = X.columns[idxs_selected4]\n",
    "features_dataframe_new5 = X.columns[idxs_selected5]\n",
    "features_dataframe_new6 = X.columns[idxs_selected6]\n",
    "features_dataframe_new7 = X.columns[idxs_selected7]\n",
    "features_dataframe_new8 = X.columns[idxs_selected8]\n",
    "features_dataframe_new9 = X.columns[idxs_selected9]"
   ]
  },
  {
   "cell_type": "code",
   "execution_count": 5,
   "metadata": {},
   "outputs": [
    {
     "name": "stdout",
     "output_type": "stream",
     "text": [
      "Rank 1 : ['trip_distance']\n",
      "Rank 2 : ['trip_duration']\n",
      "Rank 3 : ['airport']\n",
      "Rank 4 : ['RatecodeID']\n",
      "Rank 5 : ['payment_type']\n",
      "Rank 6 : ['DOLocationID']\n",
      "Rank 7 : ['trip_type']\n",
      "Rank 8 : ['passenger_count']\n",
      "Rank 9 : ['PULocationID']\n"
     ]
    }
   ],
   "source": [
    "print(\"Rank 1 : \" + str(features_dataframe_new1.values))\n",
    "print(\"Rank 2 : \" + str(features_dataframe_new2[~features_dataframe_new2.isin(features_dataframe_new1)].values))\n",
    "print(\"Rank 3 : \" + str(features_dataframe_new3[~features_dataframe_new3.isin(features_dataframe_new2)].values))\n",
    "print(\"Rank 4 : \" + str(features_dataframe_new4[~features_dataframe_new4.isin(features_dataframe_new3)].values))\n",
    "print(\"Rank 5 : \" + str(features_dataframe_new5[~features_dataframe_new5.isin(features_dataframe_new4)].values))\n",
    "print(\"Rank 6 : \" + str(features_dataframe_new6[~features_dataframe_new6.isin(features_dataframe_new5)].values))\n",
    "print(\"Rank 7 : \" + str(features_dataframe_new7[~features_dataframe_new7.isin(features_dataframe_new6)].values))\n",
    "print(\"Rank 8 : \" + str(features_dataframe_new8[~features_dataframe_new8.isin(features_dataframe_new7)].values))\n",
    "print(\"Rank 9 : \" + str(features_dataframe_new9[~features_dataframe_new9.isin(features_dataframe_new8)].values))"
   ]
  }
 ],
 "metadata": {
  "kernelspec": {
   "display_name": "Python 3",
   "language": "python",
   "name": "python3"
  },
  "language_info": {
   "codemirror_mode": {
    "name": "ipython",
    "version": 3
   },
   "file_extension": ".py",
   "mimetype": "text/x-python",
   "name": "python",
   "nbconvert_exporter": "python",
   "pygments_lexer": "ipython3",
   "version": "3.6.5"
  }
 },
 "nbformat": 4,
 "nbformat_minor": 2
}
