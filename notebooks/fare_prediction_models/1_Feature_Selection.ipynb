{
 "cells": [
  {
   "cell_type": "code",
   "execution_count": 19,
   "metadata": {},
   "outputs": [],
   "source": [
    "import pandas as pd\n",
    "import numpy as np\n",
    "from sklearn.feature_selection import SelectKBest\n",
    "from sklearn.feature_selection import f_regression\n",
    "import warnings\n",
    "warnings.filterwarnings('ignore')"
   ]
  },
  {
   "cell_type": "code",
   "execution_count": 20,
   "metadata": {},
   "outputs": [],
   "source": [
    "df_new = pd.read_pickle(r'C:\\Users\\nishi\\Desktop\\EECS 731 - Data Science\\Project\\df_new.pkl')"
   ]
  },
  {
   "cell_type": "code",
   "execution_count": 21,
   "metadata": {},
   "outputs": [],
   "source": [
    "df_new = df_new[['RatecodeID','PULocationID','DOLocationID','passenger_count','trip_distance','fare_amount','payment_type','trip_type','trip_duration','month','day','weekend_Trip','hour','airport']]\n",
    "X = df_new[['RatecodeID','PULocationID','DOLocationID','passenger_count','trip_distance','payment_type','trip_type','trip_duration','month','day','weekend_Trip','hour','airport']]\n",
    "y = df_new[['fare_amount']]"
   ]
  },
  {
   "cell_type": "code",
   "execution_count": 22,
   "metadata": {},
   "outputs": [],
   "source": [
    "# Create and fit selector\n",
    "selector1 = SelectKBest(f_regression, k=1)\n",
    "selector2 = SelectKBest(f_regression, k=2)\n",
    "selector3 = SelectKBest(f_regression, k=3)\n",
    "selector4 = SelectKBest(f_regression, k=4)\n",
    "selector5 = SelectKBest(f_regression, k=5)\n",
    "selector6 = SelectKBest(f_regression, k=6)\n",
    "selector7 = SelectKBest(f_regression, k=7)\n",
    "selector8 = SelectKBest(f_regression, k=8)\n",
    "selector9 = SelectKBest(f_regression, k=9)\n",
    "selector1.fit(X, y)\n",
    "selector2.fit(X, y)\n",
    "selector3.fit(X, y)\n",
    "selector4.fit(X, y)\n",
    "selector5.fit(X, y)\n",
    "selector6.fit(X, y)\n",
    "selector7.fit(X, y)\n",
    "selector8.fit(X, y)\n",
    "selector9.fit(X, y)\n",
    "# Get idxs of columns to keep\n",
    "idxs_selected1 = selector1.get_support()\n",
    "idxs_selected2 = selector2.get_support()\n",
    "idxs_selected3 = selector3.get_support()\n",
    "idxs_selected4 = selector4.get_support()\n",
    "idxs_selected5 = selector5.get_support()\n",
    "idxs_selected6 = selector6.get_support()\n",
    "idxs_selected7 = selector7.get_support()\n",
    "idxs_selected8 = selector8.get_support()\n",
    "idxs_selected9 = selector9.get_support()\n",
    "# Create new dataframe with only desired columns, or overwrite existing\n",
    "features_dataframe_new1 = X.columns[idxs_selected1]\n",
    "features_dataframe_new2 = X.columns[idxs_selected2]\n",
    "features_dataframe_new3 = X.columns[idxs_selected3]\n",
    "features_dataframe_new4 = X.columns[idxs_selected4]\n",
    "features_dataframe_new5 = X.columns[idxs_selected5]\n",
    "features_dataframe_new6 = X.columns[idxs_selected6]\n",
    "features_dataframe_new7 = X.columns[idxs_selected7]\n",
    "features_dataframe_new8 = X.columns[idxs_selected8]\n",
    "features_dataframe_new9 = X.columns[idxs_selected9]"
   ]
  },
  {
   "cell_type": "code",
   "execution_count": 23,
   "metadata": {},
   "outputs": [
    {
     "name": "stdout",
     "output_type": "stream",
     "text": [
      "Rank 1 : ['trip_distance']\n",
      "Rank 2 : ['trip_duration']\n",
      "Rank 3 : ['airport']\n",
      "Rank 4 : ['RatecodeID']\n",
      "Rank 5 : ['payment_type']\n",
      "Rank 6 : ['DOLocationID']\n",
      "Rank 7 : ['trip_type']\n",
      "Rank 8 : ['passenger_count']\n",
      "Rank 9 : ['PULocationID']\n"
     ]
    }
   ],
   "source": [
    "print(\"Rank 1 : \" + str(features_dataframe_new1.values))\n",
    "print(\"Rank 2 : \" + str(features_dataframe_new2[~features_dataframe_new2.isin(features_dataframe_new1)].values))\n",
    "print(\"Rank 3 : \" + str(features_dataframe_new3[~features_dataframe_new3.isin(features_dataframe_new2)].values))\n",
    "print(\"Rank 4 : \" + str(features_dataframe_new4[~features_dataframe_new4.isin(features_dataframe_new3)].values))\n",
    "print(\"Rank 5 : \" + str(features_dataframe_new5[~features_dataframe_new5.isin(features_dataframe_new4)].values))\n",
    "print(\"Rank 6 : \" + str(features_dataframe_new6[~features_dataframe_new6.isin(features_dataframe_new5)].values))\n",
    "print(\"Rank 7 : \" + str(features_dataframe_new7[~features_dataframe_new7.isin(features_dataframe_new6)].values))\n",
    "print(\"Rank 8 : \" + str(features_dataframe_new8[~features_dataframe_new8.isin(features_dataframe_new7)].values))\n",
    "print(\"Rank 9 : \" + str(features_dataframe_new9[~features_dataframe_new9.isin(features_dataframe_new8)].values))"
   ]
  },
  {
   "cell_type": "code",
   "execution_count": 24,
   "metadata": {},
   "outputs": [
    {
     "data": {
      "text/plain": [
       "array([4.64043945e+04, 4.69808864e+03, 2.74656106e+04, 5.15840650e+03,\n",
       "       1.28477286e+07, 3.50619736e+04, 2.35847175e+04, 6.87031919e+06,\n",
       "       8.16358294e+01, 5.24355255e+02, 1.69583146e+02, 3.49066945e+03,\n",
       "       2.00811056e+05])"
      ]
     },
     "execution_count": 24,
     "metadata": {},
     "output_type": "execute_result"
    }
   ],
   "source": [
    "selector9.scores_"
   ]
  },
  {
   "cell_type": "code",
   "execution_count": 26,
   "metadata": {},
   "outputs": [
    {
     "data": {
      "text/plain": [
       "array([ True,  True,  True,  True,  True,  True,  True,  True, False,\n",
       "       False, False, False,  True])"
      ]
     },
     "execution_count": 26,
     "metadata": {},
     "output_type": "execute_result"
    }
   ],
   "source": [
    "selector9.get_support()"
   ]
  },
  {
   "cell_type": "code",
   "execution_count": 27,
   "metadata": {},
   "outputs": [
    {
     "data": {
      "text/plain": [
       "RatecodeID           int64\n",
       "PULocationID         int64\n",
       "DOLocationID         int64\n",
       "passenger_count      int64\n",
       "trip_distance      float64\n",
       "payment_type         int64\n",
       "trip_type          float64\n",
       "trip_duration      float64\n",
       "month                int64\n",
       "day                  int64\n",
       "weekend_Trip         int32\n",
       "hour                 int64\n",
       "airport              int32\n",
       "dtype: object"
      ]
     },
     "execution_count": 27,
     "metadata": {},
     "output_type": "execute_result"
    }
   ],
   "source": [
    "X.dtypes"
   ]
  },
  {
   "cell_type": "code",
   "execution_count": 28,
   "metadata": {},
   "outputs": [
    {
     "data": {
      "text/plain": [
       "Index(['RatecodeID', 'PULocationID', 'DOLocationID', 'passenger_count',\n",
       "       'trip_distance', 'payment_type', 'trip_type', 'trip_duration', 'month',\n",
       "       'day', 'weekend_Trip', 'hour', 'airport'],\n",
       "      dtype='object')"
      ]
     },
     "execution_count": 28,
     "metadata": {},
     "output_type": "execute_result"
    }
   ],
   "source": [
    "X.columns"
   ]
  },
  {
   "cell_type": "code",
   "execution_count": 31,
   "metadata": {},
   "outputs": [],
   "source": [
    "F = pd.DataFrame(columns=['Features'], data=X.columns)"
   ]
  },
  {
   "cell_type": "code",
   "execution_count": 33,
   "metadata": {},
   "outputs": [],
   "source": [
    "F['Scores'] = selector9.scores_"
   ]
  },
  {
   "cell_type": "code",
   "execution_count": 43,
   "metadata": {},
   "outputs": [
    {
     "data": {
      "text/html": [
       "<div>\n",
       "<style scoped>\n",
       "    .dataframe tbody tr th:only-of-type {\n",
       "        vertical-align: middle;\n",
       "    }\n",
       "\n",
       "    .dataframe tbody tr th {\n",
       "        vertical-align: top;\n",
       "    }\n",
       "\n",
       "    .dataframe thead th {\n",
       "        text-align: right;\n",
       "    }\n",
       "</style>\n",
       "<table border=\"1\" class=\"dataframe\">\n",
       "  <thead>\n",
       "    <tr style=\"text-align: right;\">\n",
       "      <th></th>\n",
       "      <th>Features</th>\n",
       "      <th>Scores</th>\n",
       "    </tr>\n",
       "  </thead>\n",
       "  <tbody>\n",
       "    <tr>\n",
       "      <th>4</th>\n",
       "      <td>trip_distance</td>\n",
       "      <td>1.284773e+07</td>\n",
       "    </tr>\n",
       "    <tr>\n",
       "      <th>7</th>\n",
       "      <td>trip_duration</td>\n",
       "      <td>6.870319e+06</td>\n",
       "    </tr>\n",
       "    <tr>\n",
       "      <th>12</th>\n",
       "      <td>airport</td>\n",
       "      <td>2.008111e+05</td>\n",
       "    </tr>\n",
       "    <tr>\n",
       "      <th>0</th>\n",
       "      <td>RatecodeID</td>\n",
       "      <td>4.640439e+04</td>\n",
       "    </tr>\n",
       "    <tr>\n",
       "      <th>5</th>\n",
       "      <td>payment_type</td>\n",
       "      <td>3.506197e+04</td>\n",
       "    </tr>\n",
       "    <tr>\n",
       "      <th>2</th>\n",
       "      <td>DOLocationID</td>\n",
       "      <td>2.746561e+04</td>\n",
       "    </tr>\n",
       "    <tr>\n",
       "      <th>6</th>\n",
       "      <td>trip_type</td>\n",
       "      <td>2.358472e+04</td>\n",
       "    </tr>\n",
       "    <tr>\n",
       "      <th>3</th>\n",
       "      <td>passenger_count</td>\n",
       "      <td>5.158407e+03</td>\n",
       "    </tr>\n",
       "    <tr>\n",
       "      <th>1</th>\n",
       "      <td>PULocationID</td>\n",
       "      <td>4.698089e+03</td>\n",
       "    </tr>\n",
       "    <tr>\n",
       "      <th>11</th>\n",
       "      <td>hour</td>\n",
       "      <td>3.490669e+03</td>\n",
       "    </tr>\n",
       "    <tr>\n",
       "      <th>9</th>\n",
       "      <td>day</td>\n",
       "      <td>5.243553e+02</td>\n",
       "    </tr>\n",
       "    <tr>\n",
       "      <th>10</th>\n",
       "      <td>weekend_Trip</td>\n",
       "      <td>1.695831e+02</td>\n",
       "    </tr>\n",
       "    <tr>\n",
       "      <th>8</th>\n",
       "      <td>month</td>\n",
       "      <td>8.163583e+01</td>\n",
       "    </tr>\n",
       "  </tbody>\n",
       "</table>\n",
       "</div>"
      ],
      "text/plain": [
       "           Features        Scores\n",
       "4     trip_distance  1.284773e+07\n",
       "7     trip_duration  6.870319e+06\n",
       "12          airport  2.008111e+05\n",
       "0        RatecodeID  4.640439e+04\n",
       "5      payment_type  3.506197e+04\n",
       "2      DOLocationID  2.746561e+04\n",
       "6         trip_type  2.358472e+04\n",
       "3   passenger_count  5.158407e+03\n",
       "1      PULocationID  4.698089e+03\n",
       "11             hour  3.490669e+03\n",
       "9               day  5.243553e+02\n",
       "10     weekend_Trip  1.695831e+02\n",
       "8             month  8.163583e+01"
      ]
     },
     "execution_count": 43,
     "metadata": {},
     "output_type": "execute_result"
    }
   ],
   "source": [
    "F.sort_values(by=['Scores'], ascending=False)"
   ]
  },
  {
   "cell_type": "code",
   "execution_count": 44,
   "metadata": {},
   "outputs": [
    {
     "data": {
      "text/plain": [
       "Features     object\n",
       "Scores      float64\n",
       "dtype: object"
      ]
     },
     "execution_count": 44,
     "metadata": {},
     "output_type": "execute_result"
    }
   ],
   "source": [
    "F.dtypes"
   ]
  },
  {
   "cell_type": "code",
   "execution_count": 59,
   "metadata": {},
   "outputs": [
    {
     "data": {
      "text/plain": [
       "<matplotlib.axes._subplots.AxesSubplot at 0x2000d09f6d8>"
      ]
     },
     "execution_count": 59,
     "metadata": {},
     "output_type": "execute_result"
    },
    {
     "data": {
      "image/png": "[encoded data removed]",
      "text/plain": [
       "<Figure size 1080x432 with 1 Axes>"
      ]
     },
     "metadata": {},
     "output_type": "display_data"
    }
   ],
   "source": [
    "F.sort_values(by=['Scores'], ascending=False).plot.bar(x='Features', y='Scores',figsize=(15,6), fontsize=15)"
   ]
  }
 ],
 "metadata": {
  "kernelspec": {
   "display_name": "Python 3",
   "language": "python",
   "name": "python3"
  },
  "language_info": {
   "codemirror_mode": {
    "name": "ipython",
    "version": 3
   },
   "file_extension": ".py",
   "mimetype": "text/x-python",
   "name": "python",
   "nbconvert_exporter": "python",
   "pygments_lexer": "ipython3",
   "version": "3.6.5"
  }
 },
 "nbformat": 4,
 "nbformat_minor": 2
}
