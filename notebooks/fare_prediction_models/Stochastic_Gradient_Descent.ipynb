{
 "cells": [
  {
   "cell_type": "markdown",
   "metadata": {},
   "source": [
    "# Regression Using Stochastic Gradient Descent"
   ]
  },
  {
   "cell_type": "code",
   "execution_count": 1,
   "metadata": {},
   "outputs": [],
   "source": [
    "import pandas as pd\n",
    "import numpy as np\n",
    "import matplotlib.pyplot as plt\n",
    "import seaborn as sns\n",
    "import warnings\n",
    "import pickle\n",
    "warnings.filterwarnings('ignore')"
   ]
  },
  {
   "cell_type": "markdown",
   "metadata": {},
   "source": [
    "## Importing Pre-processed Data"
   ]
  },
  {
   "cell_type": "code",
   "execution_count": 2,
   "metadata": {},
   "outputs": [],
   "source": [
    "df_new = pd.read_pickle(r'C:\\Users\\nishi\\Desktop\\EECS 731 - Data Science\\Project\\df_new.pkl')"
   ]
  },
  {
   "cell_type": "code",
   "execution_count": 3,
   "metadata": {},
   "outputs": [
    {
     "data": {
      "text/html": [
       "<div>\n",
       "<style scoped>\n",
       "    .dataframe tbody tr th:only-of-type {\n",
       "        vertical-align: middle;\n",
       "    }\n",
       "\n",
       "    .dataframe tbody tr th {\n",
       "        vertical-align: top;\n",
       "    }\n",
       "\n",
       "    .dataframe thead th {\n",
       "        text-align: right;\n",
       "    }\n",
       "</style>\n",
       "<table border=\"1\" class=\"dataframe\">\n",
       "  <thead>\n",
       "    <tr style=\"text-align: right;\">\n",
       "      <th></th>\n",
       "      <th>lpep_pickup_datetime</th>\n",
       "      <th>lpep_dropoff_datetime</th>\n",
       "      <th>RatecodeID</th>\n",
       "      <th>PULocationID</th>\n",
       "      <th>DOLocationID</th>\n",
       "      <th>passenger_count</th>\n",
       "      <th>trip_distance</th>\n",
       "      <th>fare_amount</th>\n",
       "      <th>extra</th>\n",
       "      <th>mta_tax</th>\n",
       "      <th>...</th>\n",
       "      <th>total_amount</th>\n",
       "      <th>payment_type</th>\n",
       "      <th>trip_type</th>\n",
       "      <th>trip_duration</th>\n",
       "      <th>month</th>\n",
       "      <th>day</th>\n",
       "      <th>total_custom</th>\n",
       "      <th>weekend_Trip</th>\n",
       "      <th>hour</th>\n",
       "      <th>airport</th>\n",
       "    </tr>\n",
       "  </thead>\n",
       "  <tbody>\n",
       "    <tr>\n",
       "      <th>0</th>\n",
       "      <td>2017-12-31 23:55:09</td>\n",
       "      <td>2017-12-31 23:59:14</td>\n",
       "      <td>1</td>\n",
       "      <td>17</td>\n",
       "      <td>61</td>\n",
       "      <td>1</td>\n",
       "      <td>1.1</td>\n",
       "      <td>5.5</td>\n",
       "      <td>0.5</td>\n",
       "      <td>0.5</td>\n",
       "      <td>...</td>\n",
       "      <td>6.80</td>\n",
       "      <td>2</td>\n",
       "      <td>1.0</td>\n",
       "      <td>4.083333</td>\n",
       "      <td>12</td>\n",
       "      <td>6</td>\n",
       "      <td>6.80</td>\n",
       "      <td>1</td>\n",
       "      <td>23</td>\n",
       "      <td>0</td>\n",
       "    </tr>\n",
       "    <tr>\n",
       "      <th>1</th>\n",
       "      <td>2017-12-31 23:30:36</td>\n",
       "      <td>2017-12-31 23:37:20</td>\n",
       "      <td>1</td>\n",
       "      <td>61</td>\n",
       "      <td>49</td>\n",
       "      <td>1</td>\n",
       "      <td>1.1</td>\n",
       "      <td>6.5</td>\n",
       "      <td>0.5</td>\n",
       "      <td>0.5</td>\n",
       "      <td>...</td>\n",
       "      <td>7.80</td>\n",
       "      <td>2</td>\n",
       "      <td>1.0</td>\n",
       "      <td>6.733333</td>\n",
       "      <td>12</td>\n",
       "      <td>6</td>\n",
       "      <td>7.80</td>\n",
       "      <td>1</td>\n",
       "      <td>23</td>\n",
       "      <td>0</td>\n",
       "    </tr>\n",
       "    <tr>\n",
       "      <th>2</th>\n",
       "      <td>2017-12-31 23:02:26</td>\n",
       "      <td>2017-12-31 23:19:37</td>\n",
       "      <td>1</td>\n",
       "      <td>228</td>\n",
       "      <td>188</td>\n",
       "      <td>1</td>\n",
       "      <td>4.1</td>\n",
       "      <td>15.5</td>\n",
       "      <td>0.5</td>\n",
       "      <td>0.5</td>\n",
       "      <td>...</td>\n",
       "      <td>20.15</td>\n",
       "      <td>1</td>\n",
       "      <td>1.0</td>\n",
       "      <td>17.183333</td>\n",
       "      <td>12</td>\n",
       "      <td>6</td>\n",
       "      <td>20.15</td>\n",
       "      <td>1</td>\n",
       "      <td>23</td>\n",
       "      <td>0</td>\n",
       "    </tr>\n",
       "    <tr>\n",
       "      <th>3</th>\n",
       "      <td>2017-12-31 23:12:24</td>\n",
       "      <td>2017-12-31 23:16:55</td>\n",
       "      <td>1</td>\n",
       "      <td>228</td>\n",
       "      <td>26</td>\n",
       "      <td>1</td>\n",
       "      <td>0.8</td>\n",
       "      <td>5.0</td>\n",
       "      <td>0.5</td>\n",
       "      <td>0.5</td>\n",
       "      <td>...</td>\n",
       "      <td>6.30</td>\n",
       "      <td>2</td>\n",
       "      <td>1.0</td>\n",
       "      <td>4.516667</td>\n",
       "      <td>12</td>\n",
       "      <td>6</td>\n",
       "      <td>6.30</td>\n",
       "      <td>1</td>\n",
       "      <td>23</td>\n",
       "      <td>0</td>\n",
       "    </tr>\n",
       "    <tr>\n",
       "      <th>4</th>\n",
       "      <td>2017-12-31 23:53:11</td>\n",
       "      <td>2017-12-31 23:55:40</td>\n",
       "      <td>1</td>\n",
       "      <td>225</td>\n",
       "      <td>225</td>\n",
       "      <td>1</td>\n",
       "      <td>0.5</td>\n",
       "      <td>4.0</td>\n",
       "      <td>0.5</td>\n",
       "      <td>0.5</td>\n",
       "      <td>...</td>\n",
       "      <td>5.30</td>\n",
       "      <td>2</td>\n",
       "      <td>1.0</td>\n",
       "      <td>2.483333</td>\n",
       "      <td>12</td>\n",
       "      <td>6</td>\n",
       "      <td>5.30</td>\n",
       "      <td>1</td>\n",
       "      <td>23</td>\n",
       "      <td>0</td>\n",
       "    </tr>\n",
       "  </tbody>\n",
       "</table>\n",
       "<p>5 rows × 23 columns</p>\n",
       "</div>"
      ],
      "text/plain": [
       "  lpep_pickup_datetime lpep_dropoff_datetime  RatecodeID  PULocationID  \\\n",
       "0  2017-12-31 23:55:09   2017-12-31 23:59:14           1            17   \n",
       "1  2017-12-31 23:30:36   2017-12-31 23:37:20           1            61   \n",
       "2  2017-12-31 23:02:26   2017-12-31 23:19:37           1           228   \n",
       "3  2017-12-31 23:12:24   2017-12-31 23:16:55           1           228   \n",
       "4  2017-12-31 23:53:11   2017-12-31 23:55:40           1           225   \n",
       "\n",
       "   DOLocationID  passenger_count  trip_distance  fare_amount  extra  mta_tax  \\\n",
       "0            61                1            1.1          5.5    0.5      0.5   \n",
       "1            49                1            1.1          6.5    0.5      0.5   \n",
       "2           188                1            4.1         15.5    0.5      0.5   \n",
       "3            26                1            0.8          5.0    0.5      0.5   \n",
       "4           225                1            0.5          4.0    0.5      0.5   \n",
       "\n",
       "    ...     total_amount  payment_type  trip_type  trip_duration  month  day  \\\n",
       "0   ...             6.80             2        1.0       4.083333     12    6   \n",
       "1   ...             7.80             2        1.0       6.733333     12    6   \n",
       "2   ...            20.15             1        1.0      17.183333     12    6   \n",
       "3   ...             6.30             2        1.0       4.516667     12    6   \n",
       "4   ...             5.30             2        1.0       2.483333     12    6   \n",
       "\n",
       "   total_custom  weekend_Trip  hour  airport  \n",
       "0          6.80             1    23        0  \n",
       "1          7.80             1    23        0  \n",
       "2         20.15             1    23        0  \n",
       "3          6.30             1    23        0  \n",
       "4          5.30             1    23        0  \n",
       "\n",
       "[5 rows x 23 columns]"
      ]
     },
     "execution_count": 3,
     "metadata": {},
     "output_type": "execute_result"
    }
   ],
   "source": [
    "df_new.head()"
   ]
  },
  {
   "cell_type": "markdown",
   "metadata": {},
   "source": [
    "## Shuffling data"
   ]
  },
  {
   "cell_type": "code",
   "execution_count": 4,
   "metadata": {},
   "outputs": [],
   "source": [
    "df_new = df_new.sample(frac=1).reset_index(drop=True)"
   ]
  },
  {
   "cell_type": "markdown",
   "metadata": {},
   "source": [
    "## Different Models with different features for accuracy comparasion"
   ]
  },
  {
   "cell_type": "code",
   "execution_count": 5,
   "metadata": {
    "scrolled": true
   },
   "outputs": [],
   "source": [
    "# Creating a dataframes for model testing. Models cannot parse datetime columns, so have to drop them\n",
    "\n",
    "# Models with trip_distance & trip_duration\n",
    "df_1 = df_new[['trip_distance','trip_duration','airport','fare_amount']]\n",
    "\n",
    "# Models without trip_distance & trip_duration\n",
    "df_2 = df_new[['airport','RatecodeID','payment_type','DOLocationID','trip_type','passenger_count','PULocationID','hour','day','weekend_Trip','month','fare_amount']]\n",
    "\n",
    "# Models with only trip_distance\n",
    "df_3 = df_new[['trip_distance','airport','RatecodeID','payment_type','DOLocationID','trip_type','passenger_count','PULocationID','hour','day','fare_amount']]\n"
   ]
  },
  {
   "cell_type": "markdown",
   "metadata": {},
   "source": [
    "## Splitting the data into Training and Testing"
   ]
  },
  {
   "cell_type": "code",
   "execution_count": 6,
   "metadata": {},
   "outputs": [],
   "source": [
    "# Using Skicit-learn to split data into training and testing sets\n",
    "from sklearn.model_selection import train_test_split\n",
    "\n",
    "features_1 = df_1.drop(['fare_amount'], axis = 1)\n",
    "labels_1 = df_1[['fare_amount']]\n",
    "\n",
    "features_2 = df_2.drop(['fare_amount'], axis = 1)\n",
    "labels_2 = df_2[['fare_amount']]\n",
    "\n",
    "features_3 = df_3.drop(['fare_amount'], axis = 1)\n",
    "labels_3 = df_3[['fare_amount']]"
   ]
  },
  {
   "cell_type": "code",
   "execution_count": 7,
   "metadata": {},
   "outputs": [],
   "source": [
    "# Split the data into training and testing sets\n",
    "\n",
    "train_features_1, test_features_1, train_labels_1, test_labels_1 = train_test_split(features_1, labels_1, test_size = 0.10, random_state = 42)\n",
    "train_features_2, test_features_2, train_labels_2, test_labels_2 = train_test_split(features_2, labels_2, test_size = 0.10, random_state = 42)\n",
    "train_features_3, test_features_3, train_labels_3, test_labels_3 = train_test_split(features_3, labels_3, test_size = 0.10, random_state = 42)\n"
   ]
  },
  {
   "cell_type": "code",
   "execution_count": 8,
   "metadata": {},
   "outputs": [
    {
     "name": "stdout",
     "output_type": "stream",
     "text": [
      "Training Features Shape: (2024739, 3)\n",
      "Training Labels Shape: (2024739, 1)\n",
      "Testing Features Shape: (224972, 3)\n",
      "Testing Labels Shape: (224972, 1)\n"
     ]
    }
   ],
   "source": [
    "print('Training Features Shape:', train_features_1.shape)\n",
    "print('Training Labels Shape:', train_labels_1.shape)\n",
    "print('Testing Features Shape:', test_features_1.shape)\n",
    "print('Testing Labels Shape:', test_labels_1.shape)"
   ]
  },
  {
   "cell_type": "markdown",
   "metadata": {},
   "source": [
    "# Using Stochastic Gradient Descent for prediction"
   ]
  },
  {
   "cell_type": "code",
   "execution_count": 9,
   "metadata": {},
   "outputs": [
    {
     "name": "stdout",
     "output_type": "stream",
     "text": [
      "Wall time: 3min 42s\n"
     ]
    }
   ],
   "source": [
    "%%time\n",
    "from sklearn import linear_model\n",
    "rf1 = linear_model.SGDRegressor(max_iter=1000, tol=1e-3)\n",
    "rf2 = linear_model.SGDRegressor(max_iter=1000, tol=1e-3)\n",
    "rf3 = linear_model.SGDRegressor(max_iter=1000, tol=1e-3)\n",
    "\n",
    "rf1.fit(train_features_1, train_labels_1.values.ravel())\n",
    "rf2.fit(train_features_2, train_labels_2.values.ravel())\n",
    "rf3.fit(train_features_3, train_labels_3.values.ravel())"
   ]
  },
  {
   "cell_type": "markdown",
   "metadata": {},
   "source": [
    "# Predicting from Input"
   ]
  },
  {
   "cell_type": "code",
   "execution_count": 10,
   "metadata": {},
   "outputs": [],
   "source": [
    "prediction_1 = rf1.predict(test_features_1)\n",
    "prediction_2 = rf2.predict(test_features_2)\n",
    "prediction_3 = rf3.predict(test_features_3)"
   ]
  },
  {
   "cell_type": "code",
   "execution_count": 11,
   "metadata": {},
   "outputs": [],
   "source": [
    "result_1 = test_features_1\n",
    "result_2 = test_features_2\n",
    "result_3 = test_features_3"
   ]
  },
  {
   "cell_type": "markdown",
   "metadata": {},
   "source": [
    "## Creating Results"
   ]
  },
  {
   "cell_type": "code",
   "execution_count": 12,
   "metadata": {},
   "outputs": [],
   "source": [
    "result_1['actual_fare'] = test_labels_1[['fare_amount']]\n",
    "result_2['actual_fare'] = test_labels_2[['fare_amount']]\n",
    "result_3['actual_fare'] = test_labels_3[['fare_amount']]\n",
    "\n",
    "result_1['predicted_fare'] = prediction_1\n",
    "result_2['predicted_fare'] = prediction_2\n",
    "result_3['predicted_fare'] = prediction_3\n",
    "\n",
    "\n",
    "result_1['difference'] = abs(result_1['predicted_fare']-result_1['actual_fare'])\n",
    "result_2['difference'] = abs(result_2['predicted_fare']-result_2['actual_fare'])\n",
    "result_3['difference'] = abs(result_3['predicted_fare']-result_3['actual_fare'])"
   ]
  },
  {
   "cell_type": "markdown",
   "metadata": {},
   "source": [
    "## Model Accuracy"
   ]
  },
  {
   "cell_type": "markdown",
   "metadata": {},
   "source": [
    "### Models with both trip_distance & trip_duration\n",
    "Model_1 = {'trip_distance','trip_duration','airport','fare_amount'}"
   ]
  },
  {
   "cell_type": "code",
   "execution_count": 13,
   "metadata": {},
   "outputs": [
    {
     "name": "stdout",
     "output_type": "stream",
     "text": [
      "Model_1 Accuracy % : 91.78\n"
     ]
    }
   ],
   "source": [
    "print(\"Model_1 Accuracy % : \" +str((result_1[result_1['difference'] < 1].shape[0]/result_1.shape[0]) * 100)[:5])"
   ]
  },
  {
   "cell_type": "markdown",
   "metadata": {},
   "source": [
    "### Models without trip_distance & trip_duration\n",
    "\n",
    "Model_2 = {'airport','RatecodeID','payment_type','DOLocationID','trip_type','passenger_count','PULocationID','hour','day','weekend_Trip','month','fare_amount'}  "
   ]
  },
  {
   "cell_type": "code",
   "execution_count": 14,
   "metadata": {},
   "outputs": [
    {
     "name": "stdout",
     "output_type": "stream",
     "text": [
      "Model_2 Accuracy % : 0.0\n"
     ]
    }
   ],
   "source": [
    "print(\"Model_2 Accuracy % : \" +str((result_2[result_2['difference'] < 1].shape[0]/result_2.shape[0]) * 100)[:5])"
   ]
  },
  {
   "cell_type": "markdown",
   "metadata": {},
   "source": [
    "\n",
    "### Models with only trip_distance\n",
    "\n",
    "Model_3 = {'airport','RatecodeID','payment_type','DOLocationID','trip_type','passenger_count','PULocationID','hour','day','fare_amount'}  "
   ]
  },
  {
   "cell_type": "code",
   "execution_count": 15,
   "metadata": {},
   "outputs": [
    {
     "name": "stdout",
     "output_type": "stream",
     "text": [
      "Model_3 Accuracy % : 0.0\n"
     ]
    }
   ],
   "source": [
    "print(\"Model_3 Accuracy % : \" +str((result_3[result_3['difference'] < 1].shape[0]/result_3.shape[0]) * 100)[:5])"
   ]
  },
  {
   "cell_type": "code",
   "execution_count": 16,
   "metadata": {},
   "outputs": [],
   "source": [
    "d = pd.DataFrame(columns=['Models','Accuracy'])\n",
    "d['Models'] = ['Model_1', 'Model_2', 'Model_3']\n",
    "d['Accuracy'].loc[[0]] = ((result_1[result_1['difference'] < 1].shape[0]/result_1.shape[0]) * 100)\n",
    "d['Accuracy'].loc[[1]] = ((result_2[result_2['difference'] < 1].shape[0]/result_2.shape[0]) * 100)\n",
    "d['Accuracy'].loc[[2]] = ((result_3[result_3['difference'] < 1].shape[0]/result_3.shape[0]) * 100)\n"
   ]
  },
  {
   "cell_type": "markdown",
   "metadata": {},
   "source": [
    "# Results - Stochastic Gradient Descent"
   ]
  },
  {
   "cell_type": "code",
   "execution_count": 17,
   "metadata": {},
   "outputs": [
    {
     "data": {
      "text/plain": [
       "<matplotlib.axes._subplots.AxesSubplot at 0x1b69cee3b00>"
      ]
     },
     "execution_count": 17,
     "metadata": {},
     "output_type": "execute_result"
    },
    {
     "data": {
      "image/png": "[encoded data removed]",
      "text/plain": [
       "<Figure size 1080x504 with 1 Axes>"
      ]
     },
     "metadata": {},
     "output_type": "display_data"
    }
   ],
   "source": [
    "d.sort_values(by=['Accuracy'], ascending=False).plot.bar(x='Models', y='Accuracy',figsize=(15,7), fontsize=12)"
   ]
  }
 ],
 "metadata": {
  "kernelspec": {
   "display_name": "Python 3",
   "language": "python",
   "name": "python3"
  },
  "language_info": {
   "codemirror_mode": {
    "name": "ipython",
    "version": 3
   },
   "file_extension": ".py",
   "mimetype": "text/x-python",
   "name": "python",
   "nbconvert_exporter": "python",
   "pygments_lexer": "ipython3",
   "version": "3.6.5"
  }
 },
 "nbformat": 4,
 "nbformat_minor": 2
}
