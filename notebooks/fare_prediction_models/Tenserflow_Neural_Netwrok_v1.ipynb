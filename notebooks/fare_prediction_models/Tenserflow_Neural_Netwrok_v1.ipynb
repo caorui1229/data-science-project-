{
 "cells": [
  {
   "cell_type": "code",
   "execution_count": 1,
   "metadata": {},
   "outputs": [],
   "source": [
    "import pandas as pd\n",
    "import numpy as np\n",
    "import matplotlib.pyplot as plt\n",
    "import seaborn as sns\n",
    "import warnings\n",
    "import pickle\n",
    "warnings.filterwarnings('ignore')"
   ]
  },
  {
   "cell_type": "code",
   "execution_count": 2,
   "metadata": {},
   "outputs": [],
   "source": [
    "df_new = pd.read_pickle(r'C:\\Users\\nishi\\Desktop\\EECS 731 - Data Science\\Project\\df_new.pkl')"
   ]
  },
  {
   "cell_type": "code",
   "execution_count": 6,
   "metadata": {},
   "outputs": [
    {
     "name": "stdout",
     "output_type": "stream",
     "text": [
      "1.12.0\n"
     ]
    }
   ],
   "source": [
    "from __future__ import absolute_import, division, print_function\n",
    "\n",
    "import tensorflow as tf\n",
    "from tensorflow import keras\n",
    "print(tf.__version__)\n",
    "\n",
    "df_new = df_new.sample(frac=1).reset_index(drop=True)\n"
   ]
  },
  {
   "cell_type": "code",
   "execution_count": 7,
   "metadata": {},
   "outputs": [],
   "source": [
    "X = df_new[['month','day','hour','PULocationID','DOLocationID','airport',\n",
    "            'RatecodeID','passenger_count','payment_type','trip_type','weekend_Trip']]\n",
    "y = df_new[['fare_amount']]"
   ]
  },
  {
   "cell_type": "code",
   "execution_count": 8,
   "metadata": {},
   "outputs": [],
   "source": [
    "# Split the data into training and testing sets\n",
    "from sklearn.model_selection import train_test_split\n",
    "train_data, test_data, train_labels, test_labels = train_test_split(X, y, test_size = 0.10, random_state = 42)"
   ]
  },
  {
   "cell_type": "code",
   "execution_count": 6,
   "metadata": {},
   "outputs": [],
   "source": [
    "# Shuffle the training set\n",
    "# order = np.argsort(np.random.random(train_labels.shape))\n",
    "# train_data = np.array(train_data)\n",
    "#train_labels = np.array(train_labels)\n",
    "#train_data = train_data[order]\n",
    "#train_labels = train_labels[order]"
   ]
  },
  {
   "cell_type": "code",
   "execution_count": 7,
   "metadata": {},
   "outputs": [
    {
     "name": "stdout",
     "output_type": "stream",
     "text": [
      "Training set: (2024739, 1, 11)\n",
      "Testing set:  (224972, 11)\n"
     ]
    }
   ],
   "source": [
    "print(\"Training set: {}\".format(train_data.shape))  # 404 examples, 13 features\n",
    "print(\"Testing set:  {}\".format(test_data.shape))   # 102 examples, 13 features"
   ]
  },
  {
   "cell_type": "code",
   "execution_count": 9,
   "metadata": {},
   "outputs": [],
   "source": [
    "# Normalizing Features\n",
    "\n",
    "mean = train_data.mean(axis=0)\n",
    "std = train_data.std(axis=0)\n",
    "train_data = (train_data - mean) / std\n",
    "test_data = (test_data - mean) / std"
   ]
  },
  {
   "cell_type": "code",
   "execution_count": 10,
   "metadata": {},
   "outputs": [
    {
     "name": "stdout",
     "output_type": "stream",
     "text": [
      "_________________________________________________________________\n",
      "Layer (type)                 Output Shape              Param #   \n",
      "=================================================================\n",
      "dense (Dense)                (None, 64)                768       \n",
      "_________________________________________________________________\n",
      "dense_1 (Dense)              (None, 64)                4160      \n",
      "_________________________________________________________________\n",
      "dense_2 (Dense)              (None, 1)                 65        \n",
      "=================================================================\n",
      "Total params: 4,993\n",
      "Trainable params: 4,993\n",
      "Non-trainable params: 0\n",
      "_________________________________________________________________\n"
     ]
    }
   ],
   "source": [
    "def build_model():\n",
    "  model = keras.Sequential([\n",
    "    keras.layers.Dense(64, activation=tf.nn.relu,\n",
    "                       input_shape=(train_data.shape[1],)),\n",
    "    keras.layers.Dense(64, activation=tf.nn.relu),\n",
    "    keras.layers.Dense(1)\n",
    "  ])\n",
    "\n",
    "  optimizer = tf.train.RMSPropOptimizer(0.001)\n",
    "\n",
    "  model.compile(loss='mse',\n",
    "                optimizer=optimizer,\n",
    "                metrics=['mae'])\n",
    "  return model\n",
    "\n",
    "model = build_model()\n",
    "model.summary()"
   ]
  },
  {
   "cell_type": "code",
   "execution_count": 11,
   "metadata": {},
   "outputs": [
    {
     "name": "stdout",
     "output_type": "stream",
     "text": [
      "\n",
      "....................................................................................................\n",
      "....................................................................................................\n",
      "....................................................................................................\n",
      "....................................................................................................\n",
      "...................................................................................................."
     ]
    }
   ],
   "source": [
    "# Display training progress by printing a single dot for each completed epoch\n",
    "class PrintDot(keras.callbacks.Callback):\n",
    "  def on_epoch_end(self, epoch, logs):\n",
    "    if epoch % 100 == 0: print('')\n",
    "    print('.', end='')\n",
    "\n",
    "EPOCHS = 500\n",
    "\n",
    "# Store training stats\n",
    "history = model.fit(train_data, train_labels, epochs=EPOCHS,\n",
    "                    validation_split=0.2, verbose=0,\n",
    "                    callbacks=[PrintDot()])\n"
   ]
  },
  {
   "cell_type": "code",
   "execution_count": 17,
   "metadata": {},
   "outputs": [
    {
     "name": "stdout",
     "output_type": "stream",
     "text": [
      "Wall time: 18 ms\n"
     ]
    },
    {
     "data": {
      "image/png": "[encoded data removed]",
      "text/plain": [
       "<Figure size 432x288 with 1 Axes>"
      ]
     },
     "metadata": {},
     "output_type": "display_data"
    }
   ],
   "source": [
    "%%time\n",
    "import matplotlib.pyplot as plt\n",
    "\n",
    "\n",
    "def plot_history(history):\n",
    "  plt.figure()\n",
    "  plt.xlabel('Epoch')\n",
    "  plt.ylabel('Mean Abs Error [1000$]')\n",
    "  plt.plot(history.epoch, np.array(history.history['mean_absolute_error']),\n",
    "           label='Train Loss')\n",
    "  plt.plot(history.epoch, np.array(history.history['val_mean_absolute_error']),\n",
    "           label = 'Val loss')\n",
    "  plt.legend()\n",
    "  plt.ylim([0, 5])\n",
    "\n",
    "plot_history(history)"
   ]
  },
  {
   "cell_type": "code",
   "execution_count": 18,
   "metadata": {},
   "outputs": [
    {
     "name": "stdout",
     "output_type": "stream",
     "text": [
      "\n",
      ".........................................................Wall time: 38min 56s\n"
     ]
    },
    {
     "data": {
      "image/png": "[encoded data removed]",
      "text/plain": [
       "<Figure size 432x288 with 1 Axes>"
      ]
     },
     "metadata": {},
     "output_type": "display_data"
    }
   ],
   "source": [
    "%%time\n",
    "model = build_model()\n",
    "\n",
    "# The patience parameter is the amount of epochs to check for improvement\n",
    "early_stop = keras.callbacks.EarlyStopping(monitor='val_loss', patience=20)\n",
    "\n",
    "history = model.fit(train_data, train_labels, epochs=EPOCHS,\n",
    "                    validation_split=0.2, verbose=0,\n",
    "                    callbacks=[early_stop, PrintDot()])\n",
    "\n",
    "plot_history(history)"
   ]
  },
  {
   "cell_type": "code",
   "execution_count": 47,
   "metadata": {},
   "outputs": [
    {
     "name": "stdout",
     "output_type": "stream",
     "text": [
      "Testing set Mean Abs Error: $   4.74\n",
      "Wall time: 2.92 s\n"
     ]
    }
   ],
   "source": [
    "%%time\n",
    "[loss, mae] = model.evaluate(test_data[['month','day','hour','PULocationID','DOLocationID','airport',\n",
    "            'RatecodeID','passenger_count','payment_type','trip_type','weekend_Trip']], test_labels, verbose=0)\n",
    "\n",
    "print(\"Testing set Mean Abs Error: ${:7.2f}\".format(mae))"
   ]
  },
  {
   "cell_type": "code",
   "execution_count": 44,
   "metadata": {},
   "outputs": [
    {
     "name": "stdout",
     "output_type": "stream",
     "text": [
      "Wall time: 2.58 s\n"
     ]
    },
    {
     "data": {
      "image/png": "[encoded data removed]",
      "text/plain": [
       "<Figure size 432x288 with 1 Axes>"
      ]
     },
     "metadata": {},
     "output_type": "display_data"
    }
   ],
   "source": [
    "%%time\n",
    "test_predictions = model.predict(test_data[['month','day','hour','PULocationID','DOLocationID','airport',\n",
    "            'RatecodeID','passenger_count','payment_type','trip_type','weekend_Trip']])\n",
    "\n",
    "plt.scatter(test_labels, test_predictions)\n",
    "plt.xlabel('True Values')\n",
    "plt.ylabel('Predictions')\n",
    "plt.axis('equal')\n",
    "plt.xlim(plt.xlim())\n",
    "plt.ylim(plt.ylim())\n",
    "_ = plt.plot([-100, 100], [-100, 100])"
   ]
  },
  {
   "cell_type": "code",
   "execution_count": 37,
   "metadata": {},
   "outputs": [],
   "source": [
    "result = test_data\n",
    "result['predicted_fare'] = test_predictions\n",
    "result['actual_fare'] = test_labels\n",
    "result['difference'] = abs(result['predicted_fare']-result['actual_fare'])"
   ]
  },
  {
   "cell_type": "code",
   "execution_count": 38,
   "metadata": {},
   "outputs": [
    {
     "data": {
      "text/html": [
       "<div>\n",
       "<style scoped>\n",
       "    .dataframe tbody tr th:only-of-type {\n",
       "        vertical-align: middle;\n",
       "    }\n",
       "\n",
       "    .dataframe tbody tr th {\n",
       "        vertical-align: top;\n",
       "    }\n",
       "\n",
       "    .dataframe thead th {\n",
       "        text-align: right;\n",
       "    }\n",
       "</style>\n",
       "<table border=\"1\" class=\"dataframe\">\n",
       "  <thead>\n",
       "    <tr style=\"text-align: right;\">\n",
       "      <th></th>\n",
       "      <th>month</th>\n",
       "      <th>day</th>\n",
       "      <th>hour</th>\n",
       "      <th>PULocationID</th>\n",
       "      <th>DOLocationID</th>\n",
       "      <th>airport</th>\n",
       "      <th>RatecodeID</th>\n",
       "      <th>passenger_count</th>\n",
       "      <th>payment_type</th>\n",
       "      <th>trip_type</th>\n",
       "      <th>weekend_Trip</th>\n",
       "      <th>prediction</th>\n",
       "      <th>predicted_fare</th>\n",
       "      <th>actual_fare</th>\n",
       "      <th>difference</th>\n",
       "    </tr>\n",
       "  </thead>\n",
       "  <tbody>\n",
       "    <tr>\n",
       "      <th>1937401</th>\n",
       "      <td>-1.195031</td>\n",
       "      <td>0.926048</td>\n",
       "      <td>0.516968</td>\n",
       "      <td>-0.485246</td>\n",
       "      <td>-0.689826</td>\n",
       "      <td>-0.129629</td>\n",
       "      <td>-0.102041</td>\n",
       "      <td>-0.339135</td>\n",
       "      <td>0.781744</td>\n",
       "      <td>-0.092421</td>\n",
       "      <td>-0.41242</td>\n",
       "      <td>6.621886</td>\n",
       "      <td>6.621886</td>\n",
       "      <td>6.5</td>\n",
       "      <td>0.121886</td>\n",
       "    </tr>\n",
       "    <tr>\n",
       "      <th>868829</th>\n",
       "      <td>0.271530</td>\n",
       "      <td>0.926048</td>\n",
       "      <td>0.985506</td>\n",
       "      <td>-1.382993</td>\n",
       "      <td>-0.209474</td>\n",
       "      <td>-0.129629</td>\n",
       "      <td>-0.102041</td>\n",
       "      <td>-0.339135</td>\n",
       "      <td>-0.951079</td>\n",
       "      <td>-0.092421</td>\n",
       "      <td>-0.41242</td>\n",
       "      <td>16.126501</td>\n",
       "      <td>16.126501</td>\n",
       "      <td>13.5</td>\n",
       "      <td>2.626501</td>\n",
       "    </tr>\n",
       "    <tr>\n",
       "      <th>1992601</th>\n",
       "      <td>1.738090</td>\n",
       "      <td>-0.091544</td>\n",
       "      <td>0.360789</td>\n",
       "      <td>1.940012</td>\n",
       "      <td>-0.209474</td>\n",
       "      <td>-0.129629</td>\n",
       "      <td>-0.102041</td>\n",
       "      <td>-0.339135</td>\n",
       "      <td>-0.951079</td>\n",
       "      <td>-0.092421</td>\n",
       "      <td>-0.41242</td>\n",
       "      <td>9.544806</td>\n",
       "      <td>9.544806</td>\n",
       "      <td>5.5</td>\n",
       "      <td>4.044806</td>\n",
       "    </tr>\n",
       "    <tr>\n",
       "      <th>1952741</th>\n",
       "      <td>-1.195031</td>\n",
       "      <td>0.417252</td>\n",
       "      <td>-0.107749</td>\n",
       "      <td>-0.927420</td>\n",
       "      <td>-0.780704</td>\n",
       "      <td>-0.129629</td>\n",
       "      <td>-0.102041</td>\n",
       "      <td>-0.339135</td>\n",
       "      <td>-0.951079</td>\n",
       "      <td>-0.092421</td>\n",
       "      <td>-0.41242</td>\n",
       "      <td>10.733490</td>\n",
       "      <td>10.733490</td>\n",
       "      <td>21.5</td>\n",
       "      <td>10.766510</td>\n",
       "    </tr>\n",
       "    <tr>\n",
       "      <th>1832239</th>\n",
       "      <td>1.738090</td>\n",
       "      <td>-0.091544</td>\n",
       "      <td>-1.044824</td>\n",
       "      <td>-0.485246</td>\n",
       "      <td>-1.131231</td>\n",
       "      <td>-0.129629</td>\n",
       "      <td>-0.102041</td>\n",
       "      <td>1.630080</td>\n",
       "      <td>-0.951079</td>\n",
       "      <td>-0.092421</td>\n",
       "      <td>-0.41242</td>\n",
       "      <td>11.547729</td>\n",
       "      <td>11.547729</td>\n",
       "      <td>6.0</td>\n",
       "      <td>5.547729</td>\n",
       "    </tr>\n",
       "  </tbody>\n",
       "</table>\n",
       "</div>"
      ],
      "text/plain": [
       "            month       day      hour  PULocationID  DOLocationID   airport  \\\n",
       "1937401 -1.195031  0.926048  0.516968     -0.485246     -0.689826 -0.129629   \n",
       "868829   0.271530  0.926048  0.985506     -1.382993     -0.209474 -0.129629   \n",
       "1992601  1.738090 -0.091544  0.360789      1.940012     -0.209474 -0.129629   \n",
       "1952741 -1.195031  0.417252 -0.107749     -0.927420     -0.780704 -0.129629   \n",
       "1832239  1.738090 -0.091544 -1.044824     -0.485246     -1.131231 -0.129629   \n",
       "\n",
       "         RatecodeID  passenger_count  payment_type  trip_type  weekend_Trip  \\\n",
       "1937401   -0.102041        -0.339135      0.781744  -0.092421      -0.41242   \n",
       "868829    -0.102041        -0.339135     -0.951079  -0.092421      -0.41242   \n",
       "1992601   -0.102041        -0.339135     -0.951079  -0.092421      -0.41242   \n",
       "1952741   -0.102041        -0.339135     -0.951079  -0.092421      -0.41242   \n",
       "1832239   -0.102041         1.630080     -0.951079  -0.092421      -0.41242   \n",
       "\n",
       "         prediction  predicted_fare  actual_fare  difference  \n",
       "1937401    6.621886        6.621886          6.5    0.121886  \n",
       "868829    16.126501       16.126501         13.5    2.626501  \n",
       "1992601    9.544806        9.544806          5.5    4.044806  \n",
       "1952741   10.733490       10.733490         21.5   10.766510  \n",
       "1832239   11.547729       11.547729          6.0    5.547729  "
      ]
     },
     "execution_count": 38,
     "metadata": {},
     "output_type": "execute_result"
    }
   ],
   "source": [
    "result.head()"
   ]
  },
  {
   "cell_type": "code",
   "execution_count": 42,
   "metadata": {},
   "outputs": [
    {
     "name": "stdout",
     "output_type": "stream",
     "text": [
      "Model Accuracy % : 43.93\n"
     ]
    }
   ],
   "source": [
    "print(\"Model Accuracy % : \" +str((result[result['difference'] < 3].shape[0]/result.shape[0]) * 100)[:5])"
   ]
  },
  {
   "cell_type": "code",
   "execution_count": 40,
   "metadata": {},
   "outputs": [
    {
     "name": "stdout",
     "output_type": "stream",
     "text": [
      "Wall time: 30.7 ms\n"
     ]
    },
    {
     "data": {
      "image/png": "[encoded data removed]",
      "text/plain": [
       "<Figure size 432x288 with 1 Axes>"
      ]
     },
     "metadata": {},
     "output_type": "display_data"
    }
   ],
   "source": [
    "%%time\n",
    "plt.hist(result['difference'], bins = 50)\n",
    "plt.xlabel(\"Prediction Error\")\n",
    "_ = plt.ylabel(\"Count\")"
   ]
  }
 ],
 "metadata": {
  "kernelspec": {
   "display_name": "Python 3",
   "language": "python",
   "name": "python3"
  },
  "language_info": {
   "codemirror_mode": {
    "name": "ipython",
    "version": 3
   },
   "file_extension": ".py",
   "mimetype": "text/x-python",
   "name": "python",
   "nbconvert_exporter": "python",
   "pygments_lexer": "ipython3",
   "version": "3.6.5"
  }
 },
 "nbformat": 4,
 "nbformat_minor": 2
}
