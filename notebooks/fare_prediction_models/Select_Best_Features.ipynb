{
 "cells": [
  {
   "cell_type": "code",
   "execution_count": 41,
   "metadata": {},
   "outputs": [],
   "source": [
    "import pandas as pd\n",
    "import numpy as np\n",
    "import matplotlib.pyplot as plt\n",
    "import seaborn as sns\n",
    "import warnings\n",
    "import pickle\n",
    "warnings.filterwarnings('ignore')"
   ]
  },
  {
   "cell_type": "code",
   "execution_count": 42,
   "metadata": {},
   "outputs": [],
   "source": [
    "df_new = pd.read_pickle(r'C:\\Users\\nishi\\Desktop\\EECS 731 - Data Science\\Project\\df_new.pkl')"
   ]
  },
  {
   "cell_type": "code",
   "execution_count": 43,
   "metadata": {},
   "outputs": [
    {
     "data": {
      "text/html": [
       "<div>\n",
       "<style scoped>\n",
       "    .dataframe tbody tr th:only-of-type {\n",
       "        vertical-align: middle;\n",
       "    }\n",
       "\n",
       "    .dataframe tbody tr th {\n",
       "        vertical-align: top;\n",
       "    }\n",
       "\n",
       "    .dataframe thead th {\n",
       "        text-align: right;\n",
       "    }\n",
       "</style>\n",
       "<table border=\"1\" class=\"dataframe\">\n",
       "  <thead>\n",
       "    <tr style=\"text-align: right;\">\n",
       "      <th></th>\n",
       "      <th>lpep_pickup_datetime</th>\n",
       "      <th>lpep_dropoff_datetime</th>\n",
       "      <th>RatecodeID</th>\n",
       "      <th>PULocationID</th>\n",
       "      <th>DOLocationID</th>\n",
       "      <th>passenger_count</th>\n",
       "      <th>trip_distance</th>\n",
       "      <th>fare_amount</th>\n",
       "      <th>extra</th>\n",
       "      <th>mta_tax</th>\n",
       "      <th>...</th>\n",
       "      <th>total_amount</th>\n",
       "      <th>payment_type</th>\n",
       "      <th>trip_type</th>\n",
       "      <th>trip_duration</th>\n",
       "      <th>month</th>\n",
       "      <th>day</th>\n",
       "      <th>total_custom</th>\n",
       "      <th>weekend_Trip</th>\n",
       "      <th>hour</th>\n",
       "      <th>airport</th>\n",
       "    </tr>\n",
       "  </thead>\n",
       "  <tbody>\n",
       "    <tr>\n",
       "      <th>0</th>\n",
       "      <td>2017-12-31 23:55:09</td>\n",
       "      <td>2017-12-31 23:59:14</td>\n",
       "      <td>1</td>\n",
       "      <td>17</td>\n",
       "      <td>61</td>\n",
       "      <td>1</td>\n",
       "      <td>1.1</td>\n",
       "      <td>5.5</td>\n",
       "      <td>0.5</td>\n",
       "      <td>0.5</td>\n",
       "      <td>...</td>\n",
       "      <td>6.80</td>\n",
       "      <td>2</td>\n",
       "      <td>1.0</td>\n",
       "      <td>4.083333</td>\n",
       "      <td>12</td>\n",
       "      <td>6</td>\n",
       "      <td>6.80</td>\n",
       "      <td>1</td>\n",
       "      <td>23</td>\n",
       "      <td>0</td>\n",
       "    </tr>\n",
       "    <tr>\n",
       "      <th>1</th>\n",
       "      <td>2017-12-31 23:30:36</td>\n",
       "      <td>2017-12-31 23:37:20</td>\n",
       "      <td>1</td>\n",
       "      <td>61</td>\n",
       "      <td>49</td>\n",
       "      <td>1</td>\n",
       "      <td>1.1</td>\n",
       "      <td>6.5</td>\n",
       "      <td>0.5</td>\n",
       "      <td>0.5</td>\n",
       "      <td>...</td>\n",
       "      <td>7.80</td>\n",
       "      <td>2</td>\n",
       "      <td>1.0</td>\n",
       "      <td>6.733333</td>\n",
       "      <td>12</td>\n",
       "      <td>6</td>\n",
       "      <td>7.80</td>\n",
       "      <td>1</td>\n",
       "      <td>23</td>\n",
       "      <td>0</td>\n",
       "    </tr>\n",
       "    <tr>\n",
       "      <th>2</th>\n",
       "      <td>2017-12-31 23:02:26</td>\n",
       "      <td>2017-12-31 23:19:37</td>\n",
       "      <td>1</td>\n",
       "      <td>228</td>\n",
       "      <td>188</td>\n",
       "      <td>1</td>\n",
       "      <td>4.1</td>\n",
       "      <td>15.5</td>\n",
       "      <td>0.5</td>\n",
       "      <td>0.5</td>\n",
       "      <td>...</td>\n",
       "      <td>20.15</td>\n",
       "      <td>1</td>\n",
       "      <td>1.0</td>\n",
       "      <td>17.183333</td>\n",
       "      <td>12</td>\n",
       "      <td>6</td>\n",
       "      <td>20.15</td>\n",
       "      <td>1</td>\n",
       "      <td>23</td>\n",
       "      <td>0</td>\n",
       "    </tr>\n",
       "    <tr>\n",
       "      <th>3</th>\n",
       "      <td>2017-12-31 23:12:24</td>\n",
       "      <td>2017-12-31 23:16:55</td>\n",
       "      <td>1</td>\n",
       "      <td>228</td>\n",
       "      <td>26</td>\n",
       "      <td>1</td>\n",
       "      <td>0.8</td>\n",
       "      <td>5.0</td>\n",
       "      <td>0.5</td>\n",
       "      <td>0.5</td>\n",
       "      <td>...</td>\n",
       "      <td>6.30</td>\n",
       "      <td>2</td>\n",
       "      <td>1.0</td>\n",
       "      <td>4.516667</td>\n",
       "      <td>12</td>\n",
       "      <td>6</td>\n",
       "      <td>6.30</td>\n",
       "      <td>1</td>\n",
       "      <td>23</td>\n",
       "      <td>0</td>\n",
       "    </tr>\n",
       "    <tr>\n",
       "      <th>4</th>\n",
       "      <td>2017-12-31 23:53:11</td>\n",
       "      <td>2017-12-31 23:55:40</td>\n",
       "      <td>1</td>\n",
       "      <td>225</td>\n",
       "      <td>225</td>\n",
       "      <td>1</td>\n",
       "      <td>0.5</td>\n",
       "      <td>4.0</td>\n",
       "      <td>0.5</td>\n",
       "      <td>0.5</td>\n",
       "      <td>...</td>\n",
       "      <td>5.30</td>\n",
       "      <td>2</td>\n",
       "      <td>1.0</td>\n",
       "      <td>2.483333</td>\n",
       "      <td>12</td>\n",
       "      <td>6</td>\n",
       "      <td>5.30</td>\n",
       "      <td>1</td>\n",
       "      <td>23</td>\n",
       "      <td>0</td>\n",
       "    </tr>\n",
       "  </tbody>\n",
       "</table>\n",
       "<p>5 rows × 23 columns</p>\n",
       "</div>"
      ],
      "text/plain": [
       "  lpep_pickup_datetime lpep_dropoff_datetime  RatecodeID  PULocationID  \\\n",
       "0  2017-12-31 23:55:09   2017-12-31 23:59:14           1            17   \n",
       "1  2017-12-31 23:30:36   2017-12-31 23:37:20           1            61   \n",
       "2  2017-12-31 23:02:26   2017-12-31 23:19:37           1           228   \n",
       "3  2017-12-31 23:12:24   2017-12-31 23:16:55           1           228   \n",
       "4  2017-12-31 23:53:11   2017-12-31 23:55:40           1           225   \n",
       "\n",
       "   DOLocationID  passenger_count  trip_distance  fare_amount  extra  mta_tax  \\\n",
       "0            61                1            1.1          5.5    0.5      0.5   \n",
       "1            49                1            1.1          6.5    0.5      0.5   \n",
       "2           188                1            4.1         15.5    0.5      0.5   \n",
       "3            26                1            0.8          5.0    0.5      0.5   \n",
       "4           225                1            0.5          4.0    0.5      0.5   \n",
       "\n",
       "    ...     total_amount  payment_type  trip_type  trip_duration  month  day  \\\n",
       "0   ...             6.80             2        1.0       4.083333     12    6   \n",
       "1   ...             7.80             2        1.0       6.733333     12    6   \n",
       "2   ...            20.15             1        1.0      17.183333     12    6   \n",
       "3   ...             6.30             2        1.0       4.516667     12    6   \n",
       "4   ...             5.30             2        1.0       2.483333     12    6   \n",
       "\n",
       "   total_custom  weekend_Trip  hour  airport  \n",
       "0          6.80             1    23        0  \n",
       "1          7.80             1    23        0  \n",
       "2         20.15             1    23        0  \n",
       "3          6.30             1    23        0  \n",
       "4          5.30             1    23        0  \n",
       "\n",
       "[5 rows x 23 columns]"
      ]
     },
     "execution_count": 43,
     "metadata": {},
     "output_type": "execute_result"
    }
   ],
   "source": [
    "df_new.head()"
   ]
  },
  {
   "cell_type": "code",
   "execution_count": 44,
   "metadata": {},
   "outputs": [
    {
     "data": {
      "text/plain": [
       "lpep_pickup_datetime     datetime64[ns]\n",
       "lpep_dropoff_datetime    datetime64[ns]\n",
       "RatecodeID                        int64\n",
       "PULocationID                      int64\n",
       "DOLocationID                      int64\n",
       "passenger_count                   int64\n",
       "trip_distance                   float64\n",
       "fare_amount                     float64\n",
       "extra                           float64\n",
       "mta_tax                         float64\n",
       "tip_amount                      float64\n",
       "tolls_amount                    float64\n",
       "improvement_surcharge           float64\n",
       "total_amount                    float64\n",
       "payment_type                      int64\n",
       "trip_type                       float64\n",
       "trip_duration                   float64\n",
       "month                             int64\n",
       "day                               int64\n",
       "total_custom                    float64\n",
       "weekend_Trip                      int32\n",
       "hour                              int64\n",
       "airport                           int32\n",
       "dtype: object"
      ]
     },
     "execution_count": 44,
     "metadata": {},
     "output_type": "execute_result"
    }
   ],
   "source": [
    "df_new.dtypes"
   ]
  },
  {
   "cell_type": "code",
   "execution_count": 45,
   "metadata": {},
   "outputs": [],
   "source": [
    "from sklearn.feature_selection import SelectKBest\n",
    "from sklearn.feature_selection import f_regression\n",
    "\n",
    "\n",
    "X = df_new[['month','day','hour','PULocationID','DOLocationID','airport',\n",
    "            'RatecodeID','passenger_count','payment_type','trip_type','weekend_Trip']]\n",
    "y = df_new[['fare_amount']]\n",
    "\n",
    "# Create and fit selector\n",
    "selector = SelectKBest(f_regression, k=9)\n",
    "selector.fit(X, y)\n",
    "# Get idxs of columns to keep\n",
    "idxs_selected = selector.get_support()\n",
    "# Create new dataframe with only desired columns, or overwrite existing\n",
    "features_dataframe_new = X.columns[idxs_selected]\n"
   ]
  },
  {
   "cell_type": "code",
   "execution_count": 46,
   "metadata": {},
   "outputs": [
    {
     "data": {
      "text/plain": [
       "Index(['day', 'hour', 'PULocationID', 'DOLocationID', 'airport', 'RatecodeID',\n",
       "       'passenger_count', 'payment_type', 'trip_type'],\n",
       "      dtype='object')"
      ]
     },
     "execution_count": 46,
     "metadata": {},
     "output_type": "execute_result"
    }
   ],
   "source": [
    "features_dataframe_new"
   ]
  },
  {
   "cell_type": "code",
   "execution_count": 47,
   "metadata": {},
   "outputs": [],
   "source": [
    "# Creating a dataframes for model testing. Models cannot parse datetime columns, so have to drop them\n",
    "\n",
    "df_1 = df_new[['day', 'hour', 'PULocationID', 'DOLocationID', 'airport', 'RatecodeID',\n",
    "       'passenger_count', 'payment_type', 'trip_type']]\n"
   ]
  },
  {
   "cell_type": "markdown",
   "metadata": {},
   "source": [
    "# Splitting the data into Training and Testing"
   ]
  },
  {
   "cell_type": "code",
   "execution_count": 48,
   "metadata": {},
   "outputs": [],
   "source": [
    "# Using Skicit-learn to split data into training and testing sets\n",
    "from sklearn.model_selection import train_test_split\n",
    "\n",
    "features_1 = \n",
    "labels_1 = df_new[['fare_amount']]\n",
    "\n"
   ]
  },
  {
   "cell_type": "code",
   "execution_count": 49,
   "metadata": {},
   "outputs": [],
   "source": [
    "# Split the data into training and testing sets\n",
    "\n",
    "train_features_1, test_features_1, train_labels_1, test_labels_1 = train_test_split(features_1, labels_1, test_size = 0.10, random_state = 42)"
   ]
  },
  {
   "cell_type": "code",
   "execution_count": 50,
   "metadata": {},
   "outputs": [
    {
     "name": "stdout",
     "output_type": "stream",
     "text": [
      "Training Features Shape: (2024739, 9)\n",
      "Training Labels Shape: (2024739, 1)\n",
      "Testing Features Shape: (224972, 9)\n",
      "Testing Labels Shape: (224972, 1)\n"
     ]
    }
   ],
   "source": [
    "print('Training Features Shape:', train_features_1.shape)\n",
    "print('Training Labels Shape:', train_labels_1.shape)\n",
    "print('Testing Features Shape:', test_features_1.shape)\n",
    "print('Testing Labels Shape:', test_labels_1.shape)"
   ]
  },
  {
   "cell_type": "markdown",
   "metadata": {},
   "source": [
    "# Using Random Forest for prediction"
   ]
  },
  {
   "cell_type": "code",
   "execution_count": 51,
   "metadata": {},
   "outputs": [
    {
     "name": "stdout",
     "output_type": "stream",
     "text": [
      "Wall time: 1min 8s\n"
     ]
    }
   ],
   "source": [
    "%%time\n",
    "from sklearn.ensemble import RandomForestRegressor\n",
    "rf1 = RandomForestRegressor()\n",
    "\n",
    "\n",
    "rf1.fit(train_features_1, train_labels_1.values.ravel())"
   ]
  },
  {
   "cell_type": "markdown",
   "metadata": {},
   "source": [
    "# Save the models to pickle file"
   ]
  },
  {
   "cell_type": "raw",
   "metadata": {},
   "source": [
    "import pickle\n",
    "with open(r'C:\\Users\\nishi\\Desktop\\EECS 731 - Data Science\\Project\\rf1.pkl', 'wb') as fid:\n",
    "    pickle.dump(rf1, fid)\n",
    "with open(r'C:\\Users\\nishi\\Desktop\\EECS 731 - Data Science\\Project\\rf2.pkl', 'wb') as fid:\n",
    "    pickle.dump(rf2, fid)    \n",
    "with open(r'C:\\Users\\nishi\\Desktop\\EECS 731 - Data Science\\Project\\rf3.pkl', 'wb') as fid:\n",
    "    pickle.dump(rf3, fid)    \n",
    "with open(r'C:\\Users\\nishi\\Desktop\\EECS 731 - Data Science\\Project\\rf4.pkl', 'wb') as fid:\n",
    "    pickle.dump(rf4, fid)    \n",
    "with open(r'C:\\Users\\nishi\\Desktop\\EECS 731 - Data Science\\Project\\rf5.pkl', 'wb') as fid:\n",
    "    pickle.dump(rf5, fid)"
   ]
  },
  {
   "cell_type": "markdown",
   "metadata": {},
   "source": [
    "# Read the models from pickle file"
   ]
  },
  {
   "cell_type": "raw",
   "metadata": {},
   "source": [
    "with open(r'C:\\Users\\nishi\\Desktop\\EECS 731 - Data Science\\Project\\rf1.pkl', 'rb') as fid:\n",
    "    rf1 = pickle.load(fid)\n",
    "with open(r'C:\\Users\\nishi\\Desktop\\EECS 731 - Data Science\\Project\\rf2.pkl', 'rb') as fid:\n",
    "    rf2 = pickle.load(fid)\n",
    "with open(r'C:\\Users\\nishi\\Desktop\\EECS 731 - Data Science\\Project\\rf3.pkl', 'rb') as fid:\n",
    "    rf3 = pickle.load(fid)\n",
    "with open(r'C:\\Users\\nishi\\Desktop\\EECS 731 - Data Science\\Project\\rf4.pkl', 'rb') as fid:\n",
    "    rf4 = pickle.load(fid)\n",
    "with open(r'C:\\Users\\nishi\\Desktop\\EECS 731 - Data Science\\Project\\rf5.pkl', 'rb') as fid:\n",
    "    rf5 = pickle.load(fid)"
   ]
  },
  {
   "cell_type": "code",
   "execution_count": 52,
   "metadata": {},
   "outputs": [
    {
     "name": "stdout",
     "output_type": "stream",
     "text": [
      "Accuracy of Random Forest on df_1 training set: 0.90\n",
      "Accuracy of Random Forest on df_1 test set: 0.74\n"
     ]
    }
   ],
   "source": [
    "print('Accuracy of Random Forest on df_1 training set: {:.2f}'\n",
    "     .format(rf1.score(train_features_1, train_labels_1)))\n",
    "print('Accuracy of Random Forest on df_1 test set: {:.2f}'\n",
    "     .format(rf1.score(test_features_1, test_labels_1)))\n"
   ]
  },
  {
   "cell_type": "markdown",
   "metadata": {},
   "source": [
    "# Predicting from Input"
   ]
  },
  {
   "cell_type": "raw",
   "metadata": {},
   "source": [
    "df_1.to_csv(r'C:\\Users\\nishi\\Desktop\\EECS 731 - Data Science\\Project\\df_1.csv',mode = 'w', index=False)\n",
    "df_2.to_csv(r'C:\\Users\\nishi\\Desktop\\EECS 731 - Data Science\\Project\\df_2.csv',mode = 'w', index=False)\n",
    "df_3.to_csv(r'C:\\Users\\nishi\\Desktop\\EECS 731 - Data Science\\Project\\df_3.csv',mode = 'w', index=False)\n",
    "df_4.to_csv(r'C:\\Users\\nishi\\Desktop\\EECS 731 - Data Science\\Project\\df_4.csv',mode = 'w', index=False)\n",
    "df_5.to_csv(r'C:\\Users\\nishi\\Desktop\\EECS 731 - Data Science\\Project\\df_5.csv',mode = 'w', index=False)\n",
    "\n",
    "test_features_1.to_csv(r'C:\\Users\\nishi\\Desktop\\EECS 731 - Data Science\\Project\\test_features_1.csv',mode = 'w', index=False)\n",
    "test_features_2.to_csv(r'C:\\Users\\nishi\\Desktop\\EECS 731 - Data Science\\Project\\test_features_2.csv',mode = 'w', index=False)\n",
    "test_features_3.to_csv(r'C:\\Users\\nishi\\Desktop\\EECS 731 - Data Science\\Project\\test_features_3.csv',mode = 'w', index=False)\n",
    "test_features_4.to_csv(r'C:\\Users\\nishi\\Desktop\\EECS 731 - Data Science\\Project\\test_features_4.csv',mode = 'w', index=False)\n",
    "test_features_5.to_csv(r'C:\\Users\\nishi\\Desktop\\EECS 731 - Data Science\\Project\\test_features_5.csv',mode = 'w', index=False)"
   ]
  },
  {
   "cell_type": "code",
   "execution_count": 53,
   "metadata": {},
   "outputs": [],
   "source": [
    "prediction_1 = rf1.predict(test_features_1)"
   ]
  },
  {
   "cell_type": "code",
   "execution_count": 54,
   "metadata": {},
   "outputs": [],
   "source": [
    "result_1 = test_features_1"
   ]
  },
  {
   "cell_type": "code",
   "execution_count": 55,
   "metadata": {},
   "outputs": [],
   "source": [
    "result_1['actual_fare'] = test_labels_1[['fare_amount']]\n",
    "\n",
    "result_1['predicted_fare'] = prediction_1\n",
    "\n",
    "\n",
    "result_1['difference'] = abs(result_1['predicted_fare']-result_1['actual_fare'])\n"
   ]
  },
  {
   "cell_type": "markdown",
   "metadata": {},
   "source": [
    "#### Saving the results to csv"
   ]
  },
  {
   "cell_type": "raw",
   "metadata": {},
   "source": [
    "result_1.to_csv(r'C:\\Users\\nishi\\Desktop\\EECS 731 - Data Science\\Project\\result_1.csv',mode = 'w', index=False)\n",
    "result_2.to_csv(r'C:\\Users\\nishi\\Desktop\\EECS 731 - Data Science\\Project\\result_2.csv',mode = 'w', index=False)\n",
    "result_3.to_csv(r'C:\\Users\\nishi\\Desktop\\EECS 731 - Data Science\\Project\\result_3.csv',mode = 'w', index=False)\n",
    "result_4.to_csv(r'C:\\Users\\nishi\\Desktop\\EECS 731 - Data Science\\Project\\result_4.csv',mode = 'w', index=False)\n",
    "result_5.to_csv(r'C:\\Users\\nishi\\Desktop\\EECS 731 - Data Science\\Project\\result_5.csv',mode = 'w', index=False)"
   ]
  },
  {
   "cell_type": "code",
   "execution_count": 56,
   "metadata": {},
   "outputs": [
    {
     "data": {
      "text/html": [
       "<div>\n",
       "<style scoped>\n",
       "    .dataframe tbody tr th:only-of-type {\n",
       "        vertical-align: middle;\n",
       "    }\n",
       "\n",
       "    .dataframe tbody tr th {\n",
       "        vertical-align: top;\n",
       "    }\n",
       "\n",
       "    .dataframe thead th {\n",
       "        text-align: right;\n",
       "    }\n",
       "</style>\n",
       "<table border=\"1\" class=\"dataframe\">\n",
       "  <thead>\n",
       "    <tr style=\"text-align: right;\">\n",
       "      <th></th>\n",
       "      <th>day</th>\n",
       "      <th>hour</th>\n",
       "      <th>PULocationID</th>\n",
       "      <th>DOLocationID</th>\n",
       "      <th>airport</th>\n",
       "      <th>RatecodeID</th>\n",
       "      <th>passenger_count</th>\n",
       "      <th>payment_type</th>\n",
       "      <th>trip_type</th>\n",
       "      <th>actual_fare</th>\n",
       "      <th>predicted_fare</th>\n",
       "      <th>difference</th>\n",
       "    </tr>\n",
       "  </thead>\n",
       "  <tbody>\n",
       "    <tr>\n",
       "      <th>1974340</th>\n",
       "      <td>1</td>\n",
       "      <td>22</td>\n",
       "      <td>74</td>\n",
       "      <td>74</td>\n",
       "      <td>0</td>\n",
       "      <td>1</td>\n",
       "      <td>1</td>\n",
       "      <td>2</td>\n",
       "      <td>1.0</td>\n",
       "      <td>5.5</td>\n",
       "      <td>5.318387</td>\n",
       "      <td>0.181613</td>\n",
       "    </tr>\n",
       "    <tr>\n",
       "      <th>884379</th>\n",
       "      <td>3</td>\n",
       "      <td>22</td>\n",
       "      <td>41</td>\n",
       "      <td>42</td>\n",
       "      <td>0</td>\n",
       "      <td>1</td>\n",
       "      <td>1</td>\n",
       "      <td>1</td>\n",
       "      <td>1.0</td>\n",
       "      <td>6.0</td>\n",
       "      <td>5.761894</td>\n",
       "      <td>0.238106</td>\n",
       "    </tr>\n",
       "    <tr>\n",
       "      <th>2030732</th>\n",
       "      <td>1</td>\n",
       "      <td>0</td>\n",
       "      <td>226</td>\n",
       "      <td>129</td>\n",
       "      <td>0</td>\n",
       "      <td>1</td>\n",
       "      <td>1</td>\n",
       "      <td>1</td>\n",
       "      <td>1.0</td>\n",
       "      <td>7.0</td>\n",
       "      <td>12.500000</td>\n",
       "      <td>5.500000</td>\n",
       "    </tr>\n",
       "    <tr>\n",
       "      <th>1990037</th>\n",
       "      <td>6</td>\n",
       "      <td>16</td>\n",
       "      <td>244</td>\n",
       "      <td>166</td>\n",
       "      <td>0</td>\n",
       "      <td>1</td>\n",
       "      <td>1</td>\n",
       "      <td>2</td>\n",
       "      <td>1.0</td>\n",
       "      <td>11.5</td>\n",
       "      <td>11.380357</td>\n",
       "      <td>0.119643</td>\n",
       "    </tr>\n",
       "    <tr>\n",
       "      <th>1866681</th>\n",
       "      <td>2</td>\n",
       "      <td>12</td>\n",
       "      <td>52</td>\n",
       "      <td>71</td>\n",
       "      <td>0</td>\n",
       "      <td>1</td>\n",
       "      <td>1</td>\n",
       "      <td>1</td>\n",
       "      <td>1.0</td>\n",
       "      <td>23.5</td>\n",
       "      <td>24.150000</td>\n",
       "      <td>0.650000</td>\n",
       "    </tr>\n",
       "  </tbody>\n",
       "</table>\n",
       "</div>"
      ],
      "text/plain": [
       "         day  hour  PULocationID  DOLocationID  airport  RatecodeID  \\\n",
       "1974340    1    22            74            74        0           1   \n",
       "884379     3    22            41            42        0           1   \n",
       "2030732    1     0           226           129        0           1   \n",
       "1990037    6    16           244           166        0           1   \n",
       "1866681    2    12            52            71        0           1   \n",
       "\n",
       "         passenger_count  payment_type  trip_type  actual_fare  \\\n",
       "1974340                1             2        1.0          5.5   \n",
       "884379                 1             1        1.0          6.0   \n",
       "2030732                1             1        1.0          7.0   \n",
       "1990037                1             2        1.0         11.5   \n",
       "1866681                1             1        1.0         23.5   \n",
       "\n",
       "         predicted_fare  difference  \n",
       "1974340        5.318387    0.181613  \n",
       "884379         5.761894    0.238106  \n",
       "2030732       12.500000    5.500000  \n",
       "1990037       11.380357    0.119643  \n",
       "1866681       24.150000    0.650000  "
      ]
     },
     "execution_count": 56,
     "metadata": {},
     "output_type": "execute_result"
    }
   ],
   "source": [
    "result_1.head()"
   ]
  },
  {
   "cell_type": "markdown",
   "metadata": {},
   "source": [
    "# Model Accuracy"
   ]
  },
  {
   "cell_type": "markdown",
   "metadata": {},
   "source": [
    "Model_1 = {'month','day','hour','PULocationID','DOLocationID','fare_amount'}  \n",
    "Model_2 = {'month','day','hour','PULocationID','DOLocationID','fare_amount','airport'}  \n",
    "Model_3 = {'month','day','hour','PULocationID','DOLocationID','fare_amount','airport','trip_distance'}  \n",
    "Model_4 = {'month','day','hour','PULocationID','DOLocationID','fare_amount','airport','trip_duration'}  \n",
    "Model_5 = {'month','day','hour','PULocationID','DOLocationID','fare_amount','airport','trip_distance','trip_duration'}  "
   ]
  },
  {
   "cell_type": "code",
   "execution_count": 57,
   "metadata": {},
   "outputs": [
    {
     "name": "stdout",
     "output_type": "stream",
     "text": [
      "Model_1 Accuracy % : 36.60\n"
     ]
    }
   ],
   "source": [
    "print(\"Model_1 Accuracy % : \" +str((result_1[result_1['difference'] < 1].shape[0]/result_1.shape[0]) * 100)[:5])"
   ]
  }
 ],
 "metadata": {
  "kernelspec": {
   "display_name": "Python 3",
   "language": "python",
   "name": "python3"
  },
  "language_info": {
   "codemirror_mode": {
    "name": "ipython",
    "version": 3
   },
   "file_extension": ".py",
   "mimetype": "text/x-python",
   "name": "python",
   "nbconvert_exporter": "python",
   "pygments_lexer": "ipython3",
   "version": "3.6.5"
  }
 },
 "nbformat": 4,
 "nbformat_minor": 2
}
